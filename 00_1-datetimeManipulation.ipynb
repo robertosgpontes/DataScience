{
 "cells": [
  {
   "source": [
    "## Manipulação de Data e Hora\n",
    "\n",
    "Material de Referência: https://docs.python.org/3/library/datetime.html"
   ],
   "cell_type": "markdown",
   "metadata": {}
  },
  {
   "cell_type": "code",
   "execution_count": 1,
   "metadata": {},
   "outputs": [],
   "source": [
    "from datetime import datetime, timedelta"
   ]
  },
  {
   "source": [
    "### Formatação em string de de Data e Hora\n",
    "\n",
    "| Directive \t| Meaning \t| Example \t|\n",
    "|:-:\t|:-:\t|:-:\t|\n",
    "| %a \t| Weekday as locale’s abbreviated name. \t|  <br>Sun, Mon, …, Sat (en_US);<br> <br>So, Mo, …, Sa (de_DE)   \t|\n",
    "| %A \t| Weekday as locale’s full name. \t|  <br>Sunday, Monday, …, Saturday (en_US);<br> <br>Sonntag, Montag, …, Samstag (de_DE)   \t|\n",
    "| %w \t| Weekday as a decimal number, where 0 is Sunday and 6 is Saturday. \t| 0, 1, …, 6 \t|\n",
    "| %d \t| Day of the month as a zero-padded decimal number. \t| 01, 02, …, 31 \t|\n",
    "| %b \t| Month as locale’s abbreviated name. \t|  <br>Jan, Feb, …, Dec (en_US);<br> <br>Jan, Feb, …, Dez (de_DE)   \t|\n",
    "| %B \t| Month as locale’s full name. \t|  <br>January, February, …, December (en_US);<br> <br>Januar, Februar, …, Dezember (de_DE)   \t|\n",
    "| %m \t| Month as a zero-padded decimal number. \t| 01, 02, …, 12 \t|\n",
    "| %y \t| Year without century as a zero-padded decimal number. \t| 00, 01, …, 99 \t|\n",
    "| %Y \t| Year with century as a decimal number. \t| 0001, 0002, …, 2013, 2014, …, 9998, 9999 \t|\n",
    "| %H \t| Hour (24-hour clock) as a zero-padded decimal number. \t| 00, 01, …, 23 \t|\n",
    "| %I \t| Hour (12-hour clock) as a zero-padded decimal number. \t| 01, 02, …, 12 \t|\n",
    "| %p \t| Locale’s equivalent of either AM or PM. \t|  <br>AM, PM (en_US);<br> <br>am, pm (de_DE)   \t|\n",
    "| %M \t| Minute as a zero-padded decimal number. \t| 00, 01, …, 59 \t|\n",
    "| %S \t| Second as a zero-padded decimal number. \t| 00, 01, …, 59 \t|\n",
    "| %f \t| Microsecond as a decimal number, zero-padded on the left. \t| 000000, 000001, …, 999999 \t|\n",
    "| %z \t| UTC offset in the form ±HHMM[SS[.ffffff]] (empty string if the object is naive). \t| (empty), +0000, -0400, +1030, +063415, -030712.345216 \t|\n",
    "| %Z \t| Time zone name (empty string if the object is naive). \t| (empty), UTC, GMT \t|\n",
    "| %j \t| Day of the year as a zero-padded decimal number. \t| 001, 002, …, 366 \t|\n",
    "| %U \t| Week number of the year (Sunday as the first day of the week) as a zero padded decimal number. All days in a new year preceding the first Sunday are considered to be in week 0. \t| 00, 01, …, 53 \t|\n",
    "| %W \t| Week number of the year (Monday as the first day of the week) as a decimal number. All days in a new year preceding the first Monday are considered to be in week 0. \t| 00, 01, …, 53 \t|\n",
    "| %c \t| Locale’s appropriate date and time representation. \t|  <br>Tue Aug 16 21:30:00 1988 (en_US);<br> <br>Di 16 Aug 21:30:00 1988 (de_DE)   \t|\n",
    "| %x \t| Locale’s appropriate date representation. \t|  <br>08/16/88 (None);<br> <br>08/16/1988 (en_US);<br> <br>16.08.1988 (de_DE)   \t|\n",
    "| %X \t| Locale’s appropriate time representation. \t|  <br>21:30:00 (en_US);<br> <br>21:30:00 (de_DE)   \t|\n",
    "| %% \t| A literal '%' character. \t| % \t|"
   ],
   "cell_type": "markdown",
   "metadata": {}
  },
  {
   "cell_type": "code",
   "execution_count": 2,
   "metadata": {},
   "outputs": [
    {
     "data": {
      "text/plain": [
       "'2021-03-08'"
      ]
     },
     "execution_count": 2,
     "metadata": {},
     "output_type": "execute_result"
    }
   ],
   "source": [
    "datetime.today().strftime('%Y-%m-%d')"
   ]
  },
  {
   "cell_type": "code",
   "execution_count": 4,
   "metadata": {},
   "outputs": [
    {
     "data": {
      "text/plain": [
       "'08_03_2021'"
      ]
     },
     "execution_count": 4,
     "metadata": {},
     "output_type": "execute_result"
    }
   ],
   "source": [
    "datetime.today().strftime('%d_%m_%Y')"
   ]
  },
  {
   "cell_type": "code",
   "execution_count": 5,
   "metadata": {},
   "outputs": [],
   "source": [
    "d = datetime.today() - timedelta(days=1)"
   ]
  },
  {
   "cell_type": "code",
   "execution_count": 6,
   "metadata": {},
   "outputs": [
    {
     "data": {
      "text/plain": [
       "'2021-03-07'"
      ]
     },
     "execution_count": 6,
     "metadata": {},
     "output_type": "execute_result"
    }
   ],
   "source": [
    "d.strftime('%Y-%m-%d')"
   ]
  },
  {
   "cell_type": "code",
   "execution_count": 7,
   "metadata": {},
   "outputs": [
    {
     "data": {
      "text/plain": [
       "'2021-03-07-08:14:57'"
      ]
     },
     "execution_count": 7,
     "metadata": {},
     "output_type": "execute_result"
    }
   ],
   "source": [
    "d.strftime('%Y-%m-%d-%H:%M:%S')"
   ]
  },
  {
   "cell_type": "code",
   "execution_count": 8,
   "metadata": {},
   "outputs": [
    {
     "data": {
      "text/plain": [
       "'2021-03-07T08:14:57.392245'"
      ]
     },
     "execution_count": 8,
     "metadata": {},
     "output_type": "execute_result"
    }
   ],
   "source": [
    "d.isoformat()"
   ]
  },
  {
   "cell_type": "code",
   "execution_count": 10,
   "metadata": {},
   "outputs": [
    {
     "data": {
      "text/plain": [
       "6"
      ]
     },
     "execution_count": 10,
     "metadata": {},
     "output_type": "execute_result"
    }
   ],
   "source": [
    "d.weekday()"
   ]
  },
  {
   "cell_type": "markdown",
   "metadata": {},
   "source": [
    "De 0 até 6 iniciando na segunda-feira"
   ]
  },
  {
   "cell_type": "code",
   "execution_count": 11,
   "metadata": {},
   "outputs": [
    {
     "data": {
      "text/plain": [
       "'Monday'"
      ]
     },
     "execution_count": 11,
     "metadata": {},
     "output_type": "execute_result"
    }
   ],
   "source": [
    "datetime.today().strftime('%A')"
   ]
  },
  {
   "cell_type": "code",
   "execution_count": 13,
   "metadata": {},
   "outputs": [
    {
     "name": "stdout",
     "output_type": "stream",
     "text": [
      "C://Users/Roberto/Algumacoisa/arquivo_08_03_2021.txt\n"
     ]
    }
   ],
   "source": [
    "path = 'C:/Users/Roberto/Algumacoisa/arquivo_' + datetime.today().strftime('%d_%m_%Y') + '.txt'\n",
    "print (path)"
   ]
  },
  {
   "cell_type": "markdown",
   "metadata": {},
   "source": [
    "Feriados:\n",
    "\n",
    "https://pypi.org/project/holidays/\n",
    "\n",
    "\n",
    "\n",
    "https://towardsdatascience.com/5-minute-guide-to-detecting-holidays-in-python-c270f8479387\n",
    "https://www.geeksforgeeks.org/python-holidays-library/\n",
    "\n",
    "\n"
   ]
  }
 ],
 "metadata": {
  "kernelspec": {
   "display_name": "Python 3.8.5 64-bit ('datascience': venv)",
   "language": "python",
   "name": "python38564bitdatasciencevenvc6b0070e1aa0499bb925ccbdc2a8bca5"
  },
  "language_info": {
   "codemirror_mode": {
    "name": "ipython",
    "version": 3
   },
   "file_extension": ".py",
   "mimetype": "text/x-python",
   "name": "python",
   "nbconvert_exporter": "python",
   "pygments_lexer": "ipython3",
   "version": "3.8.5"
  }
 },
 "nbformat": 4,
 "nbformat_minor": 4
}