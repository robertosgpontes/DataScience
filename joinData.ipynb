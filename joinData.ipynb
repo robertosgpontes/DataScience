{
 "metadata": {
  "language_info": {
   "codemirror_mode": {
    "name": "ipython",
    "version": 3
   },
   "file_extension": ".py",
   "mimetype": "text/x-python",
   "name": "python",
   "nbconvert_exporter": "python",
   "pygments_lexer": "ipython3",
   "version": 3
  },
  "orig_nbformat": 2
 },
 "nbformat": 4,
 "nbformat_minor": 2,
 "cells": [
  {
   "cell_type": "code",
   "execution_count": null,
   "metadata": {},
   "outputs": [],
   "source": [
    "import pandas as pd"
   ]
  },
  {
   "cell_type": "code",
   "execution_count": null,
   "metadata": {},
   "outputs": [],
   "source": [
    "df1 = pd.read_csv(\n",
    "    filepath_or_buffer='dataset/mec/microdados_eficiencia_academica_2018.csv',\n",
    "    sep=None,\n",
    "    encoding = \"ISO-8859-9\"\n",
    ")\n",
    "df1"
   ]
  },
  {
   "cell_type": "code",
   "execution_count": null,
   "metadata": {},
   "outputs": [],
   "source": [
    "df2 = pd.read_csv(\n",
    "    filepath_or_buffer='dataset/mec/microdados_eficiencia_academica_2020.csv',\n",
    "    sep=None)\n",
    "df2"
   ]
  },
  {
   "cell_type": "code",
   "execution_count": null,
   "metadata": {},
   "outputs": [],
   "source": [
    "df1 = df1.rename(columns={\"Código da Matrícula\": \"cmdf1\"})\n",
    "df2 = df2.rename(columns={\"Código da Matricula\": \"cmdf2\"})"
   ]
  },
  {
   "cell_type": "code",
   "execution_count": null,
   "metadata": {},
   "outputs": [],
   "source": [
    "df1"
   ]
  },
  {
   "cell_type": "code",
   "execution_count": null,
   "metadata": {},
   "outputs": [],
   "source": [
    "df2"
   ]
  },
  {
   "source": [
    "* left\n",
    "* right\n",
    "* outer\n",
    "* inner"
   ],
   "cell_type": "markdown",
   "metadata": {}
  },
  {
   "cell_type": "code",
   "execution_count": null,
   "metadata": {},
   "outputs": [],
   "source": [
    "result = pd.merge(\n",
    "    left=df1,\n",
    "    right=df2,\n",
    "    left_on='cmdf1',\n",
    "    right_on='cmdf2',\n",
    "    how='inner'\n",
    ")\n",
    "result"
   ]
  }
 ]
}