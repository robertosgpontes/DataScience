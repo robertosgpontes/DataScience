{
 "cells": [
  {
   "cell_type": "markdown",
   "metadata": {},
   "source": [
    "## Web Scraping - Aula 0\n",
    "### Estruturas HTML Básicas\n",
    "\n",
    "Material de Referência: https://www.w3schools.com/html/default.asp"
   ]
  },
  {
   "cell_type": "code",
   "execution_count": 1,
   "metadata": {},
   "outputs": [],
   "source": [
    "import requests"
   ]
  },
  {
   "cell_type": "code",
   "execution_count": 9,
   "metadata": {},
   "outputs": [
    {
     "name": "stdout",
     "output_type": "stream",
     "text": [
      "<html>\n",
      "<head>\n",
      "<title>Profile: Aphrodite</title>\n",
      "</head>\n",
      "<body bgcolor=\"yellow\">\n",
      "<center>\n",
      "<br><br>\n",
      "<img src=\"/static/aphrodite.gif\" />\n",
      "<h2>Name: Aphrodite</h2>\n",
      "<br><br>\n",
      "Favorite animal: Dove\n",
      "<br><br>\n",
      "Favorite color: Red\n",
      "<br><br>\n",
      "Hometown: Mount Olympus\n",
      "</center>\n",
      "</body>\n",
      "</html>\n",
      "\n"
     ]
    }
   ],
   "source": [
    "req1 = requests.get('http://olympus.realpython.org/profiles/aphrodite').text\n",
    "print(req1)"
   ]
  },
  {
   "cell_type": "code",
   "execution_count": 10,
   "metadata": {},
   "outputs": [
    {
     "data": {
      "text/plain": [
       "278"
      ]
     },
     "execution_count": 10,
     "metadata": {},
     "output_type": "execute_result"
    }
   ],
   "source": [
    "len(req1)"
   ]
  },
  {
   "cell_type": "code",
   "execution_count": 6,
   "metadata": {
    "tags": []
   },
   "outputs": [],
   "source": [
    "req = requests.get('http://dhui.cp2.g12.br/').text"
   ]
  },
  {
   "cell_type": "code",
   "execution_count": 8,
   "metadata": {},
   "outputs": [
    {
     "data": {
      "text/plain": [
       "100461"
      ]
     },
     "execution_count": 8,
     "metadata": {},
     "output_type": "execute_result"
    }
   ],
   "source": [
    "len(req)"
   ]
  },
  {
   "cell_type": "markdown",
   "metadata": {},
   "source": [
    "## Estruturas necessárias para os primeiros passos:\n",
    "\n",
    "https://www.w3schools.com/html/html_intro.asp\n",
    "\n",
    "https://www.w3schools.com/html/html_basic.asp\n",
    "\n",
    "https://www.w3schools.com/html/html_tables.asp\n",
    "\n",
    "https://www.w3schools.com/html/html_lists.asp\n",
    "\n",
    "https://www.w3schools.com/html/html_blocks.asp\n",
    "\n",
    "https://www.w3schools.com/html/html_classes.asp\n",
    "\n",
    "https://www.w3schools.com/html/html_id.asp"
   ]
  },
  {
   "source": [
    "## Materias Complementares\n",
    "\n",
    "### Geral\n",
    "\n",
    "https://www.devmedia.com.br/html-basico-codigos-html/16596\n",
    "\n",
    "https://www.homehost.com.br/blog/tutoriais/html-basico/\n",
    "\n",
    "https://developer.mozilla.org/pt-BR/docs/Web/HTML\n",
    "\n",
    "\n",
    "### Divs\n",
    "\n",
    "https://www.homehost.com.br/blog/tutoriais/html-div/\n"
   ],
   "cell_type": "markdown",
   "metadata": {}
  }
 ],
 "metadata": {
  "kernelspec": {
   "display_name": "Python 3.8.5 64-bit ('datascience': venv)",
   "language": "python",
   "name": "python38564bitdatasciencevenvc6b0070e1aa0499bb925ccbdc2a8bca5"
  },
  "language_info": {
   "codemirror_mode": {
    "name": "ipython",
    "version": 3
   },
   "file_extension": ".py",
   "mimetype": "text/x-python",
   "name": "python",
   "nbconvert_exporter": "python",
   "pygments_lexer": "ipython3",
   "version": "3.8.5"
  }
 },
 "nbformat": 4,
 "nbformat_minor": 4
}