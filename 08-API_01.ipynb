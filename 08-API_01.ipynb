{
 "cells": [
  {
   "cell_type": "markdown",
   "metadata": {},
   "source": [
    "# API\n",
    "\n",
    "https://www.nylas.com/blog/use-python-requests-module-rest-apis/\n",
    "\n",
    "https://www.digitalocean.com/community/tutorials/how-to-get-started-with-the-requests-library-in-python-pt\n"
   ]
  },
  {
   "source": [
    "![Pasta de Trabalho Base](fig/api.png)"
   ],
   "cell_type": "markdown",
   "metadata": {}
  },
  {
   "cell_type": "code",
   "execution_count": 1,
   "metadata": {},
   "outputs": [],
   "source": [
    "import requests\n",
    "import pandas as pd"
   ]
  },
  {
   "cell_type": "code",
   "execution_count": 2,
   "metadata": {},
   "outputs": [],
   "source": [
    "response = requests.get(\"http://api.open-notify.org/astros.json\")"
   ]
  },
  {
   "cell_type": "code",
   "execution_count": 3,
   "metadata": {},
   "outputs": [
    {
     "output_type": "execute_result",
     "data": {
      "text/plain": [
       "<Response [200]>"
      ]
     },
     "metadata": {},
     "execution_count": 3
    }
   ],
   "source": [
    "response"
   ]
  },
  {
   "cell_type": "code",
   "execution_count": 4,
   "metadata": {},
   "outputs": [
    {
     "output_type": "execute_result",
     "data": {
      "text/plain": [
       "200"
      ]
     },
     "metadata": {},
     "execution_count": 4
    }
   ],
   "source": [
    "response.status_code"
   ]
  },
  {
   "cell_type": "markdown",
   "metadata": {},
   "source": [
    "Lista de Status de Resposta\n",
    "\n",
    "https://developer.amazon.com/docs/amazon-drive/ad-restful-api-response-codes.html\n",
    "\n",
    "A primeira coisa que podemos fazer é verificar o código de status. Os códigos HTTP variam de 1XX a 5XX. Os códigos de status comuns que você provavelmente viu são 200, 404 e 500.\n",
    "\n",
    "Aqui está uma visão geral rápida do que cada código de status significa:\n",
    "\n",
    "    1XX - Informação\n",
    "    2XX - Sucesso\n",
    "    3XX - Redirecionar\n",
    "    4XX - Erro de cliente (você cometeu um erro)\n",
    "    5XX - Erro de servidor (eles cometeram um erro)\n",
    "\n",
    "Geralmente, o que você está procurando ao realizar suas próprias solicitações são os códigos de status próximos do código 200.\n",
    "\n",
    "A Requests reconhece que os códigos de status 4XX e 5XX são erros. Assim, se esses códigos de status forem retornados, significa que o objeto de resposta da solicitação retorna False.\n"
   ]
  },
  {
   "cell_type": "code",
   "execution_count": 5,
   "metadata": {},
   "outputs": [
    {
     "output_type": "execute_result",
     "data": {
      "text/plain": [
       "{'Server': 'nginx/1.10.3', 'Date': 'Wed, 24 Feb 2021 12:52:16 GMT', 'Content-Type': 'application/json', 'Content-Length': '356', 'Connection': 'keep-alive', 'access-control-allow-origin': '*'}"
      ]
     },
     "metadata": {},
     "execution_count": 5
    }
   ],
   "source": [
    "response.headers"
   ]
  },
  {
   "cell_type": "code",
   "execution_count": 6,
   "metadata": {},
   "outputs": [
    {
     "output_type": "execute_result",
     "data": {
      "text/plain": [
       "'Wed, 24 Feb 2021 12:52:16 GMT'"
      ]
     },
     "metadata": {},
     "execution_count": 6
    }
   ],
   "source": [
    "response.headers['date']"
   ]
  },
  {
   "cell_type": "code",
   "execution_count": 7,
   "metadata": {},
   "outputs": [
    {
     "output_type": "execute_result",
     "data": {
      "text/plain": [
       "b'{\"message\": \"success\", \"number\": 7, \"people\": [{\"craft\": \"ISS\", \"name\": \"Sergey Ryzhikov\"}, {\"craft\": \"ISS\", \"name\": \"Kate Rubins\"}, {\"craft\": \"ISS\", \"name\": \"Sergey Kud-Sverchkov\"}, {\"craft\": \"ISS\", \"name\": \"Mike Hopkins\"}, {\"craft\": \"ISS\", \"name\": \"Victor Glover\"}, {\"craft\": \"ISS\", \"name\": \"Shannon Walker\"}, {\"craft\": \"ISS\", \"name\": \"Soichi Noguchi\"}]}'"
      ]
     },
     "metadata": {},
     "execution_count": 7
    }
   ],
   "source": [
    "response.content # Return the raw bytes of the data payload"
   ]
  },
  {
   "cell_type": "code",
   "execution_count": 8,
   "metadata": {},
   "outputs": [
    {
     "output_type": "execute_result",
     "data": {
      "text/plain": [
       "'{\"message\": \"success\", \"number\": 7, \"people\": [{\"craft\": \"ISS\", \"name\": \"Sergey Ryzhikov\"}, {\"craft\": \"ISS\", \"name\": \"Kate Rubins\"}, {\"craft\": \"ISS\", \"name\": \"Sergey Kud-Sverchkov\"}, {\"craft\": \"ISS\", \"name\": \"Mike Hopkins\"}, {\"craft\": \"ISS\", \"name\": \"Victor Glover\"}, {\"craft\": \"ISS\", \"name\": \"Shannon Walker\"}, {\"craft\": \"ISS\", \"name\": \"Soichi Noguchi\"}]}'"
      ]
     },
     "metadata": {},
     "execution_count": 8
    }
   ],
   "source": [
    "response.text # Return a string representation of the data payload"
   ]
  },
  {
   "cell_type": "code",
   "execution_count": 9,
   "metadata": {},
   "outputs": [
    {
     "output_type": "execute_result",
     "data": {
      "text/plain": [
       "{'message': 'success',\n",
       " 'number': 7,\n",
       " 'people': [{'craft': 'ISS', 'name': 'Sergey Ryzhikov'},\n",
       "  {'craft': 'ISS', 'name': 'Kate Rubins'},\n",
       "  {'craft': 'ISS', 'name': 'Sergey Kud-Sverchkov'},\n",
       "  {'craft': 'ISS', 'name': 'Mike Hopkins'},\n",
       "  {'craft': 'ISS', 'name': 'Victor Glover'},\n",
       "  {'craft': 'ISS', 'name': 'Shannon Walker'},\n",
       "  {'craft': 'ISS', 'name': 'Soichi Noguchi'}]}"
      ]
     },
     "metadata": {},
     "execution_count": 9
    }
   ],
   "source": [
    "response.json() # This method is convenient when the API returns JSON"
   ]
  },
  {
   "cell_type": "code",
   "execution_count": 10,
   "metadata": {},
   "outputs": [
    {
     "output_type": "execute_result",
     "data": {
      "text/plain": [
       "  craft                  name\n",
       "0   ISS       Sergey Ryzhikov\n",
       "1   ISS           Kate Rubins\n",
       "2   ISS  Sergey Kud-Sverchkov\n",
       "3   ISS          Mike Hopkins\n",
       "4   ISS         Victor Glover\n",
       "5   ISS        Shannon Walker\n",
       "6   ISS        Soichi Noguchi"
      ],
      "text/html": "<div>\n<style scoped>\n    .dataframe tbody tr th:only-of-type {\n        vertical-align: middle;\n    }\n\n    .dataframe tbody tr th {\n        vertical-align: top;\n    }\n\n    .dataframe thead th {\n        text-align: right;\n    }\n</style>\n<table border=\"1\" class=\"dataframe\">\n  <thead>\n    <tr style=\"text-align: right;\">\n      <th></th>\n      <th>craft</th>\n      <th>name</th>\n    </tr>\n  </thead>\n  <tbody>\n    <tr>\n      <th>0</th>\n      <td>ISS</td>\n      <td>Sergey Ryzhikov</td>\n    </tr>\n    <tr>\n      <th>1</th>\n      <td>ISS</td>\n      <td>Kate Rubins</td>\n    </tr>\n    <tr>\n      <th>2</th>\n      <td>ISS</td>\n      <td>Sergey Kud-Sverchkov</td>\n    </tr>\n    <tr>\n      <th>3</th>\n      <td>ISS</td>\n      <td>Mike Hopkins</td>\n    </tr>\n    <tr>\n      <th>4</th>\n      <td>ISS</td>\n      <td>Victor Glover</td>\n    </tr>\n    <tr>\n      <th>5</th>\n      <td>ISS</td>\n      <td>Shannon Walker</td>\n    </tr>\n    <tr>\n      <th>6</th>\n      <td>ISS</td>\n      <td>Soichi Noguchi</td>\n    </tr>\n  </tbody>\n</table>\n</div>"
     },
     "metadata": {},
     "execution_count": 10
    }
   ],
   "source": [
    "df = pd.json_normalize(response.json()['people'])\n",
    "df"
   ]
  },
  {
   "cell_type": "code",
   "execution_count": 11,
   "metadata": {},
   "outputs": [
    {
     "output_type": "execute_result",
     "data": {
      "text/plain": [
       "{'message': 'success',\n",
       " 'request': {'altitude': 100,\n",
       "  'datetime': 1614169077,\n",
       "  'latitude': 45.0,\n",
       "  'longitude': 180.0,\n",
       "  'passes': 5},\n",
       " 'response': [{'duration': 545, 'risetime': 1614179922},\n",
       "  {'duration': 654, 'risetime': 1614185648},\n",
       "  {'duration': 633, 'risetime': 1614191483},\n",
       "  {'duration': 628, 'risetime': 1614197332},\n",
       "  {'duration': 655, 'risetime': 1614203150}]}"
      ]
     },
     "metadata": {},
     "execution_count": 11
    }
   ],
   "source": [
    "query = {'lat':'45', 'lon':'180'}\n",
    "response = requests.get('http://api.open-notify.org/iss-pass.json', params=query)\n",
    "response.json()"
   ]
  },
  {
   "cell_type": "code",
   "execution_count": 12,
   "metadata": {},
   "outputs": [
    {
     "output_type": "execute_result",
     "data": {
      "text/plain": [
       "[{'duration': 545, 'risetime': 1614179922},\n",
       " {'duration': 654, 'risetime': 1614185648},\n",
       " {'duration': 633, 'risetime': 1614191483},\n",
       " {'duration': 628, 'risetime': 1614197332},\n",
       " {'duration': 655, 'risetime': 1614203150}]"
      ]
     },
     "metadata": {},
     "execution_count": 12
    }
   ],
   "source": [
    "response.json()['response']"
   ]
  },
  {
   "cell_type": "code",
   "execution_count": 13,
   "metadata": {},
   "outputs": [],
   "source": [
    "params = {'q':'requests+language:python' }\n",
    "\n",
    "r = requests.get(\n",
    "    'https://api.github.com/search/repositories',\n",
    "     params=b'q=requests+language:python')"
   ]
  },
  {
   "cell_type": "code",
   "execution_count": 14,
   "metadata": {},
   "outputs": [
    {
     "output_type": "execute_result",
     "data": {
      "text/plain": [
       "pulec/uncurl/collaborators{/collaborator}',\n",
       "   'teams_url': 'https://api.github.com/repos/spulec/uncurl/teams',\n",
       "   'hooks_url': 'https://api.github.com/repos/spulec/uncurl/hooks',\n",
       "   'issue_events_url': 'https://api.github.com/repos/spulec/uncurl/issues/events{/number}',\n",
       "   'events_url': 'https://api.github.com/repos/spulec/uncurl/events',\n",
       "   'assignees_url': 'https://api.github.com/repos/spulec/uncurl/assignees{/user}',\n",
       "   'branches_url': 'https://api.github.com/repos/spulec/uncurl/branches{/branch}',\n",
       "   'tags_url': 'https://api.github.com/repos/spulec/uncurl/tags',\n",
       "   'blobs_url': 'https://api.github.com/repos/spulec/uncurl/git/blobs{/sha}',\n",
       "   'git_tags_url': 'https://api.github.com/repos/spulec/uncurl/git/tags{/sha}',\n",
       "   'git_refs_url': 'https://api.github.com/repos/spulec/uncurl/git/refs{/sha}',\n",
       "   'trees_url': 'https://api.github.com/repos/spulec/uncurl/git/trees{/sha}',\n",
       "   'statuses_url': 'https://api.github.com/repos/spulec/uncurl/statuses/{sha}',\n",
       "   'languages_url': 'https://api.github.com/repos/spulec/uncurl/languages',\n",
       "   'stargazers_url': 'https://api.github.com/repos/spulec/uncurl/stargazers',\n",
       "   'contributors_url': 'https://api.github.com/repos/spulec/uncurl/contributors',\n",
       "   'subscribers_url': 'https://api.github.com/repos/spulec/uncurl/subscribers',\n",
       "   'subscription_url': 'https://api.github.com/repos/spulec/uncurl/subscription',\n",
       "   'commits_url': 'https://api.github.com/repos/spulec/uncurl/commits{/sha}',\n",
       "   'git_commits_url': 'https://api.github.com/repos/spulec/uncurl/git/commits{/sha}',\n",
       "   'comments_url': 'https://api.github.com/repos/spulec/uncurl/comments{/number}',\n",
       "   'issue_comment_url': 'https://api.github.com/repos/spulec/uncurl/issues/comments{/number}',\n",
       "   'contents_url': 'https://api.github.com/repos/spulec/uncurl/contents/{+path}',\n",
       "   'compare_url': 'https://api.github.com/repos/spulec/uncurl/compare/{base}...{head}',\n",
       "   'merges_url': 'https://api.github.com/repos/spulec/uncurl/merges',\n",
       "   'archive_url': 'https://api.github.com/repos/spulec/uncurl/{archive_format}{/ref}',\n",
       "   'downloads_url': 'https://api.github.com/repos/spulec/uncurl/downloads',\n",
       "   'issues_url': 'https://api.github.com/repos/spulec/uncurl/issues{/number}',\n",
       "   'pulls_url': 'https://api.github.com/repos/spulec/uncurl/pulls{/number}',\n",
       "   'milestones_url': 'https://api.github.com/repos/spulec/uncurl/milestones{/number}',\n",
       "   'notifications_url': 'https://api.github.com/repos/spulec/uncurl/notifications{?since,all,participating}',\n",
       "   'labels_url': 'https://api.github.com/repos/spulec/uncurl/labels{/name}',\n",
       "   'releases_url': 'https://api.github.com/repos/spulec/uncurl/releases{/id}',\n",
       "   'deployments_url': 'https://api.github.com/repos/spulec/uncurl/deployments',\n",
       "   'created_at': '2014-04-05T16:33:05Z',\n",
       "   'updated_at': '2021-02-19T11:09:40Z',\n",
       "   'pushed_at': '2020-12-18T00:42:20Z',\n",
       "   'git_url': 'git://github.com/spulec/uncurl.git',\n",
       "   'ssh_url': 'git@github.com:spulec/uncurl.git',\n",
       "   'clone_url': 'https://github.com/spulec/uncurl.git',\n",
       "   'svn_url': 'https://github.com/spulec/uncurl',\n",
       "   'homepage': None,\n",
       "   'size': 52,\n",
       "   'stargazers_count': 381,\n",
       "   'watchers_count': 381,\n",
       "   'language': 'Python',\n",
       "   'has_issues': True,\n",
       "   'has_projects': True,\n",
       "   'has_downloads': True,\n",
       "   'has_wiki': True,\n",
       "   'has_pages': False,\n",
       "   'forks_count': 60,\n",
       "   'mirror_url': None,\n",
       "   'archived': False,\n",
       "   'disabled': False,\n",
       "   'open_issues_count': 12,\n",
       "   'license': {'key': 'apache-2.0',\n",
       "    'name': 'Apache License 2.0',\n",
       "    'spdx_id': 'Apache-2.0',\n",
       "    'url': 'https://api.github.com/licenses/apache-2.0',\n",
       "    'node_id': 'MDc6TGljZW5zZTI='},\n",
       "   'forks': 60,\n",
       "   'open_issues': 12,\n",
       "   'watchers': 381,\n",
       "   'default_branch': 'master',\n",
       "   'score': 1.0},\n",
       "  {'id': 40554408,\n",
       "   'node_id': 'MDEwOlJlcG9zaXRvcnk0MDU1NDQwOA==',\n",
       "   'name': 'dnsteal',\n",
       "   'full_name': 'm57/dnsteal',\n",
       "   'private': False,\n",
       "   'owner': {'login': 'm57',\n",
       "    'id': 6309826,\n",
       "    'node_id': 'MDQ6VXNlcjYzMDk4MjY=',\n",
       "    'avatar_url': 'https://avatars.githubusercontent.com/u/6309826?v=4',\n",
       "    'gravatar_id': '',\n",
       "    'url': 'https://api.github.com/users/m57',\n",
       "    'html_url': 'https://github.com/m57',\n",
       "    'followers_url': 'https://api.github.com/users/m57/followers',\n",
       "    'following_url': 'https://api.github.com/users/m57/following{/other_user}',\n",
       "    'gists_url': 'https://api.github.com/users/m57/gists{/gist_id}',\n",
       "    'starred_url': 'https://api.github.com/users/m57/starred{/owner}{/repo}',\n",
       "    'subscriptions_url': 'https://api.github.com/users/m57/subscriptions',\n",
       "    'organizations_url': 'https://api.github.com/users/m57/orgs',\n",
       "    'repos_url': 'https://api.github.com/users/m57/repos',\n",
       "    'events_url': 'https://api.github.com/users/m57/events{/privacy}',\n",
       "    'received_events_url': 'https://api.github.com/users/m57/received_events',\n",
       "    'type': 'User',\n",
       "    'site_admin': False},\n",
       "   'html_url': 'https://github.com/m57/dnsteal',\n",
       "   'description': 'DNS Exfiltration tool for stealthily sending files over DNS requests.',\n",
       "   'fork': False,\n",
       "   'url': 'https://api.github.com/repos/m57/dnsteal',\n",
       "   'forks_url': 'https://api.github.com/repos/m57/dnsteal/forks',\n",
       "   'keys_url': 'https://api.github.com/repos/m57/dnsteal/keys{/key_id}',\n",
       "   'collaborators_url': 'https://api.github.com/repos/m57/dnsteal/collaborators{/collaborator}',\n",
       "   'teams_url': 'https://api.github.com/repos/m57/dnsteal/teams',\n",
       "   'hooks_url': 'https://api.github.com/repos/m57/dnsteal/hooks',\n",
       "   'issue_events_url': 'https://api.github.com/repos/m57/dnsteal/issues/events{/number}',\n",
       "   'events_url': 'https://api.github.com/repos/m57/dnsteal/events',\n",
       "   'assignees_url': 'https://api.github.com/repos/m57/dnsteal/assignees{/user}',\n",
       "   'branches_url': 'https://api.github.com/repos/m57/dnsteal/branches{/branch}',\n",
       "   'tags_url': 'https://api.github.com/repos/m57/dnsteal/tags',\n",
       "   'blobs_url': 'https://api.github.com/repos/m57/dnsteal/git/blobs{/sha}',\n",
       "   'git_tags_url': 'https://api.github.com/repos/m57/dnsteal/git/tags{/sha}',\n",
       "   'git_refs_url': 'https://api.github.com/repos/m57/dnsteal/git/refs{/sha}',\n",
       "   'trees_url': 'https://api.github.com/repos/m57/dnsteal/git/trees{/sha}',\n",
       "   'statuses_url': 'https://api.github.com/repos/m57/dnsteal/statuses/{sha}',\n",
       "   'languages_url': 'https://api.github.com/repos/m57/dnsteal/languages',\n",
       "   'stargazers_url': 'https://api.github.com/repos/m57/dnsteal/stargazers',\n",
       "   'contributors_url': 'https://api.github.com/repos/m57/dnsteal/contributors',\n",
       "   'subscribers_url': 'https://api.github.com/repos/m57/dnsteal/subscribers',\n",
       "   'subscription_url': 'https://api.github.com/repos/m57/dnsteal/subscription',\n",
       "   'commits_url': 'https://api.github.com/repos/m57/dnsteal/commits{/sha}',\n",
       "   'git_commits_url': 'https://api.github.com/repos/m57/dnsteal/git/commits{/sha}',\n",
       "   'comments_url': 'https://api.github.com/repos/m57/dnsteal/comments{/number}',\n",
       "   'issue_comment_url': 'https://api.github.com/repos/m57/dnsteal/issues/comments{/number}',\n",
       "   'contents_url': 'https://api.github.com/repos/m57/dnsteal/contents/{+path}',\n",
       "   'compare_url': 'https://api.github.com/repos/m57/dnsteal/compare/{base}...{head}',\n",
       "   'merges_url': 'https://api.github.com/repos/m57/dnsteal/merges',\n",
       "   'archive_url': 'https://api.github.com/repos/m57/dnsteal/{archive_format}{/ref}',\n",
       "   'downloads_url': 'https://api.github.com/repos/m57/dnsteal/downloads',\n",
       "   'issues_url': 'https://api.github.com/repos/m57/dnsteal/issues{/number}',\n",
       "   'pulls_url': 'https://api.github.com/repos/m57/dnsteal/pulls{/number}',\n",
       "   'milestones_url': 'https://api.github.com/repos/m57/dnsteal/milestones{/number}',\n",
       "   'notifications_url': 'https://api.github.com/repos/m57/dnsteal/notifications{?since,all,participating}',\n",
       "   'labels_url': 'https://api.github.com/repos/m57/dnsteal/labels{/name}',\n",
       "   'releases_url': 'https://api.github.com/repos/m57/dnsteal/releases{/id}',\n",
       "   'deployments_url': 'https://api.github.com/repos/m57/dnsteal/deployments',\n",
       "   'created_at': '2015-08-11T17:02:58Z',\n",
       "   'updated_at': '2021-02-20T03:25:20Z',\n",
       "   'pushed_at': '2020-04-23T10:37:47Z',\n",
       "   'git_url': 'git://github.com/m57/dnsteal.git',\n",
       "   'ssh_url': 'git@github.com:m57/dnsteal.git',\n",
       "   'clone_url': 'https://github.com/m57/dnsteal.git',\n",
       "   'svn_url': 'https://github.com/m57/dnsteal',\n",
       "   'homepage': None,\n",
       "   'size': 101,\n",
       "   'stargazers_count': 1183,\n",
       "   'watchers_count': 1183,\n",
       "   'language': 'Python',\n",
       "   'has_issues': True,\n",
       "   'has_projects': True,\n",
       "   'has_downloads': True,\n",
       "   'has_wiki': True,\n",
       "   'has_pages': False,\n",
       "   'forks_count': 193,\n",
       "   'mirror_url': None,\n",
       "   'archived': False,\n",
       "   'disabled': False,\n",
       "   'open_issues_count': 4,\n",
       "   'license': {'key': 'gpl-2.0',\n",
       "    'name': 'GNU General Public License v2.0',\n",
       "    'spdx_id': 'GPL-2.0',\n",
       "    'url': 'https://api.github.com/licenses/gpl-2.0',\n",
       "    'node_id': 'MDc6TGljZW5zZTg='},\n",
       "   'forks': 193,\n",
       "   'open_issues': 4,\n",
       "   'watchers': 1183,\n",
       "   'default_branch': 'master',\n",
       "   'score': 1.0},\n",
       "  {'id': 2495573,\n",
       "   'node_id': 'MDEwOlJlcG9zaXRvcnkyNDk1NTcz',\n",
       "   'name': 'requests-oauth',\n",
       "   'full_name': 'maraujop/requests-oauth',\n",
       "   'private': False,\n",
       "   'owner': {'login': 'maraujop',\n",
       "    'id': 252257,\n",
       "    'node_id': 'MDQ6VXNlcjI1MjI1Nw==',\n",
       "    'avatar_url': 'https://avatars.githubusercontent.com/u/252257?v=4',\n",
       "    'gravatar_id': '',\n",
       "    'url': 'https://api.github.com/users/maraujop',\n",
       "    'html_url': 'https://github.com/maraujop',\n",
       "    'followers_url': 'https://api.github.com/users/maraujop/followers',\n",
       "    'following_url': 'https://api.github.com/users/maraujop/following{/other_user}',\n",
       "    'gists_url': 'https://api.github.com/users/maraujop/gists{/gist_id}',\n",
       "    'starred_url': 'https://api.github.com/users/maraujop/starred{/owner}{/repo}',\n",
       "    'subscriptions_url': 'https://api.github.com/users/maraujop/subscriptions',\n",
       "    'organizations_url': 'https://api.github.com/users/maraujop/orgs',\n",
       "    'repos_url': 'https://api.github.com/users/maraujop/repos',\n",
       "    'events_url': 'https://api.github.com/users/maraujop/events{/privacy}',\n",
       "    'received_events_url': 'https://api.github.com/users/maraujop/received_events',\n",
       "    'type': 'User',\n",
       "    'site_admin': False},\n",
       "   'html_url': 'https://github.com/maraujop/requests-oauth',\n",
       "   'description': \"Python's Requests OAuth (Open Authentication) plugin\",\n",
       "   'fork': False,\n",
       "   'url': 'https://api.github.com/repos/maraujop/requests-oauth',\n",
       "   'forks_url': 'https://api.github.com/repos/maraujop/requests-oauth/forks',\n",
       "   'keys_url': 'https://api.github.com/repos/maraujop/requests-oauth/keys{/key_id}',\n",
       "   'collaborators_url': 'https://api.github.com/repos/maraujop/requests-oauth/collaborators{/collaborator}',\n",
       "   'teams_url': 'https://api.github.com/repos/maraujop/requests-oauth/teams',\n",
       "   'hooks_url': 'https://api.github.com/repos/maraujop/requests-oauth/hooks',\n",
       "   'issue_events_url': 'https://api.github.com/repos/maraujop/requests-oauth/issues/events{/number}',\n",
       "   'events_url': 'https://api.github.com/repos/maraujop/requests-oauth/events',\n",
       "   'assignees_url': 'https://api.github.com/repos/maraujop/requests-oauth/assignees{/user}',\n",
       "   'branches_url': 'https://api.github.com/repos/maraujop/requests-oauth/branches{/branch}',\n",
       "   'tags_url': 'https://api.github.com/repos/maraujop/requests-oauth/tags',\n",
       "   'blobs_url': 'https://api.github.com/repos/maraujop/requests-oauth/git/blobs{/sha}',\n",
       "   'git_tags_url': 'https://api.github.com/repos/maraujop/requests-oauth/git/tags{/sha}',\n",
       "   'git_refs_url': 'https://api.github.com/repos/maraujop/requests-oauth/git/refs{/sha}',\n",
       "   'trees_url': 'https://api.github.com/repos/maraujop/requests-oauth/git/trees{/sha}',\n",
       "   'statuses_url': 'https://api.github.com/repos/maraujop/requests-oauth/statuses/{sha}',\n",
       "   'languages_url': 'https://api.github.com/repos/maraujop/requests-oauth/languages',\n",
       "   'stargazers_url': 'https://api.github.com/repos/maraujop/requests-oauth/stargazers',\n",
       "   'contributors_url': 'https://api.github.com/repos/maraujop/requests-oauth/contributors',\n",
       "   'subscribers_url': 'https://api.github.com/repos/maraujop/requests-oauth/subscribers',\n",
       "   'subscription_url': 'https://api.github.com/repos/maraujop/requests-oauth/subscription',\n",
       "   'commits_url': 'https://api.github.com/repos/maraujop/requests-oauth/commits{/sha}',\n",
       "   'git_commits_url': 'https://api.github.com/repos/maraujop/requests-oauth/git/commits{/sha}',\n",
       "   'comments_url': 'https://api.github.com/repos/maraujop/requests-oauth/comments{/number}',\n",
       "   'issue_comment_url': 'https://api.github.com/repos/maraujop/requests-oauth/issues/comments{/number}',\n",
       "   'contents_url': 'https://api.github.com/repos/maraujop/requests-oauth/contents/{+path}',\n",
       "   'compare_url': 'https://api.github.com/repos/maraujop/requests-oauth/compare/{base}...{head}',\n",
       "   'merges_url': 'https://api.github.com/repos/maraujop/requests-oauth/merges',\n",
       "   'archive_url': 'https://api.github.com/repos/maraujop/requests-oauth/{archive_format}{/ref}',\n",
       "   'downloads_url': 'https://api.github.com/repos/maraujop/requests-oauth/downloads',\n",
       "   'issues_url': 'https://api.github.com/repos/maraujop/requests-oauth/issues{/number}',\n",
       "   'pulls_url': 'https://api.github.com/repos/maraujop/requests-oauth/pulls{/number}',\n",
       "   'milestones_url': 'https://api.github.com/repos/maraujop/requests-oauth/milestones{/number}',\n",
       "   'notifications_url': 'https://api.github.com/repos/maraujop/requests-oauth/notifications{?since,all,participating}',\n",
       "   'labels_url': 'https://api.github.com/repos/maraujop/requests-oauth/labels{/name}',\n",
       "   'releases_url': 'https://api.github.com/repos/maraujop/requests-oauth/releases{/id}',\n",
       "   'deployments_url': 'https://api.github.com/repos/maraujop/requests-oauth/deployments',\n",
       "   'created_at': '2011-10-01T16:44:12Z',\n",
       "   'updated_at': '2020-07-07T17:46:41Z',\n",
       "   'pushed_at': '2012-06-21T07:15:01Z',\n",
       "   'git_url': 'git://github.com/maraujop/requests-oauth.git',\n",
       "   'ssh_url': 'git@github.com:maraujop/requests-oauth.git',\n",
       "   'clone_url': 'https://github.com/maraujop/requests-oauth.git',\n",
       "   'svn_url': 'https://github.com/maraujop/requests-oauth',\n",
       "   'homepage': '',\n",
       "   'size': 248,\n",
       "   'stargazers_count': 191,\n",
       "   'watchers_count': 191,\n",
       "   'language': 'Python',\n",
       "   'has_issues': True,\n",
       "   'has_projects': True,\n",
       "   'has_downloads': True,\n",
       "   'has_wiki': False,\n",
       "   'has_pages': True,\n",
       "   'forks_count': 31,\n",
       "   'mirror_url': None,\n",
       "   'archived': False,\n",
       "   'disabled': False,\n",
       "   'open_issues_count': 16,\n",
       "   'license': {'key': 'bsd-3-clause',\n",
       "    'name': 'BSD 3-Clause \"New\" or \"Revised\" License',\n",
       "    'spdx_id': 'BSD-3-Clause',\n",
       "    'url': 'https://api.github.com/licenses/bsd-3-clause',\n",
       "    'node_id': 'MDc6TGljZW5zZTU='},\n",
       "   'forks': 31,\n",
       "   'open_issues': 16,\n",
       "   'watchers': 191,\n",
       "   'default_branch': 'dev',\n",
       "   'score': 1.0},\n",
       "  {'id': 93297960,\n",
       "   'node_id': 'MDEwOlJlcG9zaXRvcnk5MzI5Nzk2MA==',\n",
       "   'name': 'jiekou-python3',\n",
       "   'full_name': 'liwanlei/jiekou-python3',\n",
       "   'private': False,\n",
       "   'owner': {'login': 'liwanlei',\n",
       "    'id': 19774834,\n",
       "    'node_id': 'MDQ6VXNlcjE5Nzc0ODM0',\n",
       "    'avatar_url': 'https://avatars.githubusercontent.com/u/19774834?v=4',\n",
       "    'gravatar_id': '',\n",
       "    'url': 'https://api.github.com/users/liwanlei',\n",
       "    'html_url': 'https://github.com/liwanlei',\n",
       "    'followers_url': 'https://api.github.com/users/liwanlei/followers',\n",
       "    'following_url': 'https://api.github.com/users/liwanlei/following{/other_user}',\n",
       "    'gists_url': 'https://api.github.com/users/liwanlei/gists{/gist_id}',\n",
       "    'starred_url': 'https://api.github.com/users/liwanlei/starred{/owner}{/repo}',\n",
       "    'subscriptions_url': 'https://api.github.com/users/liwanlei/subscriptions',\n",
       "    'organizations_url': 'https://api.github.com/users/liwanlei/orgs',\n",
       "    'repos_url': 'https://api.github.com/users/liwanlei/repos',\n",
       "    'events_url': 'https://api.github.com/users/liwanlei/events{/privacy}',\n",
       "    'received_events_url': 'https://api.github.com/users/liwanlei/received_events',\n",
       "    'type': 'User',\n",
       "    'site_admin': False},\n",
       "   'html_url': 'https://github.com/liwanlei/jiekou-python3',\n",
       "   'description': '接口自动化测试框架——python版，支持HTTP，dubbo协议接口',\n",
       "   'fork': False,\n",
       "   'url': 'https://api.github.com/repos/liwanlei/jiekou-python3',\n",
       "   'forks_url': 'https://api.github.com/repos/liwanlei/jiekou-python3/forks',\n",
       "   'keys_url': 'https://api.github.com/repos/liwanlei/jiekou-python3/keys{/key_id}',\n",
       "   'collaborators_url': 'https://api.github.com/repos/liwanlei/jiekou-python3/collaborators{/collaborator}',\n",
       "   'teams_url': 'https://api.github.com/repos/liwanlei/jiekou-python3/teams',\n",
       "   'hooks_url': 'https://api.github.com/repos/liwanlei/jiekou-python3/hooks',\n",
       "   'issue_events_url': 'https://api.github.com/repos/liwanlei/jiekou-python3/issues/events{/number}',\n",
       "   'events_url': 'https://api.github.com/repos/liwanlei/jiekou-python3/events',\n",
       "   'assignees_url': 'https://api.github.com/repos/liwanlei/jiekou-python3/assignees{/user}',\n",
       "   'branches_url': 'https://api.github.com/repos/liwanlei/jiekou-python3/branches{/branch}',\n",
       "   'tags_url': 'https://api.github.com/repos/liwanlei/jiekou-python3/tags',\n",
       "   'blobs_url': 'https://api.github.com/repos/liwanlei/jiekou-python3/git/blobs{/sha}',\n",
       "   'git_tags_url': 'https://api.github.com/repos/liwanlei/jiekou-python3/git/tags{/sha}',\n",
       "   'git_refs_url': 'https://api.github.com/repos/liwanlei/jiekou-python3/git/refs{/sha}',\n",
       "   'trees_url': 'https://api.github.com/repos/liwanlei/jiekou-python3/git/trees{/sha}',\n",
       "   'statuses_url': 'https://api.github.com/repos/liwanlei/jiekou-python3/statuses/{sha}',\n",
       "   'languages_url': 'https://api.github.com/repos/liwanlei/jiekou-python3/languages',\n",
       "   'stargazers_url': 'https://api.github.com/repos/liwanlei/jiekou-python3/stargazers',\n",
       "   'contributors_url': 'https://api.github.com/repos/liwanlei/jiekou-python3/contributors',\n",
       "   'subscribers_url': 'https://api.github.com/repos/liwanlei/jiekou-python3/subscribers',\n",
       "   'subscription_url': 'https://api.github.com/repos/liwanlei/jiekou-python3/subscription',\n",
       "   'commits_url': 'https://api.github.com/repos/liwanlei/jiekou-python3/commits{/sha}',\n",
       "   'git_commits_url': 'https://api.github.com/repos/liwanlei/jiekou-python3/git/commits{/sha}',\n",
       "   'comments_url': 'https://api.github.com/repos/liwanlei/jiekou-python3/comments{/number}',\n",
       "   'issue_comment_url': 'https://api.github.com/repos/liwanlei/jiekou-python3/issues/comments{/number}',\n",
       "   'contents_url': 'https://api.github.com/repos/liwanlei/jiekou-python3/contents/{+path}',\n",
       "   'compare_url': 'https://api.github.com/repos/liwanlei/jiekou-python3/compare/{base}...{head}',\n",
       "   'merges_url': 'https://api.github.com/repos/liwanlei/jiekou-python3/merges',\n",
       "   'archive_url': 'https://api.github.com/repos/liwanlei/jiekou-python3/{archive_format}{/ref}',\n",
       "   'downloads_url': 'https://api.github.com/repos/liwanlei/jiekou-python3/downloads',\n",
       "   'issues_url': 'https://api.github.com/repos/liwanlei/jiekou-python3/issues{/number}',\n",
       "   'pulls_url': 'https://api.github.com/repos/liwanlei/jiekou-python3/pulls{/number}',\n",
       "   'milestones_url': 'https://api.github.com/repos/liwanlei/jiekou-python3/milestones{/number}',\n",
       "   'notifications_url': 'https://api.github.com/repos/liwanlei/jiekou-python3/notifications{?since,all,participating}',\n",
       "   'labels_url': 'https://api.github.com/repos/liwanlei/jiekou-python3/labels{/name}',\n",
       "   'releases_url': 'https://api.github.com/repos/liwanlei/jiekou-python3/releases{/id}',\n",
       "   'deployments_url': 'https://api.github.com/repos/liwanlei/jiekou-python3/deployments',\n",
       "   'created_at': '2017-06-04T07:42:03Z',\n",
       "   'updated_at': '2021-02-17T01:20:07Z',\n",
       "   'pushed_at': '2020-11-22T03:24:51Z',\n",
       "   'git_url': 'git://github.com/liwanlei/jiekou-python3.git',\n",
       "   'ssh_url': 'git@github.com:liwanlei/jiekou-python3.git',\n",
       "   'clone_url': 'https://github.com/liwanlei/jiekou-python3.git',\n",
       "   'svn_url': 'https://github.com/liwanlei/jiekou-python3',\n",
       "   'homepage': '',\n",
       "   'size': 1898,\n",
       "   'stargazers_count': 461,\n",
       "   'watchers_count': 461,\n",
       "   'language': 'Python',\n",
       "   'has_issues': True,\n",
       "   'has_projects': True,\n",
       "   'has_downloads': True,\n",
       "   'has_wiki': True,\n",
       "   'has_pages': False,\n",
       "   'forks_count': 322,\n",
       "   'mirror_url': None,\n",
       "   'archived': False,\n",
       "   'disabled': False,\n",
       "   'open_issues_count': 17,\n",
       "   'license': None,\n",
       "   'forks': 322,\n",
       "   'open_issues': 17,\n",
       "   'watchers': 461,\n",
       "   'default_branch': 'master',\n",
       "   'score': 1.0}]}"
      ]
     },
     "metadata": {},
     "execution_count": 14
    }
   ],
   "source": [
    "r.json()"
   ]
  },
  {
   "cell_type": "code",
   "execution_count": 15,
   "metadata": {},
   "outputs": [
    {
     "output_type": "execute_result",
     "data": {
      "text/plain": [
       "{'args': {},\n",
       " 'data': '',\n",
       " 'files': {},\n",
       " 'form': {'key1': 'value1', 'key2': 'value2'},\n",
       " 'headers': {'Accept': '*/*',\n",
       "  'Accept-Encoding': 'gzip, deflate',\n",
       "  'Content-Length': '23',\n",
       "  'Content-Type': 'application/x-www-form-urlencoded',\n",
       "  'Host': 'httpbin.org',\n",
       "  'User-Agent': 'python-requests/2.25.1',\n",
       "  'X-Amzn-Trace-Id': 'Root=1-60364c05-1a53592b31dcbc70060c5b7f'},\n",
       " 'json': None,\n",
       " 'origin': '191.43.48.209',\n",
       " 'url': 'http://httpbin.org/post'}"
      ]
     },
     "metadata": {},
     "execution_count": 15
    }
   ],
   "source": [
    "params = {\n",
    "    'key1': 'value1', \n",
    "    'key2': 'value2'}\n",
    "\n",
    "r = requests.post(\"http://httpbin.org/post\", data=params)\n",
    "r.json()"
   ]
  },
  {
   "cell_type": "code",
   "execution_count": 16,
   "metadata": {},
   "outputs": [
    {
     "output_type": "execute_result",
     "data": {
      "text/plain": [
       "'http://httpbin.org/post'"
      ]
     },
     "metadata": {},
     "execution_count": 16
    }
   ],
   "source": [
    "r.url"
   ]
  },
  {
   "cell_type": "code",
   "execution_count": 17,
   "metadata": {},
   "outputs": [
    {
     "output_type": "execute_result",
     "data": {
      "text/plain": [
       "'http://api.open-notify.org/iss-pass.json?lat=45&lon=180'"
      ]
     },
     "metadata": {},
     "execution_count": 17
    }
   ],
   "source": [
    "response.url"
   ]
  },
  {
   "cell_type": "markdown",
   "metadata": {},
   "source": [
    "Leitura Complementar:\n",
    "\n",
    "https://requests.readthedocs.io/pt_BR/latest/user/quickstart.html\n",
    "\n",
    "https://realpython.com/python-requests/\n",
    "\n",
    "https://developer.amazon.com/docs/amazon-drive/ad-restful-api-response-codes.html\n",
    "\n"
   ]
  }
 ],
 "metadata": {
  "kernelspec": {
   "display_name": "Python 3.8.5 64-bit ('datascience': venv)",
   "language": "python",
   "name": "python38564bitdatasciencevenvc6b0070e1aa0499bb925ccbdc2a8bca5"
  },
  "language_info": {
   "codemirror_mode": {
    "name": "ipython",
    "version": 3
   },
   "file_extension": ".py",
   "mimetype": "text/x-python",
   "name": "python",
   "nbconvert_exporter": "python",
   "pygments_lexer": "ipython3",
   "version": "3.8.5-final"
  }
 },
 "nbformat": 4,
 "nbformat_minor": 4
}