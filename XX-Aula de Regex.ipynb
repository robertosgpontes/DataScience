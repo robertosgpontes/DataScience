{
 "cells": [
  {
   "cell_type": "markdown",
   "metadata": {},
   "source": [
    "https://towardsdatascience.com/simple-beginning-to-web-scraping-ef2f2287aff9\n",
    "\n",
    "https://realpython.com/beautiful-soup-web-scraper-python/\n",
    "\n",
    "https://realpython.com/python-web-scraping-practical-introduction/"
   ]
  },
  {
   "cell_type": "code",
   "execution_count": 2,
   "metadata": {},
   "outputs": [],
   "source": [
    "import requests\n",
    "from bs4 import BeautifulSoup, Comment\n",
    "import pandas as pd\n",
    "import re\n",
    "import matplotlib.pyplot as plt"
   ]
  },
  {
   "cell_type": "code",
   "execution_count": 6,
   "metadata": {},
   "outputs": [],
   "source": [
    "url = 'https://github.com/robertosgpontes?tab=repositories'\n",
    "content = requests.get(url).text"
   ]
  },
  {
   "cell_type": "code",
   "execution_count": 7,
   "metadata": {},
   "outputs": [
    {
     "data": {
      "text/plain": [
       "\"M3.72 3.72a.75.75 0 011.06 0L8 6.94l3.22-3.22a.75.75 0 111.06 1.06L9.06 8l3.22 3.22a.75.75 0 11-1.06 1.06L8 9.06l-3.22 3.22a.75.75 0 01-1.06-1.06L6.94 8 3.72 4.78a.75.75 0 010-1.06z\"></path></svg></button>\\n            </header>\\n            <div class=\"SelectMenu-list\">\\n                <label class=\"SelectMenu-item\" role=\"menuitemradio\" aria-checked=\"true\" tabindex=\"0\">\\n                  <input type=\"radio\" name=\"type\" id=\"type_\" value=\"\" hidden=\"hidden\" data-autosubmit=\"true\" checked=\"checked\" />\\n                  <svg class=\"octicon octicon-check SelectMenu-icon SelectMenu-icon--check\" viewBox=\"0 0 16 16\" version=\"1.1\" width=\"16\" height=\"16\" aria-hidden=\"true\"><path fill-rule=\"evenodd\" d=\"M13.78 4.22a.75.75 0 010 1.06l-7.25 7.25a.75.75 0 01-1.06 0L2.22 9.28a.75.75 0 011.06-1.06L6 10.94l6.72-6.72a.75.75 0 011.06 0z\"></path></svg>\\n                  <span class=\"text-normal\" data-menu-button-text>All</span>\\n                </label>\\n                <label class=\"SelectMenu-item\" role=\"menuitemradio\" aria-checked=\"false\" tabindex=\"0\">\\n                  <input type=\"radio\" name=\"type\" id=\"type_source\" value=\"source\" hidden=\"hidden\" data-autosubmit=\"true\" />\\n                  <svg class=\"octicon octicon-check SelectMenu-icon SelectMenu-icon--check\" viewBox=\"0 0 16 16\" version=\"1.1\" width=\"16\" height=\"16\" aria-hidden=\"true\"><path fill-rule=\"evenodd\" d=\"M13.78 4.22a.75.75 0 010 1.06l-7.25 7.25a.75.75 0 01-1.06 0L2.22 9.28a.75.75 0 011.06-1.06L6 10.94l6.72-6.72a.75.75 0 011.06 0z\"></path></svg>\\n                  <span class=\"text-normal\" data-menu-button-text>Sources</span>\\n                </label>\\n                <label class=\"SelectMenu-item\" role=\"menuitemradio\" aria-checked=\"false\" tabindex=\"0\">\\n                  <input type=\"radio\" name=\"type\" id=\"type_fork\" value=\"fork\" hidden=\"hidden\" data-autosubmit=\"true\" />\\n                  <svg class=\"octicon octicon-check SelectMenu-icon SelectMenu-icon--check\" viewBox=\"0 0 16 16\" version=\"1.1\" width=\"16\" height=\"16\" aria-hidden=\"true\"><path fill-rule=\"evenodd\" d=\"M13.78 4.22a.75.75 0 010 1.06l-7.25 7.25a.75.75 0 01-1.06 0L2.22 9.28a.75.75 0 011.06-1.06L6 10.94l6.72-6.72a.75.75 0 011.06 0z\"></path></svg>\\n                  <span class=\"text-normal\" data-menu-button-text>Forks</span>\\n                </label>\\n                <label class=\"SelectMenu-item\" role=\"menuitemradio\" aria-checked=\"false\" tabindex=\"0\">\\n                  <input type=\"radio\" name=\"type\" id=\"type_archived\" value=\"archived\" hidden=\"hidden\" data-autosubmit=\"true\" />\\n                  <svg class=\"octicon octicon-check SelectMenu-icon SelectMenu-icon--check\" viewBox=\"0 0 16 16\" version=\"1.1\" width=\"16\" height=\"16\" aria-hidden=\"true\"><path fill-rule=\"evenodd\" d=\"M13.78 4.22a.75.75 0 010 1.06l-7.25 7.25a.75.75 0 01-1.06 0L2.22 9.28a.75.75 0 011.06-1.06L6 10.94l6.72-6.72a.75.75 0 011.06 0z\"></path></svg>\\n                  <span class=\"text-normal\" data-menu-button-text>Archived</span>\\n                </label>\\n                <label class=\"SelectMenu-item\" role=\"menuitemradio\" aria-checked=\"false\" tabindex=\"0\">\\n                  <input type=\"radio\" name=\"type\" id=\"type_mirror\" value=\"mirror\" hidden=\"hidden\" data-autosubmit=\"true\" />\\n                  <svg class=\"octicon octicon-check SelectMenu-icon SelectMenu-icon--check\" viewBox=\"0 0 16 16\" version=\"1.1\" width=\"16\" height=\"16\" aria-hidden=\"true\"><path fill-rule=\"evenodd\" d=\"M13.78 4.22a.75.75 0 010 1.06l-7.25 7.25a.75.75 0 01-1.06 0L2.22 9.28a.75.75 0 011.06-1.06L6 10.94l6.72-6.72a.75.75 0 011.06 0z\"></path></svg>\\n                  <span class=\"text-normal\" data-menu-button-text>Mirrors</span>\\n                </label>\\n            </div>\\n          </div>\\n        </details-menu>\\n      </details>\\n\\n        <details class=\"details-reset details-overlay position-relative flex-auto\" id=\"language-options\">\\n          <summary class=\"btn\">\\n            <i>Language:</i>\\n            <span data-menu-button>\\n              All\\n            </span>\\n            <span class=\"dropdown-caret\"></span>\\n          </summary>\\n\\n          <details-menu class=\"SelectMenu right-md-0\">\\n            <div class=\"SelectMenu-modal\">\\n              <header class=\"SelectMenu-header\">\\n                <span class=\"SelectMenu-title\">Select language</span>\\n                <button class=\"SelectMenu-closeButton\" type=\"button\" data-toggle-for=\"language-options\"><svg aria-label=\"Close menu\" class=\"octicon octicon-x\" viewBox=\"0 0 16 16\" version=\"1.1\" width=\"16\" height=\"16\" role=\"img\"><path fill-rule=\"evenodd\" d=\"M3.72 3.72a.75.75 0 011.06 0L8 6.94l3.22-3.22a.75.75 0 111.06 1.06L9.06 8l3.22 3.22a.75.75 0 11-1.06 1.06L8 9.06l-3.22 3.22a.75.75 0 01-1.06-1.06L6.94 8 3.72 4.78a.75.75 0 010-1.06z\"></path></svg></button>\\n              </header>\\n              <div class=\"SelectMenu-list\">\\n                <label class=\"SelectMenu-item\" role=\"menuitemradio\" aria-checked=\"true\" tabindex=\"0\">\\n                  <input type=\"radio\" name=\"language\" id=\"language_\" value=\"\" hidden=\"hidden\" data-autosubmit=\"true\" checked=\"checked\" />\\n                  <svg class=\"octicon octicon-check SelectMenu-icon SelectMenu-icon--check\" viewBox=\"0 0 16 16\" version=\"1.1\" width=\"16\" height=\"16\" aria-hidden=\"true\"><path fill-rule=\"evenodd\" d=\"M13.78 4.22a.75.75 0 010 1.06l-7.25 7.25a.75.75 0 01-1.06 0L2.22 9.28a.75.75 0 011.06-1.06L6 10.94l6.72-6.72a.75.75 0 011.06 0z\"></path></svg>\\n                  <span class=\"text-normal\" data-menu-button-text>All</span>\\n                </label>\\n                  <label class=\"SelectMenu-item\" role=\"menuitemradio\" aria-checked=\"false\" tabindex=\"0\">\\n                    <input type=\"radio\" name=\"language\" id=\"language_python\" value=\"python\" hidden=\"hidden\" data-autosubmit=\"true\" />\\n                    <svg class=\"octicon octicon-check SelectMenu-icon SelectMenu-icon--check\" viewBox=\"0 0 16 16\" version=\"1.1\" width=\"16\" height=\"16\" aria-hidden=\"true\"><path fill-rule=\"evenodd\" d=\"M13.78 4.22a.75.75 0 010 1.06l-7.25 7.25a.75.75 0 01-1.06 0L2.22 9.28a.75.75 0 011.06-1.06L6 10.94l6.72-6.72a.75.75 0 011.06 0z\"></path></svg>\\n                    <span class=\"text-normal\" data-menu-button-text>Python</span>\\n                  </label>\\n                  <label class=\"SelectMenu-item\" role=\"menuitemradio\" aria-checked=\"false\" tabindex=\"0\">\\n                    <input type=\"radio\" name=\"language\" id=\"language_shell\" value=\"shell\" hidden=\"hidden\" data-autosubmit=\"true\" />\\n                    <svg class=\"octicon octicon-check SelectMenu-icon SelectMenu-icon--check\" viewBox=\"0 0 16 16\" version=\"1.1\" width=\"16\" height=\"16\" aria-hidden=\"true\"><path fill-rule=\"evenodd\" d=\"M13.78 4.22a.75.75 0 010 1.06l-7.25 7.25a.75.75 0 01-1.06 0L2.22 9.28a.75.75 0 011.06-1.06L6 10.94l6.72-6.72a.75.75 0 011.06 0z\"></path></svg>\\n                    <span class=\"text-normal\" data-menu-button-text>Shell</span>\\n                  </label>\\n              </div>\\n            </div>\\n          </details-menu>\\n        </details>\\n\\n    </div>\\n</form></div>\\n\\n              \\n<div id=\"user-repositories-list\">\\n\\n    \\n    <ul data-filterable-for=\"your-repos-filter\" data-filterable-type=\"substring\">\\n        \\n\\n<li class=\"col-12 d-flex width-full py-4 border-bottom color-border-secondary public source\" itemprop=\"owns\" itemscope itemtype=\"http://schema.org/Code\">\\n  <div class=\"col-10 col-lg-9 d-inline-block\">\\n    <div class=\"d-inline-block mb-1\">\\n      <h3 class=\"wb-break-all\">\\n        <a href=\"/robertosgpontes/SISTECConsistencia\" itemprop=\"name codeRepository\" >\\n        SISTECConsistencia</a>\\n        \\n      </h3>\\n\\n\\n    </div>\\n\\n    <div>\\n    </div>\\n\\n\\n    <div class=\"f6 color-text-secondary mt-2\">\\n\\n        <span class=\"ml-0 mr-3\">\\n  <span class=\"repo-language-color\" style=\"background-color: #3572A5\"></span>\\n  <span itemprop=\"programmingLanguage\">Python</span>\\n</span>\\n\\n        <a class=\"Link--muted mr-3\" href=\"/robertosgpontes/SISTECConsistencia/stargazers\">\\n          <svg aria-label=\"star\" class=\"octicon octicon-star\" viewBox=\"0 0 16 16\" version=\"1.1\" width=\"16\" height=\"16\" role=\"img\"><path fill-rule=\"evenodd\" d=\"M8 .25a.75.75 0 01.673.418l1.882 3.815 4.21.612a.75.75 0 01.416 1.279l-3.046 2.97.719 4.192a.75.75 0 01-1.088.791L8 12.347l-3.766 1.98a.75.75 0 01-1.088-.79l.72-4.194L.818 6.374a.75.75 0 01.416-1.28l4.21-.611L7.327.668A.75.75 0 018 .25zm0 2.445L6.615 5.5a.75.75 0 01-.564.41l-3.097.45 2.24 2.184a.75.75 0 01.216.664l-.528 3.084 2.769-1.456a.75.75 0 01.698 0l2.77 1.456-.53-3.084a.75.75 0 01.216-.664l2.24-2.183-3.096-.45a.75.75 0 01-.564-.41L8 2.694v.001z\"></path></svg>\\n          1\\n        </a>\\n        <a class=\"Link--muted mr-3\" href=\"/robertosgpontes/SISTECConsistencia/network/members\">\\n          <svg aria-label=\"fork\" class=\"octicon octicon-repo-forked\" viewBox=\"0 0 16 16\" version=\"1.1\" width=\"16\" height=\"16\" role=\"img\"><path fill-rule=\"evenodd\" d=\"M5 3.25a.75.75 0 11-1.5 0 .75.75 0 011.5 0zm0 2.122a2.25 2.25 0 10-1.5 0v.878A2.25 2.25 0 005.75 8.5h1.5v2.128a2.251 2.251 0 101.5 0V8.5h1.5a2.25 2.25 0 002.25-2.25v-.878a2.25 2.25 0 10-1.5 0v.878a.75.75 0 01-.75.75h-4.5A.75.75 0 015 6.25v-.878zm3.75 7.378a.75.75 0 11-1.5 0 .75.75 0 011.5 0zm3-8.75a.75.75 0 100-1.5.75.75 0 000 1.5z\"></path></svg>\\n          1\\n        </a>\\n\\n        <span class=\"mr-3\">\\n          <svg class=\"octicon octicon-law mr-1\" viewBox=\"0 0 16 16\" version=\"1.1\" width=\"16\" height=\"16\" aria-hidden=\"true\"><path fill-rule=\"evenodd\" d=\"M8.75.75a.75.75 0 00-1.5 0V2h-.984c-.305 0-.604.08-.869.23l-1.288.737A.25.25 0 013.984 3H1.75a.75.75 0 000 1.5h.428L.066 9.192a.75.75 0 00.154.838l.53-.53-.53.53v.001l.002.002.002.002.006.006.016.015.045.04a3.514 3.514 0 00.686.45A4.492 4.492 0 003 11c.88 0 1.556-.22 2.023-.454a3.515 3.515 0 00.686-.45l.045-.04.016-.015.006-.006.002-.002.001-.002L5.25 9.5l.53.53a.75.75 0 00.154-.838L3.822 4.5h.162c.305 0 .604-.08.869-.23l1.289-.737a.25.25 0 01.124-.033h.984V13h-2.5a.75.75 0 000 1.5h6.5a.75.75 0 000-1.5h-2.5V3.5h.984a.25.25 0 01.124.033l1.29.736c.264.152.563.231.868.231h.162l-2.112 4.692a.75.75 0 00.154.838l.53-.53-.53.53v.001l.002.002.002.002.006.006.016.015.045.04a3.517 3.517 0 00.686.45A4.492 4.492 0 0013 11c.88 0 1.556-.22 2.023-.454a3.512 3.512 0 00.686-.45l.045-.04.01-.01.006-.005.006-.006.002-.002.001-.002-.529-.531.53.53a.75.75 0 00.154-.838L13.823 4.5h.427a.75.75 0 000-1.5h-2.234a.25.25 0 01-.124-.033l-1.29-.736A1.75 1.75 0 009.735 2H8.75V.75zM1.695 9.227c.285.135.718.273 1.305.273s1.02-.138 1.305-.273L3 6.327l-1.305 2.9zm10 0c.285.135.718.273 1.305.273s1.02-.138 1.305-.273L13 6.327l-1.305 2.9z\"></path></svg>GNU General Public License v3.0\\n        </span>\\n\\n\\n        Updated <relative-time datetime=\"2021-02-02T22:54:53Z\" class=\"no-wrap\">Feb 2, 2021</relative-time>\\n    </div>\\n  </div>\\n\\n  <div class=\"col-2 col-lg-3 d-flex flex-column flex-justify-around\">\\n\\n    <div class=\"text-right hide-lg hide-md hide-sm hide-xs mt-2\">\\n      <poll-include-fragment src=\"/robertosgpontes/SISTECConsistencia/graphs/participation?w=155&amp;h=28&amp;type=sparkline)\">\\n      </poll-include-fragment>\\n    </div>\\n  </div>\\n</li>\\n\\n        \\n\\n<li class=\"col-12 d-flex width-full py-4 border-bottom color-border-secondary public source\" itemprop=\"owns\" itemscope itemtype=\"http://schema.org/Code\">\\n  <div class=\"col-10 col-lg-9 d-inline-block\">\\n    <div class=\"d-inline-block mb-1\">\\n      <h3 class=\"wb-break-all\">\\n        <a href=\"/robertosgpontes/Scripts\" itemprop=\"name codeRepository\" >\\n        Scripts</a>\\n        \\n      </h3>\\n\\n\\n    </div>\\n\\n    <div>\\n    </div>\\n\\n\\n    <div class=\"f6 color-text-secondary mt-2\">\\n\\n        <span class=\"ml-0 mr-3\">\\n  <span class=\"repo-language-color\" style=\"background-color: #89e051\"></span>\\n  <span itemprop=\"programmingLanguage\">Shell</span>\\n</span>\\n\\n\\n        <span class=\"mr-3\">\\n          <svg class=\"octicon octicon-law mr-1\" viewBox=\"0 0 16 16\" version=\"1.1\" width=\"16\" height=\"16\" aria-hidden=\"true\"><path fill-rule=\"evenodd\" d=\"M8.75.75a.75.75 0 00-1.5 0V2h-.984c-.305 0-.604.08-.869.23l-1.288.737A.25.25 0 013.984 3H1.75a.75.75 0 000 1.5h.428L.066 9.192a.75.75 0 00.154.838l.53-.53-.53.53v.001l.002.002.002.002.006.006.016.015.045.04a3.514 3.514 0 00.686.45A4.492 4.492 0 003 11c.88 0 1.556-.22 2.023-.454a3.515 3.515 0 00.686-.45l.045-.04.016-.015.006-.006.002-.002.001-.002L5.25 9.5l.53.53a.75.75 0 00.154-.838L3.822 4.5h.162c.305 0 .604-.08.869-.23l1.289-.737a.25.25 0 01.124-.033h.984V13h-2.5a.75.75 0 000 1.5h6.5a.75.75 0 000-1.5h-2.5V3.5h.984a.25.25 0 01.124.033l1.29.736c.264.152.563.231.868.231h.162l-2.112 4.692a.75.75 0 00.154.838l.53-.53-.53.53v.001l.002.002.002.002.006.006.016.015.045.04a3.517 3.517 0 00.686.45A4.492 4.492 0 0013 11c.88 0 1.556-.22 2.023-.454a3.512 3.512 0 00.686-.45l.045-.04.01-.01.006-.005.006-.006.002-.002.001-.002-.529-.531.53.53a.75.75 0 00.154-.838L13.823 4.5h.427a.75.75 0 000-1.5h-2.234a.25.25 0 01-.124-.033l-1.29-.736A1.75 1.75 0 009.735 2H8.75V.75zM1.695 9.227c.285.135.718.273 1.305.273s1.02-.138 1.305-.273L3 6.327l-1.305 2.9zm10 0c.285.135.718.273 1.305.273s1.02-.138 1.305-.273L13 6.327l-1.305 2.9z\"></path></svg>GNU General Public License v3.0\\n        </span>\\n\\n\\n        Updated <relative-time datetime=\"2018-02-18T18:33:17Z\" class=\"no-wrap\">Feb 18, 2018</relative-time>\\n    </div>\\n  </div>\\n\\n  <div class=\"col-2 col-lg-3 d-flex flex-column flex-justify-around\">\\n\\n    <div class=\"text-right hide-lg hide-md hide-sm hide-xs mt-2\">\\n      <poll-include-fragment src=\"/robertosgpontes/Scripts/graphs/participation?w=155&amp;h=28&amp;type=sparkline)\">\\n      </poll-include-fragment>\\n    </div>\\n  </div>\\n</li>\\n\\n    </ul>\\n</div>\\n\\n        </div>\\n      </div>\\n\\n</div>\\n</div></div>\\n\\n        </main>\\n  </div>\\n\\n          \\n<div class=\"footer container-xl width-full p-responsive\" role=\"contentinfo\">\\n  <div class=\"position-relative d-flex flex-row-reverse flex-lg-row flex-wrap flex-lg-nowrap flex-justify-center flex-lg-justify-between pt-6 pb-2 mt-6 f6 color-text-secondary border-top color-border-secondary \">\\n    <ul class=\"list-style-none d-flex flex-wrap col-12 col-lg-5 flex-justify-center flex-lg-justify-between mb-2 mb-lg-0\">\\n      <li class=\"mr-3 mr-lg-0\">&copy; 2021 GitHub, Inc.</li>\\n        <li class=\"mr-3 mr-lg-0\"><a data-ga-click=\"Footer, go to terms, text:terms\" href=\"https://github.com/site/terms\">Terms</a></li>\\n        <li class=\"mr-3 mr-lg-0\"><a data-ga-click=\"Footer, go to privacy, text:privacy\" href=\"https://github.com/site/privacy\">Privacy</a></li>\\n        <li class=\"mr-3 mr-lg-0\"><a data-ga-click=\"Footer, go to security, text:security\" href=\"https://github.com/security\">Security</a></li>\\n        <li class=\"mr-3 mr-lg-0\"><a href=\"https://www.githubstatus.com/\" data-ga-click=\"Footer, go to status, text:status\">Status</a></li>\\n        <li><a data-ga-click=\"Footer, go to help, text:Docs\" href=\"https://docs.github.com\">Docs</a></li>\\n    </ul>\\n\\n    <a aria-label=\"Homepage\" title=\"GitHub\" class=\"footer-octicon d-none d-lg-block mx-lg-4\" href=\"https://github.com\">\\n      <svg height=\"24\" class=\"octicon octicon-mark-github\" viewBox=\"0 0 16 16\" version=\"1.1\" width=\"24\" aria-hidden=\"true\"><path fill-rule=\"evenodd\" d=\"M8 0C3.58 0 0 3.58 0 8c0 3.54 2.29 6.53 5.47 7.59.4.07.55-.17.55-.38 0-.19-.01-.82-.01-1.49-2.01.37-2.53-.49-2.69-.94-.09-.23-.48-.94-.82-1.13-.28-.15-.68-.52-.01-.53.63-.01 1.08.58 1.23.82.72 1.21 1.87.87 2.33.66.07-.52.28-.87.51-1.07-1.78-.2-3.64-.89-3.64-3.95 0-.87.31-1.59.82-2.15-.08-.2-.36-1.02.08-2.12 0 0 .67-.21 2.2.82.64-.18 1.32-.27 2-.27.68 0 1.36.09 2 .27 1.53-1.04 2.2-.82 2.2-.82.44 1.1.16 1.92.08 2.12.51.56.82 1.27.82 2.15 0 3.07-1.87 3.75-3.65 3.95.29.25.54.73.54 1.48 0 1.07-.01 1.93-.01 2.2 0 .21.15.46.55.38A8.013 8.013 0 0016 8c0-4.42-3.58-8-8-8z\"></path></svg>\\n</a>\\n    <ul class=\"list-style-none d-flex flex-wrap col-12 col-lg-5 flex-justify-center flex-lg-justify-between mb-2 mb-lg-0\">\\n        <li class=\"mr-3 mr-lg-0\"><a href=\"https://support.github.com\" data-ga-click=\"Footer, go to contact, text:contact\">Contact GitHub</a></li>\\n        <li class=\"mr-3 mr-lg-0\"><a href=\"https://github.com/pricing\" data-ga-click=\"Footer, go to Pricing, text:Pricing\">Pricing</a></li>\\n      <li class=\"mr-3 mr-lg-0\"><a href=\"https://docs.github.com\" data-ga-click=\"Footer, go to api, text:api\">API</a></li>\\n      <li class=\"mr-3 mr-lg-0\"><a href=\"https://services.github.com\" data-ga-click=\"Footer, go to training, text:training\">Training</a></li>\\n        <li class=\"mr-3 mr-lg-0\"><a href=\"https://github.blog\" data-ga-click=\"Footer, go to blog, text:blog\">Blog</a></li>\\n        <li><a data-ga-click=\"Footer, go to about, text:about\" href=\"https://github.com/about\">About</a></li>\\n    </ul>\\n  </div>\\n  <div class=\"d-flex flex-justify-center pb-6\">\\n    <span class=\"f6 color-text-tertiary\"></span>\\n  </div>\\n\\n  \\n</div>\\n\\n\\n\\n  <div id=\"ajax-error-message\" class=\"ajax-error-message flash flash-error\" hidden>\\n    <svg class=\"octicon octicon-alert\" viewBox=\"0 0 16 16\" version=\"1.1\" width=\"16\" height=\"16\" aria-hidden=\"true\"><path fill-rule=\"evenodd\" d=\"M8.22 1.754a.25.25 0 00-.44 0L1.698 13.132a.25.25 0 00.22.368h12.164a.25.25 0 00.22-.368L8.22 1.754zm-1.763-.707c.659-1.234 2.427-1.234 3.086 0l6.082 11.378A1.75 1.75 0 0114.082 15H1.918a1.75 1.75 0 01-1.543-2.575L6.457 1.047zM9 11a1 1 0 11-2 0 1 1 0 012 0zm-.25-5.25a.75.75 0 00-1.5 0v2.5a.75.75 0 001.5 0v-2.5z\"></path></svg>\\n    <button type=\"button\" class=\"flash-close js-ajax-error-dismiss\" aria-label=\"Dismiss error\">\\n      <svg class=\"octicon octicon-x\" viewBox=\"0 0 16 16\" version=\"1.1\" width=\"16\" height=\"16\" aria-hidden=\"true\"><path fill-rule=\"evenodd\" d=\"M3.72 3.72a.75.75 0 011.06 0L8 6.94l3.22-3.22a.75.75 0 111.06 1.06L9.06 8l3.22 3.22a.75.75 0 11-1.06 1.06L8 9.06l-3.22 3.22a.75.75 0 01-1.06-1.06L6.94 8 3.72 4.78a.75.75 0 010-1.06z\"></path></svg>\\n    </button>\\n    You can’t perform that action at this time.\\n  </div>\\n\\n  <div class=\"js-stale-session-flash flash flash-warn flash-banner\" hidden\\n    >\\n    <svg class=\"octicon octicon-alert\" viewBox=\"0 0 16 16\" version=\"1.1\" width=\"16\" height=\"16\" aria-hidden=\"true\"><path fill-rule=\"evenodd\" d=\"M8.22 1.754a.25.25 0 00-.44 0L1.698 13.132a.25.25 0 00.22.368h12.164a.25.25 0 00.22-.368L8.22 1.754zm-1.763-.707c.659-1.234 2.427-1.234 3.086 0l6.082 11.378A1.75 1.75 0 0114.082 15H1.918a1.75 1.75 0 01-1.543-2.575L6.457 1.047zM9 11a1 1 0 11-2 0 1 1 0 012 0zm-.25-5.25a.75.75 0 00-1.5 0v2.5a.75.75 0 001.5 0v-2.5z\"></path></svg>\\n    <span class=\"js-stale-session-flash-signed-in\" hidden>You signed in with another tab or window. <a href=\"\">Reload</a> to refresh your session.</span>\\n    <span class=\"js-stale-session-flash-signed-out\" hidden>You signed out in another tab or window. <a href=\"\">Reload</a> to refresh your session.</span>\\n  </div>\\n    <template id=\"site-details-dialog\">\\n  <details class=\"details-reset details-overlay details-overlay-dark lh-default color-text-primary hx_rsm\" open>\\n    <summary role=\"button\" aria-label=\"Close dialog\"></summary>\\n    <details-dialog class=\"Box Box--overlay d-flex flex-column anim-fade-in fast hx_rsm-dialog hx_rsm-modal\">\\n      <button class=\"Box-btn-octicon m-0 btn-octicon position-absolute right-0 top-0\" type=\"button\" aria-label=\"Close dialog\" data-close-dialog>\\n        <svg class=\"octicon octicon-x\" viewBox=\"0 0 16 16\" version=\"1.1\" width=\"16\" height=\"16\" aria-hidden=\"true\"><path fill-rule=\"evenodd\" d=\"M3.72 3.72a.75.75 0 011.06 0L8 6.94l3.22-3.22a.75.75 0 111.06 1.06L9.06 8l3.22 3.22a.75.75 0 11-1.06 1.06L8 9.06l-3.22 3.22a.75.75 0 01-1.06-1.06L6.94 8 3.72 4.78a.75.75 0 010-1.06z\"></path></svg>\\n      </button>\\n      <div class=\"octocat-spinner my-6 js-details-dialog-spinner\"></div>\\n    </details-dialog>\\n  </details>\\n</template>\\n\\n    <div class=\"Popover js-hovercard-content position-absolute\" style=\"display: none; outline: none;\" tabindex=\"0\">\\n  <div class=\"Popover-message Popover-message--bottom-left Popover-message--large Box color-shadow-large\" style=\"width:360px;\">\\n  </div>\\n</div>\\n\\n\\n\\n  </body>\\n</html>\\n'"
      ]
     },
     "execution_count": 7,
     "metadata": {},
     "output_type": "execute_result"
    }
   ],
   "source": [
    "content"
   ]
  },
  {
   "cell_type": "code",
   "execution_count": 8,
   "metadata": {},
   "outputs": [],
   "source": [
    "soup = BeautifulSoup(content, \"html.parser\")"
   ]
  },
  {
   "cell_type": "code",
   "execution_count": 20,
   "metadata": {},
   "outputs": [],
   "source": [
    "l = soup.find_all('div',)"
   ]
  },
  {
   "cell_type": "code",
   "execution_count": 22,
   "metadata": {
    "tags": []
   },
   "outputs": [
    {
     "data": {
      "text/plain": [
       "=\"evenodd\"></path></svg>GNU General Public License v3.0\n",
       "         </span>\n",
       " \n",
       " \n",
       "         Updated <relative-time class=\"no-wrap\" datetime=\"2018-02-18T18:33:17Z\">Feb 18, 2018</relative-time>\n",
       " </div>\n",
       " </div>\n",
       " <div class=\"col-2 col-lg-3 d-flex flex-column flex-justify-around\">\n",
       " <div class=\"text-right hide-lg hide-md hide-sm hide-xs mt-2\">\n",
       " <poll-include-fragment src=\"/robertosgpontes/Scripts/graphs/participation?w=155&amp;h=28&amp;type=sparkline)\">\n",
       " </poll-include-fragment>\n",
       " </div>\n",
       " </div>\n",
       " </li>\n",
       " </ul>\n",
       " </div>,\n",
       " <div class=\"col-10 col-lg-9 d-inline-block\">\n",
       " <div class=\"d-inline-block mb-1\">\n",
       " <h3 class=\"wb-break-all\">\n",
       " <a href=\"/robertosgpontes/SISTECConsistencia\" itemprop=\"name codeRepository\">\n",
       "         SISTECConsistencia</a>\n",
       " </h3>\n",
       " </div>\n",
       " <div>\n",
       " </div>\n",
       " <div class=\"f6 color-text-secondary mt-2\">\n",
       " <span class=\"ml-0 mr-3\">\n",
       " <span class=\"repo-language-color\" style=\"background-color: #3572A5\"></span>\n",
       " <span itemprop=\"programmingLanguage\">Python</span>\n",
       " </span>\n",
       " <a class=\"Link--muted mr-3\" href=\"/robertosgpontes/SISTECConsistencia/stargazers\">\n",
       " <svg aria-label=\"star\" class=\"octicon octicon-star\" height=\"16\" role=\"img\" version=\"1.1\" viewbox=\"0 0 16 16\" width=\"16\"><path d=\"M8 .25a.75.75 0 01.673.418l1.882 3.815 4.21.612a.75.75 0 01.416 1.279l-3.046 2.97.719 4.192a.75.75 0 01-1.088.791L8 12.347l-3.766 1.98a.75.75 0 01-1.088-.79l.72-4.194L.818 6.374a.75.75 0 01.416-1.28l4.21-.611L7.327.668A.75.75 0 018 .25zm0 2.445L6.615 5.5a.75.75 0 01-.564.41l-3.097.45 2.24 2.184a.75.75 0 01.216.664l-.528 3.084 2.769-1.456a.75.75 0 01.698 0l2.77 1.456-.53-3.084a.75.75 0 01.216-.664l2.24-2.183-3.096-.45a.75.75 0 01-.564-.41L8 2.694v.001z\" fill-rule=\"evenodd\"></path></svg>\n",
       "           1\n",
       "         </a>\n",
       " <a class=\"Link--muted mr-3\" href=\"/robertosgpontes/SISTECConsistencia/network/members\">\n",
       " <svg aria-label=\"fork\" class=\"octicon octicon-repo-forked\" height=\"16\" role=\"img\" version=\"1.1\" viewbox=\"0 0 16 16\" width=\"16\"><path d=\"M5 3.25a.75.75 0 11-1.5 0 .75.75 0 011.5 0zm0 2.122a2.25 2.25 0 10-1.5 0v.878A2.25 2.25 0 005.75 8.5h1.5v2.128a2.251 2.251 0 101.5 0V8.5h1.5a2.25 2.25 0 002.25-2.25v-.878a2.25 2.25 0 10-1.5 0v.878a.75.75 0 01-.75.75h-4.5A.75.75 0 015 6.25v-.878zm3.75 7.378a.75.75 0 11-1.5 0 .75.75 0 011.5 0zm3-8.75a.75.75 0 100-1.5.75.75 0 000 1.5z\" fill-rule=\"evenodd\"></path></svg>\n",
       "           1\n",
       "         </a>\n",
       " <span class=\"mr-3\">\n",
       " <svg aria-hidden=\"true\" class=\"octicon octicon-law mr-1\" height=\"16\" version=\"1.1\" viewbox=\"0 0 16 16\" width=\"16\"><path d=\"M8.75.75a.75.75 0 00-1.5 0V2h-.984c-.305 0-.604.08-.869.23l-1.288.737A.25.25 0 013.984 3H1.75a.75.75 0 000 1.5h.428L.066 9.192a.75.75 0 00.154.838l.53-.53-.53.53v.001l.002.002.002.002.006.006.016.015.045.04a3.514 3.514 0 00.686.45A4.492 4.492 0 003 11c.88 0 1.556-.22 2.023-.454a3.515 3.515 0 00.686-.45l.045-.04.016-.015.006-.006.002-.002.001-.002L5.25 9.5l.53.53a.75.75 0 00.154-.838L3.822 4.5h.162c.305 0 .604-.08.869-.23l1.289-.737a.25.25 0 01.124-.033h.984V13h-2.5a.75.75 0 000 1.5h6.5a.75.75 0 000-1.5h-2.5V3.5h.984a.25.25 0 01.124.033l1.29.736c.264.152.563.231.868.231h.162l-2.112 4.692a.75.75 0 00.154.838l.53-.53-.53.53v.001l.002.002.002.002.006.006.016.015.045.04a3.517 3.517 0 00.686.45A4.492 4.492 0 0013 11c.88 0 1.556-.22 2.023-.454a3.512 3.512 0 00.686-.45l.045-.04.01-.01.006-.005.006-.006.002-.002.001-.002-.529-.531.53.53a.75.75 0 00.154-.838L13.823 4.5h.427a.75.75 0 000-1.5h-2.234a.25.25 0 01-.124-.033l-1.29-.736A1.75 1.75 0 009.735 2H8.75V.75zM1.695 9.227c.285.135.718.273 1.305.273s1.02-.138 1.305-.273L3 6.327l-1.305 2.9zm10 0c.285.135.718.273 1.305.273s1.02-.138 1.305-.273L13 6.327l-1.305 2.9z\" fill-rule=\"evenodd\"></path></svg>GNU General Public License v3.0\n",
       "         </span>\n",
       " \n",
       " \n",
       "         Updated <relative-time class=\"no-wrap\" datetime=\"2021-02-02T22:54:53Z\">Feb 2, 2021</relative-time>\n",
       " </div>\n",
       " </div>,\n",
       " <div class=\"d-inline-block mb-1\">\n",
       " <h3 class=\"wb-break-all\">\n",
       " <a href=\"/robertosgpontes/SISTECConsistencia\" itemprop=\"name codeRepository\">\n",
       "         SISTECConsistencia</a>\n",
       " </h3>\n",
       " </div>,\n",
       " <div>\n",
       " </div>,\n",
       " <div class=\"f6 color-text-secondary mt-2\">\n",
       " <span class=\"ml-0 mr-3\">\n",
       " <span class=\"repo-language-color\" style=\"background-color: #3572A5\"></span>\n",
       " <span itemprop=\"programmingLanguage\">Python</span>\n",
       " </span>\n",
       " <a class=\"Link--muted mr-3\" href=\"/robertosgpontes/SISTECConsistencia/stargazers\">\n",
       " <svg aria-label=\"star\" class=\"octicon octicon-star\" height=\"16\" role=\"img\" version=\"1.1\" viewbox=\"0 0 16 16\" width=\"16\"><path d=\"M8 .25a.75.75 0 01.673.418l1.882 3.815 4.21.612a.75.75 0 01.416 1.279l-3.046 2.97.719 4.192a.75.75 0 01-1.088.791L8 12.347l-3.766 1.98a.75.75 0 01-1.088-.79l.72-4.194L.818 6.374a.75.75 0 01.416-1.28l4.21-.611L7.327.668A.75.75 0 018 .25zm0 2.445L6.615 5.5a.75.75 0 01-.564.41l-3.097.45 2.24 2.184a.75.75 0 01.216.664l-.528 3.084 2.769-1.456a.75.75 0 01.698 0l2.77 1.456-.53-3.084a.75.75 0 01.216-.664l2.24-2.183-3.096-.45a.75.75 0 01-.564-.41L8 2.694v.001z\" fill-rule=\"evenodd\"></path></svg>\n",
       "           1\n",
       "         </a>\n",
       " <a class=\"Link--muted mr-3\" href=\"/robertosgpontes/SISTECConsistencia/network/members\">\n",
       " <svg aria-label=\"fork\" class=\"octicon octicon-repo-forked\" height=\"16\" role=\"img\" version=\"1.1\" viewbox=\"0 0 16 16\" width=\"16\"><path d=\"M5 3.25a.75.75 0 11-1.5 0 .75.75 0 011.5 0zm0 2.122a2.25 2.25 0 10-1.5 0v.878A2.25 2.25 0 005.75 8.5h1.5v2.128a2.251 2.251 0 101.5 0V8.5h1.5a2.25 2.25 0 002.25-2.25v-.878a2.25 2.25 0 10-1.5 0v.878a.75.75 0 01-.75.75h-4.5A.75.75 0 015 6.25v-.878zm3.75 7.378a.75.75 0 11-1.5 0 .75.75 0 011.5 0zm3-8.75a.75.75 0 100-1.5.75.75 0 000 1.5z\" fill-rule=\"evenodd\"></path></svg>\n",
       "           1\n",
       "         </a>\n",
       " <span class=\"mr-3\">\n",
       " <svg aria-hidden=\"true\" class=\"octicon octicon-law mr-1\" height=\"16\" version=\"1.1\" viewbox=\"0 0 16 16\" width=\"16\"><path d=\"M8.75.75a.75.75 0 00-1.5 0V2h-.984c-.305 0-.604.08-.869.23l-1.288.737A.25.25 0 013.984 3H1.75a.75.75 0 000 1.5h.428L.066 9.192a.75.75 0 00.154.838l.53-.53-.53.53v.001l.002.002.002.002.006.006.016.015.045.04a3.514 3.514 0 00.686.45A4.492 4.492 0 003 11c.88 0 1.556-.22 2.023-.454a3.515 3.515 0 00.686-.45l.045-.04.016-.015.006-.006.002-.002.001-.002L5.25 9.5l.53.53a.75.75 0 00.154-.838L3.822 4.5h.162c.305 0 .604-.08.869-.23l1.289-.737a.25.25 0 01.124-.033h.984V13h-2.5a.75.75 0 000 1.5h6.5a.75.75 0 000-1.5h-2.5V3.5h.984a.25.25 0 01.124.033l1.29.736c.264.152.563.231.868.231h.162l-2.112 4.692a.75.75 0 00.154.838l.53-.53-.53.53v.001l.002.002.002.002.006.006.016.015.045.04a3.517 3.517 0 00.686.45A4.492 4.492 0 0013 11c.88 0 1.556-.22 2.023-.454a3.512 3.512 0 00.686-.45l.045-.04.01-.01.006-.005.006-.006.002-.002.001-.002-.529-.531.53.53a.75.75 0 00.154-.838L13.823 4.5h.427a.75.75 0 000-1.5h-2.234a.25.25 0 01-.124-.033l-1.29-.736A1.75 1.75 0 009.735 2H8.75V.75zM1.695 9.227c.285.135.718.273 1.305.273s1.02-.138 1.305-.273L3 6.327l-1.305 2.9zm10 0c.285.135.718.273 1.305.273s1.02-.138 1.305-.273L13 6.327l-1.305 2.9z\" fill-rule=\"evenodd\"></path></svg>GNU General Public License v3.0\n",
       "         </span>\n",
       " \n",
       " \n",
       "         Updated <relative-time class=\"no-wrap\" datetime=\"2021-02-02T22:54:53Z\">Feb 2, 2021</relative-time>\n",
       " </div>,\n",
       " <div class=\"col-2 col-lg-3 d-flex flex-column flex-justify-around\">\n",
       " <div class=\"text-right hide-lg hide-md hide-sm hide-xs mt-2\">\n",
       " <poll-include-fragment src=\"/robertosgpontes/SISTECConsistencia/graphs/participation?w=155&amp;h=28&amp;type=sparkline)\">\n",
       " </poll-include-fragment>\n",
       " </div>\n",
       " </div>,\n",
       " <div class=\"text-right hide-lg hide-md hide-sm hide-xs mt-2\">\n",
       " <poll-include-fragment src=\"/robertosgpontes/SISTECConsistencia/graphs/participation?w=155&amp;h=28&amp;type=sparkline)\">\n",
       " </poll-include-fragment>\n",
       " </div>,\n",
       " <div class=\"col-10 col-lg-9 d-inline-block\">\n",
       " <div class=\"d-inline-block mb-1\">\n",
       " <h3 class=\"wb-break-all\">\n",
       " <a href=\"/robertosgpontes/Scripts\" itemprop=\"name codeRepository\">\n",
       "         Scripts</a>\n",
       " </h3>\n",
       " </div>\n",
       " <div>\n",
       " </div>\n",
       " <div class=\"f6 color-text-secondary mt-2\">\n",
       " <span class=\"ml-0 mr-3\">\n",
       " <span class=\"repo-language-color\" style=\"background-color: #89e051\"></span>\n",
       " <span itemprop=\"programmingLanguage\">Shell</span>\n",
       " </span>\n",
       " <span class=\"mr-3\">\n",
       " <svg aria-hidden=\"true\" class=\"octicon octicon-law mr-1\" height=\"16\" version=\"1.1\" viewbox=\"0 0 16 16\" width=\"16\"><path d=\"M8.75.75a.75.75 0 00-1.5 0V2h-.984c-.305 0-.604.08-.869.23l-1.288.737A.25.25 0 013.984 3H1.75a.75.75 0 000 1.5h.428L.066 9.192a.75.75 0 00.154.838l.53-.53-.53.53v.001l.002.002.002.002.006.006.016.015.045.04a3.514 3.514 0 00.686.45A4.492 4.492 0 003 11c.88 0 1.556-.22 2.023-.454a3.515 3.515 0 00.686-.45l.045-.04.016-.015.006-.006.002-.002.001-.002L5.25 9.5l.53.53a.75.75 0 00.154-.838L3.822 4.5h.162c.305 0 .604-.08.869-.23l1.289-.737a.25.25 0 01.124-.033h.984V13h-2.5a.75.75 0 000 1.5h6.5a.75.75 0 000-1.5h-2.5V3.5h.984a.25.25 0 01.124.033l1.29.736c.264.152.563.231.868.231h.162l-2.112 4.692a.75.75 0 00.154.838l.53-.53-.53.53v.001l.002.002.002.002.006.006.016.015.045.04a3.517 3.517 0 00.686.45A4.492 4.492 0 0013 11c.88 0 1.556-.22 2.023-.454a3.512 3.512 0 00.686-.45l.045-.04.01-.01.006-.005.006-.006.002-.002.001-.002-.529-.531.53.53a.75.75 0 00.154-.838L13.823 4.5h.427a.75.75 0 000-1.5h-2.234a.25.25 0 01-.124-.033l-1.29-.736A1.75 1.75 0 009.735 2H8.75V.75zM1.695 9.227c.285.135.718.273 1.305.273s1.02-.138 1.305-.273L3 6.327l-1.305 2.9zm10 0c.285.135.718.273 1.305.273s1.02-.138 1.305-.273L13 6.327l-1.305 2.9z\" fill-rule=\"evenodd\"></path></svg>GNU General Public License v3.0\n",
       "         </span>\n",
       " \n",
       " \n",
       "         Updated <relative-time class=\"no-wrap\" datetime=\"2018-02-18T18:33:17Z\">Feb 18, 2018</relative-time>\n",
       " </div>\n",
       " </div>,\n",
       " <div class=\"d-inline-block mb-1\">\n",
       " <h3 class=\"wb-break-all\">\n",
       " <a href=\"/robertosgpontes/Scripts\" itemprop=\"name codeRepository\">\n",
       "         Scripts</a>\n",
       " </h3>\n",
       " </div>,\n",
       " <div>\n",
       " </div>,\n",
       " <div class=\"f6 color-text-secondary mt-2\">\n",
       " <span class=\"ml-0 mr-3\">\n",
       " <span class=\"repo-language-color\" style=\"background-color: #89e051\"></span>\n",
       " <span itemprop=\"programmingLanguage\">Shell</span>\n",
       " </span>\n",
       " <span class=\"mr-3\">\n",
       " <svg aria-hidden=\"true\" class=\"octicon octicon-law mr-1\" height=\"16\" version=\"1.1\" viewbox=\"0 0 16 16\" width=\"16\"><path d=\"M8.75.75a.75.75 0 00-1.5 0V2h-.984c-.305 0-.604.08-.869.23l-1.288.737A.25.25 0 013.984 3H1.75a.75.75 0 000 1.5h.428L.066 9.192a.75.75 0 00.154.838l.53-.53-.53.53v.001l.002.002.002.002.006.006.016.015.045.04a3.514 3.514 0 00.686.45A4.492 4.492 0 003 11c.88 0 1.556-.22 2.023-.454a3.515 3.515 0 00.686-.45l.045-.04.016-.015.006-.006.002-.002.001-.002L5.25 9.5l.53.53a.75.75 0 00.154-.838L3.822 4.5h.162c.305 0 .604-.08.869-.23l1.289-.737a.25.25 0 01.124-.033h.984V13h-2.5a.75.75 0 000 1.5h6.5a.75.75 0 000-1.5h-2.5V3.5h.984a.25.25 0 01.124.033l1.29.736c.264.152.563.231.868.231h.162l-2.112 4.692a.75.75 0 00.154.838l.53-.53-.53.53v.001l.002.002.002.002.006.006.016.015.045.04a3.517 3.517 0 00.686.45A4.492 4.492 0 0013 11c.88 0 1.556-.22 2.023-.454a3.512 3.512 0 00.686-.45l.045-.04.01-.01.006-.005.006-.006.002-.002.001-.002-.529-.531.53.53a.75.75 0 00.154-.838L13.823 4.5h.427a.75.75 0 000-1.5h-2.234a.25.25 0 01-.124-.033l-1.29-.736A1.75 1.75 0 009.735 2H8.75V.75zM1.695 9.227c.285.135.718.273 1.305.273s1.02-.138 1.305-.273L3 6.327l-1.305 2.9zm10 0c.285.135.718.273 1.305.273s1.02-.138 1.305-.273L13 6.327l-1.305 2.9z\" fill-rule=\"evenodd\"></path></svg>GNU General Public License v3.0\n",
       "         </span>\n",
       " \n",
       " \n",
       "         Updated <relative-time class=\"no-wrap\" datetime=\"2018-02-18T18:33:17Z\">Feb 18, 2018</relative-time>\n",
       " </div>,\n",
       " <div class=\"col-2 col-lg-3 d-flex flex-column flex-justify-around\">\n",
       " <div class=\"text-right hide-lg hide-md hide-sm hide-xs mt-2\">\n",
       " <poll-include-fragment src=\"/robertosgpontes/Scripts/graphs/participation?w=155&amp;h=28&amp;type=sparkline)\">\n",
       " </poll-include-fragment>\n",
       " </div>\n",
       " </div>,\n",
       " <div class=\"text-right hide-lg hide-md hide-sm hide-xs mt-2\">\n",
       " <poll-include-fragment src=\"/robertosgpontes/Scripts/graphs/participation?w=155&amp;h=28&amp;type=sparkline)\">\n",
       " </poll-include-fragment>\n",
       " </div>,\n",
       " <div class=\"footer container-xl width-full p-responsive\" role=\"contentinfo\">\n",
       " <div class=\"position-relative d-flex flex-row-reverse flex-lg-row flex-wrap flex-lg-nowrap flex-justify-center flex-lg-justify-between pt-6 pb-2 mt-6 f6 color-text-secondary border-top color-border-secondary\">\n",
       " <ul class=\"list-style-none d-flex flex-wrap col-12 col-lg-5 flex-justify-center flex-lg-justify-between mb-2 mb-lg-0\">\n",
       " <li class=\"mr-3 mr-lg-0\">© 2021 GitHub, Inc.</li>\n",
       " <li class=\"mr-3 mr-lg-0\"><a data-ga-click=\"Footer, go to terms, text:terms\" href=\"https://github.com/site/terms\">Terms</a></li>\n",
       " <li class=\"mr-3 mr-lg-0\"><a data-ga-click=\"Footer, go to privacy, text:privacy\" href=\"https://github.com/site/privacy\">Privacy</a></li>\n",
       " <li class=\"mr-3 mr-lg-0\"><a data-ga-click=\"Footer, go to security, text:security\" href=\"https://github.com/security\">Security</a></li>\n",
       " <li class=\"mr-3 mr-lg-0\"><a data-ga-click=\"Footer, go to status, text:status\" href=\"https://www.githubstatus.com/\">Status</a></li>\n",
       " <li><a data-ga-click=\"Footer, go to help, text:Docs\" href=\"https://docs.github.com\">Docs</a></li>\n",
       " </ul>\n",
       " <a aria-label=\"Homepage\" class=\"footer-octicon d-none d-lg-block mx-lg-4\" href=\"https://github.com\" title=\"GitHub\">\n",
       " <svg aria-hidden=\"true\" class=\"octicon octicon-mark-github\" height=\"24\" version=\"1.1\" viewbox=\"0 0 16 16\" width=\"24\"><path d=\"M8 0C3.58 0 0 3.58 0 8c0 3.54 2.29 6.53 5.47 7.59.4.07.55-.17.55-.38 0-.19-.01-.82-.01-1.49-2.01.37-2.53-.49-2.69-.94-.09-.23-.48-.94-.82-1.13-.28-.15-.68-.52-.01-.53.63-.01 1.08.58 1.23.82.72 1.21 1.87.87 2.33.66.07-.52.28-.87.51-1.07-1.78-.2-3.64-.89-3.64-3.95 0-.87.31-1.59.82-2.15-.08-.2-.36-1.02.08-2.12 0 0 .67-.21 2.2.82.64-.18 1.32-.27 2-.27.68 0 1.36.09 2 .27 1.53-1.04 2.2-.82 2.2-.82.44 1.1.16 1.92.08 2.12.51.56.82 1.27.82 2.15 0 3.07-1.87 3.75-3.65 3.95.29.25.54.73.54 1.48 0 1.07-.01 1.93-.01 2.2 0 .21.15.46.55.38A8.013 8.013 0 0016 8c0-4.42-3.58-8-8-8z\" fill-rule=\"evenodd\"></path></svg>\n",
       " </a>\n",
       " <ul class=\"list-style-none d-flex flex-wrap col-12 col-lg-5 flex-justify-center flex-lg-justify-between mb-2 mb-lg-0\">\n",
       " <li class=\"mr-3 mr-lg-0\"><a data-ga-click=\"Footer, go to contact, text:contact\" href=\"https://support.github.com\">Contact GitHub</a></li>\n",
       " <li class=\"mr-3 mr-lg-0\"><a data-ga-click=\"Footer, go to Pricing, text:Pricing\" href=\"https://github.com/pricing\">Pricing</a></li>\n",
       " <li class=\"mr-3 mr-lg-0\"><a data-ga-click=\"Footer, go to api, text:api\" href=\"https://docs.github.com\">API</a></li>\n",
       " <li class=\"mr-3 mr-lg-0\"><a data-ga-click=\"Footer, go to training, text:training\" href=\"https://services.github.com\">Training</a></li>\n",
       " <li class=\"mr-3 mr-lg-0\"><a data-ga-click=\"Footer, go to blog, text:blog\" href=\"https://github.blog\">Blog</a></li>\n",
       " <li><a data-ga-click=\"Footer, go to about, text:about\" href=\"https://github.com/about\">About</a></li>\n",
       " </ul>\n",
       " </div>\n",
       " <div class=\"d-flex flex-justify-center pb-6\">\n",
       " <span class=\"f6 color-text-tertiary\"></span>\n",
       " </div>\n",
       " </div>,\n",
       " <div class=\"position-relative d-flex flex-row-reverse flex-lg-row flex-wrap flex-lg-nowrap flex-justify-center flex-lg-justify-between pt-6 pb-2 mt-6 f6 color-text-secondary border-top color-border-secondary\">\n",
       " <ul class=\"list-style-none d-flex flex-wrap col-12 col-lg-5 flex-justify-center flex-lg-justify-between mb-2 mb-lg-0\">\n",
       " <li class=\"mr-3 mr-lg-0\">© 2021 GitHub, Inc.</li>\n",
       " <li class=\"mr-3 mr-lg-0\"><a data-ga-click=\"Footer, go to terms, text:terms\" href=\"https://github.com/site/terms\">Terms</a></li>\n",
       " <li class=\"mr-3 mr-lg-0\"><a data-ga-click=\"Footer, go to privacy, text:privacy\" href=\"https://github.com/site/privacy\">Privacy</a></li>\n",
       " <li class=\"mr-3 mr-lg-0\"><a data-ga-click=\"Footer, go to security, text:security\" href=\"https://github.com/security\">Security</a></li>\n",
       " <li class=\"mr-3 mr-lg-0\"><a data-ga-click=\"Footer, go to status, text:status\" href=\"https://www.githubstatus.com/\">Status</a></li>\n",
       " <li><a data-ga-click=\"Footer, go to help, text:Docs\" href=\"https://docs.github.com\">Docs</a></li>\n",
       " </ul>\n",
       " <a aria-label=\"Homepage\" class=\"footer-octicon d-none d-lg-block mx-lg-4\" href=\"https://github.com\" title=\"GitHub\">\n",
       " <svg aria-hidden=\"true\" class=\"octicon octicon-mark-github\" height=\"24\" version=\"1.1\" viewbox=\"0 0 16 16\" width=\"24\"><path d=\"M8 0C3.58 0 0 3.58 0 8c0 3.54 2.29 6.53 5.47 7.59.4.07.55-.17.55-.38 0-.19-.01-.82-.01-1.49-2.01.37-2.53-.49-2.69-.94-.09-.23-.48-.94-.82-1.13-.28-.15-.68-.52-.01-.53.63-.01 1.08.58 1.23.82.72 1.21 1.87.87 2.33.66.07-.52.28-.87.51-1.07-1.78-.2-3.64-.89-3.64-3.95 0-.87.31-1.59.82-2.15-.08-.2-.36-1.02.08-2.12 0 0 .67-.21 2.2.82.64-.18 1.32-.27 2-.27.68 0 1.36.09 2 .27 1.53-1.04 2.2-.82 2.2-.82.44 1.1.16 1.92.08 2.12.51.56.82 1.27.82 2.15 0 3.07-1.87 3.75-3.65 3.95.29.25.54.73.54 1.48 0 1.07-.01 1.93-.01 2.2 0 .21.15.46.55.38A8.013 8.013 0 0016 8c0-4.42-3.58-8-8-8z\" fill-rule=\"evenodd\"></path></svg>\n",
       " </a>\n",
       " <ul class=\"list-style-none d-flex flex-wrap col-12 col-lg-5 flex-justify-center flex-lg-justify-between mb-2 mb-lg-0\">\n",
       " <li class=\"mr-3 mr-lg-0\"><a data-ga-click=\"Footer, go to contact, text:contact\" href=\"https://support.github.com\">Contact GitHub</a></li>\n",
       " <li class=\"mr-3 mr-lg-0\"><a data-ga-click=\"Footer, go to Pricing, text:Pricing\" href=\"https://github.com/pricing\">Pricing</a></li>\n",
       " <li class=\"mr-3 mr-lg-0\"><a data-ga-click=\"Footer, go to api, text:api\" href=\"https://docs.github.com\">API</a></li>\n",
       " <li class=\"mr-3 mr-lg-0\"><a data-ga-click=\"Footer, go to training, text:training\" href=\"https://services.github.com\">Training</a></li>\n",
       " <li class=\"mr-3 mr-lg-0\"><a data-ga-click=\"Footer, go to blog, text:blog\" href=\"https://github.blog\">Blog</a></li>\n",
       " <li><a data-ga-click=\"Footer, go to about, text:about\" href=\"https://github.com/about\">About</a></li>\n",
       " </ul>\n",
       " </div>,\n",
       " <div class=\"d-flex flex-justify-center pb-6\">\n",
       " <span class=\"f6 color-text-tertiary\"></span>\n",
       " </div>,\n",
       " <div class=\"ajax-error-message flash flash-error\" hidden=\"\" id=\"ajax-error-message\">\n",
       " <svg aria-hidden=\"true\" class=\"octicon octicon-alert\" height=\"16\" version=\"1.1\" viewbox=\"0 0 16 16\" width=\"16\"><path d=\"M8.22 1.754a.25.25 0 00-.44 0L1.698 13.132a.25.25 0 00.22.368h12.164a.25.25 0 00.22-.368L8.22 1.754zm-1.763-.707c.659-1.234 2.427-1.234 3.086 0l6.082 11.378A1.75 1.75 0 0114.082 15H1.918a1.75 1.75 0 01-1.543-2.575L6.457 1.047zM9 11a1 1 0 11-2 0 1 1 0 012 0zm-.25-5.25a.75.75 0 00-1.5 0v2.5a.75.75 0 001.5 0v-2.5z\" fill-rule=\"evenodd\"></path></svg>\n",
       " <button aria-label=\"Dismiss error\" class=\"flash-close js-ajax-error-dismiss\" type=\"button\">\n",
       " <svg aria-hidden=\"true\" class=\"octicon octicon-x\" height=\"16\" version=\"1.1\" viewbox=\"0 0 16 16\" width=\"16\"><path d=\"M3.72 3.72a.75.75 0 011.06 0L8 6.94l3.22-3.22a.75.75 0 111.06 1.06L9.06 8l3.22 3.22a.75.75 0 11-1.06 1.06L8 9.06l-3.22 3.22a.75.75 0 01-1.06-1.06L6.94 8 3.72 4.78a.75.75 0 010-1.06z\" fill-rule=\"evenodd\"></path></svg>\n",
       " </button>\n",
       "     You can’t perform that action at this time.\n",
       "   </div>,\n",
       " <div class=\"js-stale-session-flash flash flash-warn flash-banner\" hidden=\"\">\n",
       " <svg aria-hidden=\"true\" class=\"octicon octicon-alert\" height=\"16\" version=\"1.1\" viewbox=\"0 0 16 16\" width=\"16\"><path d=\"M8.22 1.754a.25.25 0 00-.44 0L1.698 13.132a.25.25 0 00.22.368h12.164a.25.25 0 00.22-.368L8.22 1.754zm-1.763-.707c.659-1.234 2.427-1.234 3.086 0l6.082 11.378A1.75 1.75 0 0114.082 15H1.918a1.75 1.75 0 01-1.543-2.575L6.457 1.047zM9 11a1 1 0 11-2 0 1 1 0 012 0zm-.25-5.25a.75.75 0 00-1.5 0v2.5a.75.75 0 001.5 0v-2.5z\" fill-rule=\"evenodd\"></path></svg>\n",
       " <span class=\"js-stale-session-flash-signed-in\" hidden=\"\">You signed in with another tab or window. <a href=\"\">Reload</a> to refresh your session.</span>\n",
       " <span class=\"js-stale-session-flash-signed-out\" hidden=\"\">You signed out in another tab or window. <a href=\"\">Reload</a> to refresh your session.</span>\n",
       " </div>,\n",
       " <div class=\"octocat-spinner my-6 js-details-dialog-spinner\"></div>,\n",
       " <div class=\"Popover js-hovercard-content position-absolute\" style=\"display: none; outline: none;\" tabindex=\"0\">\n",
       " <div class=\"Popover-message Popover-message--bottom-left Popover-message--large Box color-shadow-large\" style=\"width:360px;\">\n",
       " </div>\n",
       " </div>,\n",
       " <div class=\"Popover-message Popover-message--bottom-left Popover-message--large Box color-shadow-large\" style=\"width:360px;\">\n",
       " </div>]"
      ]
     },
     "execution_count": 22,
     "metadata": {},
     "output_type": "execute_result"
    }
   ],
   "source": [
    "l"
   ]
  },
  {
   "cell_type": "code",
   "execution_count": 34,
   "metadata": {
    "tags": []
   },
   "outputs": [
    {
     "ename": "KeyError",
     "evalue": "'class'",
     "output_type": "error",
     "traceback": [
      "\u001b[0;31m---------------------------------------------------------------------------\u001b[0m",
      "\u001b[0;31mKeyError\u001b[0m                                  Traceback (most recent call last)",
      "\u001b[0;32m<ipython-input-34-5db0acae0d50>\u001b[0m in \u001b[0;36m<module>\u001b[0;34m\u001b[0m\n\u001b[1;32m      1\u001b[0m \u001b[0;32mfor\u001b[0m \u001b[0mdivs\u001b[0m \u001b[0;32min\u001b[0m \u001b[0msoup\u001b[0m\u001b[0;34m.\u001b[0m\u001b[0mfind_all\u001b[0m\u001b[0;34m(\u001b[0m\u001b[0;34m'div'\u001b[0m\u001b[0;34m,\u001b[0m\u001b[0;34m)\u001b[0m\u001b[0;34m:\u001b[0m\u001b[0;34m\u001b[0m\u001b[0;34m\u001b[0m\u001b[0m\n\u001b[0;32m----> 2\u001b[0;31m     \u001b[0;32mif\u001b[0m \u001b[0;34m'col-10 col-lg-9 d-inline-block'\u001b[0m \u001b[0;32min\u001b[0m \u001b[0mdivs\u001b[0m\u001b[0;34m[\u001b[0m\u001b[0;34m'class'\u001b[0m\u001b[0;34m]\u001b[0m\u001b[0;34m:\u001b[0m\u001b[0;34m\u001b[0m\u001b[0;34m\u001b[0m\u001b[0m\n\u001b[0m\u001b[1;32m      3\u001b[0m         \u001b[0mprint\u001b[0m\u001b[0;34m(\u001b[0m\u001b[0mdivs\u001b[0m\u001b[0;34m[\u001b[0m\u001b[0;34m'class'\u001b[0m\u001b[0;34m]\u001b[0m\u001b[0;34m)\u001b[0m\u001b[0;34m\u001b[0m\u001b[0;34m\u001b[0m\u001b[0m\n\u001b[1;32m      4\u001b[0m         \u001b[0;32mbreak\u001b[0m\u001b[0;34m\u001b[0m\u001b[0;34m\u001b[0m\u001b[0m\n",
      "\u001b[0;32m~/.venvs/datascience/lib/python3.8/site-packages/bs4/element.py\u001b[0m in \u001b[0;36m__getitem__\u001b[0;34m(self, key)\u001b[0m\n\u001b[1;32m   1404\u001b[0m         \"\"\"tag[key] returns the value of the 'key' attribute for the Tag,\n\u001b[1;32m   1405\u001b[0m         and throws an exception if it's not there.\"\"\"\n\u001b[0;32m-> 1406\u001b[0;31m         \u001b[0;32mreturn\u001b[0m \u001b[0mself\u001b[0m\u001b[0;34m.\u001b[0m\u001b[0mattrs\u001b[0m\u001b[0;34m[\u001b[0m\u001b[0mkey\u001b[0m\u001b[0;34m]\u001b[0m\u001b[0;34m\u001b[0m\u001b[0;34m\u001b[0m\u001b[0m\n\u001b[0m\u001b[1;32m   1407\u001b[0m \u001b[0;34m\u001b[0m\u001b[0m\n\u001b[1;32m   1408\u001b[0m     \u001b[0;32mdef\u001b[0m \u001b[0m__iter__\u001b[0m\u001b[0;34m(\u001b[0m\u001b[0mself\u001b[0m\u001b[0;34m)\u001b[0m\u001b[0;34m:\u001b[0m\u001b[0;34m\u001b[0m\u001b[0;34m\u001b[0m\u001b[0m\n",
      "\u001b[0;31mKeyError\u001b[0m: 'class'"
     ]
    }
   ],
   "source": [
    "for divs in soup.find_all('div',):\n",
    "    if len(link.text.strip()) > 1 and bool(re.search('col-10 col-lg-9 d-inline-block',divs['class'])):\n",
    "        print(divs['class'])\n",
    "        break"
   ]
  }
 ],
 "metadata": {
  "kernelspec": {
   "display_name": "Python 3.8.5 64-bit ('datascience': venv)",
   "language": "python",
   "name": "python38564bitdatasciencevenvc6b0070e1aa0499bb925ccbdc2a8bca5"
  },
  "language_info": {
   "codemirror_mode": {
    "name": "ipython",
    "version": 3
   },
   "file_extension": ".py",
   "mimetype": "text/x-python",
   "name": "python",
   "nbconvert_exporter": "python",
   "pygments_lexer": "ipython3",
   "version": "3.8.5"
  }
 },
 "nbformat": 4,
 "nbformat_minor": 4
}
