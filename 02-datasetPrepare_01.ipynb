{
 "metadata": {
  "language_info": {
   "codemirror_mode": {
    "name": "ipython",
    "version": 3
   },
   "file_extension": ".py",
   "mimetype": "text/x-python",
   "name": "python",
   "nbconvert_exporter": "python",
   "pygments_lexer": "ipython3",
   "version": "3.8.5-final"
  },
  "orig_nbformat": 2,
  "kernelspec": {
   "name": "python38564bitdatasciencevenvc6b0070e1aa0499bb925ccbdc2a8bca5",
   "display_name": "Python 3.8.5 64-bit ('datascience': venv)",
   "language": "python"
  }
 },
 "nbformat": 4,
 "nbformat_minor": 2,
 "cells": [
  {
   "cell_type": "code",
   "execution_count": 12,
   "metadata": {},
   "outputs": [],
   "source": [
    "import pandas as pd\n",
    "import numpy as np"
   ]
  },
  {
   "cell_type": "code",
   "execution_count": 5,
   "metadata": {},
   "outputs": [
    {
     "output_type": "execute_result",
     "data": {
      "text/plain": [
       "374037"
      ]
     },
     "metadata": {},
     "execution_count": 5
    }
   ],
   "source": [
    "df1 = pd.read_csv(\n",
    "    filepath_or_buffer='dataset/mec/microdados_eficiencia_academica_2018.csv',\n",
    "    sep=None,\n",
    "    encoding = \"ISO-8859-9\"\n",
    ")\n",
    "len(df1)"
   ]
  },
  {
   "cell_type": "code",
   "execution_count": 20,
   "metadata": {},
   "outputs": [
    {
     "output_type": "execute_result",
     "data": {
      "text/plain": [
       "338848"
      ]
     },
     "metadata": {},
     "execution_count": 20
    }
   ],
   "source": [
    "df2 = pd.read_csv(\n",
    "    filepath_or_buffer='dataset/mec/microdados_eficiencia_academica_2020.csv',\n",
    "    sep=None)\n",
    "len(df2)"
   ]
  },
  {
   "source": [
    "## Recortando linhas do conjunto de dados"
   ],
   "cell_type": "markdown",
   "metadata": {}
  },
  {
   "cell_type": "code",
   "execution_count": 6,
   "metadata": {},
   "outputs": [
    {
     "output_type": "execute_result",
     "data": {
      "text/plain": [
       "1000"
      ]
     },
     "metadata": {},
     "execution_count": 6
    }
   ],
   "source": [
    "df1_r = df1[:1000]\n",
    "len(df1_r)"
   ]
  },
  {
   "cell_type": "code",
   "execution_count": 7,
   "metadata": {},
   "outputs": [
    {
     "output_type": "execute_result",
     "data": {
      "text/plain": [
       "700"
      ]
     },
     "metadata": {},
     "execution_count": 7
    }
   ],
   "source": [
    "df1_r = df1[300:1000]\n",
    "len(df1_r)"
   ]
  },
  {
   "cell_type": "code",
   "execution_count": 8,
   "metadata": {},
   "outputs": [
    {
     "output_type": "execute_result",
     "data": {
      "text/plain": [
       "74037"
      ]
     },
     "metadata": {},
     "execution_count": 8
    }
   ],
   "source": [
    "df1_r = df1[300000:]\n",
    "len(df1_r)"
   ]
  },
  {
   "cell_type": "code",
   "execution_count": 9,
   "metadata": {},
   "outputs": [
    {
     "output_type": "execute_result",
     "data": {
      "text/plain": [
       "75037"
      ]
     },
     "metadata": {},
     "execution_count": 9
    }
   ],
   "source": [
    "df1_r = df1[:1000] + df1[300000:]\n",
    "len(df1_r)"
   ]
  },
  {
   "source": [
    "## Deletando linhas do conjunto de dados\n",
    "\n",
    "https://pandas.pydata.org/pandas-docs/stable/reference/api/pandas.DataFrame.drop.html\n"
   ],
   "cell_type": "markdown",
   "metadata": {}
  },
  {
   "cell_type": "code",
   "execution_count": 14,
   "metadata": {},
   "outputs": [
    {
     "output_type": "execute_result",
     "data": {
      "text/plain": [
       "    A   B   C   D\n",
       "0   0   1   2   3\n",
       "1   4   5   6   7\n",
       "2   8   9  10  11\n",
       "3  12  13  14  15\n",
       "4  16  17  18  19"
      ],
      "text/html": "<div>\n<style scoped>\n    .dataframe tbody tr th:only-of-type {\n        vertical-align: middle;\n    }\n\n    .dataframe tbody tr th {\n        vertical-align: top;\n    }\n\n    .dataframe thead th {\n        text-align: right;\n    }\n</style>\n<table border=\"1\" class=\"dataframe\">\n  <thead>\n    <tr style=\"text-align: right;\">\n      <th></th>\n      <th>A</th>\n      <th>B</th>\n      <th>C</th>\n      <th>D</th>\n    </tr>\n  </thead>\n  <tbody>\n    <tr>\n      <th>0</th>\n      <td>0</td>\n      <td>1</td>\n      <td>2</td>\n      <td>3</td>\n    </tr>\n    <tr>\n      <th>1</th>\n      <td>4</td>\n      <td>5</td>\n      <td>6</td>\n      <td>7</td>\n    </tr>\n    <tr>\n      <th>2</th>\n      <td>8</td>\n      <td>9</td>\n      <td>10</td>\n      <td>11</td>\n    </tr>\n    <tr>\n      <th>3</th>\n      <td>12</td>\n      <td>13</td>\n      <td>14</td>\n      <td>15</td>\n    </tr>\n    <tr>\n      <th>4</th>\n      <td>16</td>\n      <td>17</td>\n      <td>18</td>\n      <td>19</td>\n    </tr>\n  </tbody>\n</table>\n</div>"
     },
     "metadata": {},
     "execution_count": 14
    }
   ],
   "source": [
    "df = pd.DataFrame(np.arange(20).reshape(5, 4),\n",
    "\n",
    "                  columns=['A', 'B', 'C', 'D'])\n",
    "\n",
    "df"
   ]
  },
  {
   "cell_type": "code",
   "execution_count": 18,
   "metadata": {},
   "outputs": [
    {
     "output_type": "execute_result",
     "data": {
      "text/plain": [
       "    A   B   C   D\n",
       "1   4   5   6   7\n",
       "3  12  13  14  15\n",
       "4  16  17  18  19"
      ],
      "text/html": "<div>\n<style scoped>\n    .dataframe tbody tr th:only-of-type {\n        vertical-align: middle;\n    }\n\n    .dataframe tbody tr th {\n        vertical-align: top;\n    }\n\n    .dataframe thead th {\n        text-align: right;\n    }\n</style>\n<table border=\"1\" class=\"dataframe\">\n  <thead>\n    <tr style=\"text-align: right;\">\n      <th></th>\n      <th>A</th>\n      <th>B</th>\n      <th>C</th>\n      <th>D</th>\n    </tr>\n  </thead>\n  <tbody>\n    <tr>\n      <th>1</th>\n      <td>4</td>\n      <td>5</td>\n      <td>6</td>\n      <td>7</td>\n    </tr>\n    <tr>\n      <th>3</th>\n      <td>12</td>\n      <td>13</td>\n      <td>14</td>\n      <td>15</td>\n    </tr>\n    <tr>\n      <th>4</th>\n      <td>16</td>\n      <td>17</td>\n      <td>18</td>\n      <td>19</td>\n    </tr>\n  </tbody>\n</table>\n</div>"
     },
     "metadata": {},
     "execution_count": 18
    }
   ],
   "source": [
    "dfr = df.drop([0, 2], axis=0)\n",
    "dfr"
   ]
  },
  {
   "cell_type": "code",
   "execution_count": 19,
   "metadata": {},
   "outputs": [
    {
     "output_type": "execute_result",
     "data": {
      "text/plain": [
       "    A   B   C   D\n",
       "1   4   5   6   7\n",
       "3  12  13  14  15\n",
       "4  16  17  18  19"
      ],
      "text/html": "<div>\n<style scoped>\n    .dataframe tbody tr th:only-of-type {\n        vertical-align: middle;\n    }\n\n    .dataframe tbody tr th {\n        vertical-align: top;\n    }\n\n    .dataframe thead th {\n        text-align: right;\n    }\n</style>\n<table border=\"1\" class=\"dataframe\">\n  <thead>\n    <tr style=\"text-align: right;\">\n      <th></th>\n      <th>A</th>\n      <th>B</th>\n      <th>C</th>\n      <th>D</th>\n    </tr>\n  </thead>\n  <tbody>\n    <tr>\n      <th>1</th>\n      <td>4</td>\n      <td>5</td>\n      <td>6</td>\n      <td>7</td>\n    </tr>\n    <tr>\n      <th>3</th>\n      <td>12</td>\n      <td>13</td>\n      <td>14</td>\n      <td>15</td>\n    </tr>\n    <tr>\n      <th>4</th>\n      <td>16</td>\n      <td>17</td>\n      <td>18</td>\n      <td>19</td>\n    </tr>\n  </tbody>\n</table>\n</div>"
     },
     "metadata": {},
     "execution_count": 19
    }
   ],
   "source": [
    "dfr = df.drop([0, 2])\n",
    "dfr"
   ]
  },
  {
   "source": [
    "## Deletando linhas do conjunto de dados\n"
   ],
   "cell_type": "markdown",
   "metadata": {}
  },
  {
   "cell_type": "code",
   "execution_count": 23,
   "metadata": {},
   "outputs": [
    {
     "output_type": "execute_result",
     "data": {
      "text/plain": [
       "    B   C\n",
       "0   1   2\n",
       "1   5   6\n",
       "2   9  10\n",
       "3  13  14\n",
       "4  17  18"
      ],
      "text/html": "<div>\n<style scoped>\n    .dataframe tbody tr th:only-of-type {\n        vertical-align: middle;\n    }\n\n    .dataframe tbody tr th {\n        vertical-align: top;\n    }\n\n    .dataframe thead th {\n        text-align: right;\n    }\n</style>\n<table border=\"1\" class=\"dataframe\">\n  <thead>\n    <tr style=\"text-align: right;\">\n      <th></th>\n      <th>B</th>\n      <th>C</th>\n    </tr>\n  </thead>\n  <tbody>\n    <tr>\n      <th>0</th>\n      <td>1</td>\n      <td>2</td>\n    </tr>\n    <tr>\n      <th>1</th>\n      <td>5</td>\n      <td>6</td>\n    </tr>\n    <tr>\n      <th>2</th>\n      <td>9</td>\n      <td>10</td>\n    </tr>\n    <tr>\n      <th>3</th>\n      <td>13</td>\n      <td>14</td>\n    </tr>\n    <tr>\n      <th>4</th>\n      <td>17</td>\n      <td>18</td>\n    </tr>\n  </tbody>\n</table>\n</div>"
     },
     "metadata": {},
     "execution_count": 23
    }
   ],
   "source": [
    "dfr = df.drop(columns=['A', 'D'])\n",
    "dfr"
   ]
  },
  {
   "cell_type": "code",
   "execution_count": 24,
   "metadata": {},
   "outputs": [
    {
     "output_type": "execute_result",
     "data": {
      "text/plain": [
       "    B   C\n",
       "0   1   2\n",
       "1   5   6\n",
       "2   9  10\n",
       "3  13  14\n",
       "4  17  18"
      ],
      "text/html": "<div>\n<style scoped>\n    .dataframe tbody tr th:only-of-type {\n        vertical-align: middle;\n    }\n\n    .dataframe tbody tr th {\n        vertical-align: top;\n    }\n\n    .dataframe thead th {\n        text-align: right;\n    }\n</style>\n<table border=\"1\" class=\"dataframe\">\n  <thead>\n    <tr style=\"text-align: right;\">\n      <th></th>\n      <th>B</th>\n      <th>C</th>\n    </tr>\n  </thead>\n  <tbody>\n    <tr>\n      <th>0</th>\n      <td>1</td>\n      <td>2</td>\n    </tr>\n    <tr>\n      <th>1</th>\n      <td>5</td>\n      <td>6</td>\n    </tr>\n    <tr>\n      <th>2</th>\n      <td>9</td>\n      <td>10</td>\n    </tr>\n    <tr>\n      <th>3</th>\n      <td>13</td>\n      <td>14</td>\n    </tr>\n    <tr>\n      <th>4</th>\n      <td>17</td>\n      <td>18</td>\n    </tr>\n  </tbody>\n</table>\n</div>"
     },
     "metadata": {},
     "execution_count": 24
    }
   ],
   "source": [
    "dfr = df.drop(['A', 'D'], axis=1)\n",
    "dfr"
   ]
  },
  {
   "source": [
    "## Deletando linhas e colunas do conjunto de dados"
   ],
   "cell_type": "markdown",
   "metadata": {}
  },
  {
   "cell_type": "code",
   "execution_count": 26,
   "metadata": {},
   "outputs": [
    {
     "output_type": "execute_result",
     "data": {
      "text/plain": [
       "    B   C\n",
       "1   5   6\n",
       "3  13  14\n",
       "4  17  18"
      ],
      "text/html": "<div>\n<style scoped>\n    .dataframe tbody tr th:only-of-type {\n        vertical-align: middle;\n    }\n\n    .dataframe tbody tr th {\n        vertical-align: top;\n    }\n\n    .dataframe thead th {\n        text-align: right;\n    }\n</style>\n<table border=\"1\" class=\"dataframe\">\n  <thead>\n    <tr style=\"text-align: right;\">\n      <th></th>\n      <th>B</th>\n      <th>C</th>\n    </tr>\n  </thead>\n  <tbody>\n    <tr>\n      <th>1</th>\n      <td>5</td>\n      <td>6</td>\n    </tr>\n    <tr>\n      <th>3</th>\n      <td>13</td>\n      <td>14</td>\n    </tr>\n    <tr>\n      <th>4</th>\n      <td>17</td>\n      <td>18</td>\n    </tr>\n  </tbody>\n</table>\n</div>"
     },
     "metadata": {},
     "execution_count": 26
    }
   ],
   "source": [
    "col = ['A', 'D']\n",
    "idx = [0, 2]\n",
    "dfr = df.drop(columns=col, index=idx)\n",
    "dfr"
   ]
  },
  {
   "source": [
    "## Alterando Nomes de colunas\n",
    "\n",
    "https://pandas.pydata.org/pandas-docs/stable/reference/api/pandas.DataFrame.rename.html"
   ],
   "cell_type": "markdown",
   "metadata": {}
  },
  {
   "cell_type": "code",
   "execution_count": 27,
   "metadata": {},
   "outputs": [
    {
     "output_type": "execute_result",
     "data": {
      "text/plain": [
       "Sexo                                     object\n",
       "Código da Matrícula                       int64\n",
       "Data de Ocorrência da Matrícula          object\n",
       "Situação da Matrícula                    object\n",
       "Categoria da Situação                    object\n",
       "Mês de Ocorrência da Situação            object\n",
       "Data de Início do Ciclo                  object\n",
       "Data de Fim Previsto do Ciclo            object\n",
       "Vagas Ofertadas                         float64\n",
       "Total de Inscritos                        int64\n",
       "Fonte de Financiamento                   object\n",
       "Carga Horária do Curso                    int64\n",
       "Carga Horária Mínima Regulamentada      float64\n",
       "Eixo Tecnológico                         object\n",
       "Subeixo Tecnológico                      object\n",
       "Modalidade de Ensino                     object\n",
       "Tipo de Curso                            object\n",
       "Tipo de Oferta                           object\n",
       "Nome do Curso                            object\n",
       "Fator de Esforço de Curso                object\n",
       "Código da Unidade de Ensino - SISTEC      int64\n",
       "Unidade de Ensino                        object\n",
       "Código do Município com DV                int64\n",
       "Município                                object\n",
       "Instituição                              object\n",
       "UF                                       object\n",
       "Microrregião                             object\n",
       "Mesorregião                              object\n",
       "Região                                   object\n",
       "dtype: object"
      ]
     },
     "metadata": {},
     "execution_count": 27
    }
   ],
   "source": [
    "df1.dtypes"
   ]
  },
  {
   "cell_type": "code",
   "execution_count": 28,
   "metadata": {},
   "outputs": [],
   "source": [
    "df1 = df1.rename(columns={\"Código da Matrícula\": \"cmdf1\"})\n",
    "df2 = df2.rename(columns={\"Código da Matricula\": \"cmdf2\"})"
   ]
  },
  {
   "cell_type": "code",
   "execution_count": 29,
   "metadata": {},
   "outputs": [
    {
     "output_type": "execute_result",
     "data": {
      "text/plain": [
       "Sexo                                     object\n",
       "cmdf1                                     int64\n",
       "Data de Ocorrência da Matrícula          object\n",
       "Situação da Matrícula                    object\n",
       "Categoria da Situação                    object\n",
       "Mês de Ocorrência da Situação            object\n",
       "Data de Início do Ciclo                  object\n",
       "Data de Fim Previsto do Ciclo            object\n",
       "Vagas Ofertadas                         float64\n",
       "Total de Inscritos                        int64\n",
       "Fonte de Financiamento                   object\n",
       "Carga Horária do Curso                    int64\n",
       "Carga Horária Mínima Regulamentada      float64\n",
       "Eixo Tecnológico                         object\n",
       "Subeixo Tecnológico                      object\n",
       "Modalidade de Ensino                     object\n",
       "Tipo de Curso                            object\n",
       "Tipo de Oferta                           object\n",
       "Nome do Curso                            object\n",
       "Fator de Esforço de Curso                object\n",
       "Código da Unidade de Ensino - SISTEC      int64\n",
       "Unidade de Ensino                        object\n",
       "Código do Município com DV                int64\n",
       "Município                                object\n",
       "Instituição                              object\n",
       "UF                                       object\n",
       "Microrregião                             object\n",
       "Mesorregião                              object\n",
       "Região                                   object\n",
       "dtype: object"
      ]
     },
     "metadata": {},
     "execution_count": 29
    }
   ],
   "source": [
    "df1.dtypes"
   ]
  },
  {
   "source": [
    "## Juntando conjuntos de dados\n",
    "* left\n",
    "* right\n",
    "* outer\n",
    "* inner"
   ],
   "cell_type": "markdown",
   "metadata": {}
  },
  {
   "cell_type": "code",
   "execution_count": 30,
   "metadata": {},
   "outputs": [
    {
     "output_type": "execute_result",
     "data": {
      "text/plain": [
       "       Sexo_x     cmdf1 Data de Ocorrência da Matrícula Situação da Matrícula  \\\n",
       "0           F  65730988                      01/09/2015             CONCLUÍDA   \n",
       "1           M  83074878                      01/08/2017             CONCLUÍDA   \n",
       "2           F  65730960                      01/09/2015             CONCLUÍDA   \n",
       "3           F  53355589                      01/02/2013             DESLIGADA   \n",
       "4           M  53355613                      01/02/2013             DESLIGADA   \n",
       "...       ...       ...                             ...                   ...   \n",
       "374032      M  67296601                      01/04/2016             CONCLUÍDA   \n",
       "374033      M  58590658                      01/11/2013              EM_CURSO   \n",
       "374034      F  58590668                      01/11/2013              EM_CURSO   \n",
       "374035      M  71423535                      01/02/2017              EM_CURSO   \n",
       "374036      F  71423533                      01/02/2017              EM_CURSO   \n",
       "\n",
       "       Categoria da Situação_x Mês de Ocorrência da Situação  \\\n",
       "0                    Conclusão                    19/02/2016   \n",
       "1                    Conclusão                    01/12/2017   \n",
       "2                    Conclusão                    19/12/2016   \n",
       "3                       Evasão                    01/12/2013   \n",
       "4                       Evasão                    01/12/2016   \n",
       "...                        ...                           ...   \n",
       "374032               Conclusão                    28/12/2018   \n",
       "374033                 Retidos                    01/11/2013   \n",
       "374034                 Retidos                    01/11/2013   \n",
       "374035                 Retidos                    01/02/2017   \n",
       "374036                 Retidos                    01/02/2017   \n",
       "\n",
       "       Data de Início do Ciclo Data de Fim Previsto do Ciclo_x  \\\n",
       "0                   01/09/2015                      30/06/2017   \n",
       "1                   29/08/2017                      14/12/2017   \n",
       "2                   01/09/2015                      30/06/2017   \n",
       "3                   27/02/2013                      22/12/2017   \n",
       "4                   27/02/2013                      22/12/2017   \n",
       "...                        ...                             ...   \n",
       "374032              01/04/2016                      19/10/2017   \n",
       "374033              01/11/2013                      31/07/2017   \n",
       "374034              01/11/2013                      31/07/2017   \n",
       "374035              06/02/2017                      22/12/2017   \n",
       "374036              06/02/2017                      22/12/2017   \n",
       "\n",
       "        Vagas Ofertadas_x  Total de Inscritos_x  ... Vagas Extraordinárias l9  \\\n",
       "0                    35.0                     0  ...                      NaN   \n",
       "1                     NaN                    15  ...                      NaN   \n",
       "2                    35.0                     0  ...                      NaN   \n",
       "3                    40.0                  1423  ...                      NaN   \n",
       "4                    40.0                  1423  ...                      NaN   \n",
       "...                   ...                   ...  ...                      ...   \n",
       "374032               40.0                    89  ...                      NaN   \n",
       "374033               30.0                   730  ...                      NaN   \n",
       "374034               30.0                   730  ...                      NaN   \n",
       "374035               40.0                    52  ...                      NaN   \n",
       "374036               40.0                    52  ...                      NaN   \n",
       "\n",
       "        Vagas Regulares AC  Vagas Regulares l10 Vagas Regulares l13  \\\n",
       "0                      NaN                  NaN                 NaN   \n",
       "1                      NaN                  NaN                 NaN   \n",
       "2                      NaN                  NaN                 NaN   \n",
       "3                      NaN                  NaN                 NaN   \n",
       "4                      NaN                  NaN                 NaN   \n",
       "...                    ...                  ...                 ...   \n",
       "374032                 NaN                  NaN                 NaN   \n",
       "374033                 NaN                  NaN                 NaN   \n",
       "374034                 NaN                  NaN                 NaN   \n",
       "374035                 NaN                  NaN                 NaN   \n",
       "374036                 NaN                  NaN                 NaN   \n",
       "\n",
       "       Vagas Regulares l14 Vagas Regulares l1 Vagas Regulares l2  \\\n",
       "0                      NaN                NaN                NaN   \n",
       "1                      NaN                NaN                NaN   \n",
       "2                      NaN                NaN                NaN   \n",
       "3                      NaN                NaN                NaN   \n",
       "4                      NaN                NaN                NaN   \n",
       "...                    ...                ...                ...   \n",
       "374032                 NaN                NaN                NaN   \n",
       "374033                 NaN                NaN                NaN   \n",
       "374034                 NaN                NaN                NaN   \n",
       "374035                 NaN                NaN                NaN   \n",
       "374036                 NaN                NaN                NaN   \n",
       "\n",
       "       Vagas Regulares l5 Vagas Regulares l6 Vagas Regulares l9  \n",
       "0                     NaN                NaN                NaN  \n",
       "1                     NaN                NaN                NaN  \n",
       "2                     NaN                NaN                NaN  \n",
       "3                     NaN                NaN                NaN  \n",
       "4                     NaN                NaN                NaN  \n",
       "...                   ...                ...                ...  \n",
       "374032                NaN                NaN                NaN  \n",
       "374033                NaN                NaN                NaN  \n",
       "374034                NaN                NaN                NaN  \n",
       "374035                NaN                NaN                NaN  \n",
       "374036                NaN                NaN                NaN  \n",
       "\n",
       "[374037 rows x 83 columns]"
      ],
      "text/html": "<div>\n<style scoped>\n    .dataframe tbody tr th:only-of-type {\n        vertical-align: middle;\n    }\n\n    .dataframe tbody tr th {\n        vertical-align: top;\n    }\n\n    .dataframe thead th {\n        text-align: right;\n    }\n</style>\n<table border=\"1\" class=\"dataframe\">\n  <thead>\n    <tr style=\"text-align: right;\">\n      <th></th>\n      <th>Sexo_x</th>\n      <th>cmdf1</th>\n      <th>Data de Ocorrência da Matrícula</th>\n      <th>Situação da Matrícula</th>\n      <th>Categoria da Situação_x</th>\n      <th>Mês de Ocorrência da Situação</th>\n      <th>Data de Início do Ciclo</th>\n      <th>Data de Fim Previsto do Ciclo_x</th>\n      <th>Vagas Ofertadas_x</th>\n      <th>Total de Inscritos_x</th>\n      <th>...</th>\n      <th>Vagas Extraordinárias l9</th>\n      <th>Vagas Regulares AC</th>\n      <th>Vagas Regulares l10</th>\n      <th>Vagas Regulares l13</th>\n      <th>Vagas Regulares l14</th>\n      <th>Vagas Regulares l1</th>\n      <th>Vagas Regulares l2</th>\n      <th>Vagas Regulares l5</th>\n      <th>Vagas Regulares l6</th>\n      <th>Vagas Regulares l9</th>\n    </tr>\n  </thead>\n  <tbody>\n    <tr>\n      <th>0</th>\n      <td>F</td>\n      <td>65730988</td>\n      <td>01/09/2015</td>\n      <td>CONCLUÍDA</td>\n      <td>Conclusão</td>\n      <td>19/02/2016</td>\n      <td>01/09/2015</td>\n      <td>30/06/2017</td>\n      <td>35.0</td>\n      <td>0</td>\n      <td>...</td>\n      <td>NaN</td>\n      <td>NaN</td>\n      <td>NaN</td>\n      <td>NaN</td>\n      <td>NaN</td>\n      <td>NaN</td>\n      <td>NaN</td>\n      <td>NaN</td>\n      <td>NaN</td>\n      <td>NaN</td>\n    </tr>\n    <tr>\n      <th>1</th>\n      <td>M</td>\n      <td>83074878</td>\n      <td>01/08/2017</td>\n      <td>CONCLUÍDA</td>\n      <td>Conclusão</td>\n      <td>01/12/2017</td>\n      <td>29/08/2017</td>\n      <td>14/12/2017</td>\n      <td>NaN</td>\n      <td>15</td>\n      <td>...</td>\n      <td>NaN</td>\n      <td>NaN</td>\n      <td>NaN</td>\n      <td>NaN</td>\n      <td>NaN</td>\n      <td>NaN</td>\n      <td>NaN</td>\n      <td>NaN</td>\n      <td>NaN</td>\n      <td>NaN</td>\n    </tr>\n    <tr>\n      <th>2</th>\n      <td>F</td>\n      <td>65730960</td>\n      <td>01/09/2015</td>\n      <td>CONCLUÍDA</td>\n      <td>Conclusão</td>\n      <td>19/12/2016</td>\n      <td>01/09/2015</td>\n      <td>30/06/2017</td>\n      <td>35.0</td>\n      <td>0</td>\n      <td>...</td>\n      <td>NaN</td>\n      <td>NaN</td>\n      <td>NaN</td>\n      <td>NaN</td>\n      <td>NaN</td>\n      <td>NaN</td>\n      <td>NaN</td>\n      <td>NaN</td>\n      <td>NaN</td>\n      <td>NaN</td>\n    </tr>\n    <tr>\n      <th>3</th>\n      <td>F</td>\n      <td>53355589</td>\n      <td>01/02/2013</td>\n      <td>DESLIGADA</td>\n      <td>Evasão</td>\n      <td>01/12/2013</td>\n      <td>27/02/2013</td>\n      <td>22/12/2017</td>\n      <td>40.0</td>\n      <td>1423</td>\n      <td>...</td>\n      <td>NaN</td>\n      <td>NaN</td>\n      <td>NaN</td>\n      <td>NaN</td>\n      <td>NaN</td>\n      <td>NaN</td>\n      <td>NaN</td>\n      <td>NaN</td>\n      <td>NaN</td>\n      <td>NaN</td>\n    </tr>\n    <tr>\n      <th>4</th>\n      <td>M</td>\n      <td>53355613</td>\n      <td>01/02/2013</td>\n      <td>DESLIGADA</td>\n      <td>Evasão</td>\n      <td>01/12/2016</td>\n      <td>27/02/2013</td>\n      <td>22/12/2017</td>\n      <td>40.0</td>\n      <td>1423</td>\n      <td>...</td>\n      <td>NaN</td>\n      <td>NaN</td>\n      <td>NaN</td>\n      <td>NaN</td>\n      <td>NaN</td>\n      <td>NaN</td>\n      <td>NaN</td>\n      <td>NaN</td>\n      <td>NaN</td>\n      <td>NaN</td>\n    </tr>\n    <tr>\n      <th>...</th>\n      <td>...</td>\n      <td>...</td>\n      <td>...</td>\n      <td>...</td>\n      <td>...</td>\n      <td>...</td>\n      <td>...</td>\n      <td>...</td>\n      <td>...</td>\n      <td>...</td>\n      <td>...</td>\n      <td>...</td>\n      <td>...</td>\n      <td>...</td>\n      <td>...</td>\n      <td>...</td>\n      <td>...</td>\n      <td>...</td>\n      <td>...</td>\n      <td>...</td>\n      <td>...</td>\n    </tr>\n    <tr>\n      <th>374032</th>\n      <td>M</td>\n      <td>67296601</td>\n      <td>01/04/2016</td>\n      <td>CONCLUÍDA</td>\n      <td>Conclusão</td>\n      <td>28/12/2018</td>\n      <td>01/04/2016</td>\n      <td>19/10/2017</td>\n      <td>40.0</td>\n      <td>89</td>\n      <td>...</td>\n      <td>NaN</td>\n      <td>NaN</td>\n      <td>NaN</td>\n      <td>NaN</td>\n      <td>NaN</td>\n      <td>NaN</td>\n      <td>NaN</td>\n      <td>NaN</td>\n      <td>NaN</td>\n      <td>NaN</td>\n    </tr>\n    <tr>\n      <th>374033</th>\n      <td>M</td>\n      <td>58590658</td>\n      <td>01/11/2013</td>\n      <td>EM_CURSO</td>\n      <td>Retidos</td>\n      <td>01/11/2013</td>\n      <td>01/11/2013</td>\n      <td>31/07/2017</td>\n      <td>30.0</td>\n      <td>730</td>\n      <td>...</td>\n      <td>NaN</td>\n      <td>NaN</td>\n      <td>NaN</td>\n      <td>NaN</td>\n      <td>NaN</td>\n      <td>NaN</td>\n      <td>NaN</td>\n      <td>NaN</td>\n      <td>NaN</td>\n      <td>NaN</td>\n    </tr>\n    <tr>\n      <th>374034</th>\n      <td>F</td>\n      <td>58590668</td>\n      <td>01/11/2013</td>\n      <td>EM_CURSO</td>\n      <td>Retidos</td>\n      <td>01/11/2013</td>\n      <td>01/11/2013</td>\n      <td>31/07/2017</td>\n      <td>30.0</td>\n      <td>730</td>\n      <td>...</td>\n      <td>NaN</td>\n      <td>NaN</td>\n      <td>NaN</td>\n      <td>NaN</td>\n      <td>NaN</td>\n      <td>NaN</td>\n      <td>NaN</td>\n      <td>NaN</td>\n      <td>NaN</td>\n      <td>NaN</td>\n    </tr>\n    <tr>\n      <th>374035</th>\n      <td>M</td>\n      <td>71423535</td>\n      <td>01/02/2017</td>\n      <td>EM_CURSO</td>\n      <td>Retidos</td>\n      <td>01/02/2017</td>\n      <td>06/02/2017</td>\n      <td>22/12/2017</td>\n      <td>40.0</td>\n      <td>52</td>\n      <td>...</td>\n      <td>NaN</td>\n      <td>NaN</td>\n      <td>NaN</td>\n      <td>NaN</td>\n      <td>NaN</td>\n      <td>NaN</td>\n      <td>NaN</td>\n      <td>NaN</td>\n      <td>NaN</td>\n      <td>NaN</td>\n    </tr>\n    <tr>\n      <th>374036</th>\n      <td>F</td>\n      <td>71423533</td>\n      <td>01/02/2017</td>\n      <td>EM_CURSO</td>\n      <td>Retidos</td>\n      <td>01/02/2017</td>\n      <td>06/02/2017</td>\n      <td>22/12/2017</td>\n      <td>40.0</td>\n      <td>52</td>\n      <td>...</td>\n      <td>NaN</td>\n      <td>NaN</td>\n      <td>NaN</td>\n      <td>NaN</td>\n      <td>NaN</td>\n      <td>NaN</td>\n      <td>NaN</td>\n      <td>NaN</td>\n      <td>NaN</td>\n      <td>NaN</td>\n    </tr>\n  </tbody>\n</table>\n<p>374037 rows × 83 columns</p>\n</div>"
     },
     "metadata": {},
     "execution_count": 30
    }
   ],
   "source": [
    "result = pd.merge(\n",
    "    left=df1,\n",
    "    right=df2,\n",
    "    left_on='cmdf1',\n",
    "    right_on='cmdf2',\n",
    "    how='left'\n",
    ")\n",
    "result"
   ]
  },
  {
   "cell_type": "code",
   "execution_count": 31,
   "metadata": {},
   "outputs": [
    {
     "output_type": "execute_result",
     "data": {
      "text/plain": [
       "       Sexo_x  cmdf1 Data de Ocorrência da Matrícula Situação da Matrícula  \\\n",
       "0         NaN    NaN                             NaN                   NaN   \n",
       "1         NaN    NaN                             NaN                   NaN   \n",
       "2         NaN    NaN                             NaN                   NaN   \n",
       "3         NaN    NaN                             NaN                   NaN   \n",
       "4         NaN    NaN                             NaN                   NaN   \n",
       "...       ...    ...                             ...                   ...   \n",
       "338843    NaN    NaN                             NaN                   NaN   \n",
       "338844    NaN    NaN                             NaN                   NaN   \n",
       "338845    NaN    NaN                             NaN                   NaN   \n",
       "338846    NaN    NaN                             NaN                   NaN   \n",
       "338847    NaN    NaN                             NaN                   NaN   \n",
       "\n",
       "       Categoria da Situação_x Mês de Ocorrência da Situação  \\\n",
       "0                          NaN                           NaN   \n",
       "1                          NaN                           NaN   \n",
       "2                          NaN                           NaN   \n",
       "3                          NaN                           NaN   \n",
       "4                          NaN                           NaN   \n",
       "...                        ...                           ...   \n",
       "338843                     NaN                           NaN   \n",
       "338844                     NaN                           NaN   \n",
       "338845                     NaN                           NaN   \n",
       "338846                     NaN                           NaN   \n",
       "338847                     NaN                           NaN   \n",
       "\n",
       "       Data de Início do Ciclo Data de Fim Previsto do Ciclo_x  \\\n",
       "0                          NaN                             NaN   \n",
       "1                          NaN                             NaN   \n",
       "2                          NaN                             NaN   \n",
       "3                          NaN                             NaN   \n",
       "4                          NaN                             NaN   \n",
       "...                        ...                             ...   \n",
       "338843                     NaN                             NaN   \n",
       "338844                     NaN                             NaN   \n",
       "338845                     NaN                             NaN   \n",
       "338846                     NaN                             NaN   \n",
       "338847                     NaN                             NaN   \n",
       "\n",
       "        Vagas Ofertadas_x  Total de Inscritos_x  ... Vagas Extraordinárias l9  \\\n",
       "0                     NaN                   NaN  ...                      0.0   \n",
       "1                     NaN                   NaN  ...                      0.0   \n",
       "2                     NaN                   NaN  ...                      0.0   \n",
       "3                     NaN                   NaN  ...                      0.0   \n",
       "4                     NaN                   NaN  ...                      0.0   \n",
       "...                   ...                   ...  ...                      ...   \n",
       "338843                NaN                   NaN  ...                      0.0   \n",
       "338844                NaN                   NaN  ...                      0.0   \n",
       "338845                NaN                   NaN  ...                      0.0   \n",
       "338846                NaN                   NaN  ...                      0.0   \n",
       "338847                NaN                   NaN  ...                      0.0   \n",
       "\n",
       "        Vagas Regulares AC  Vagas Regulares l10 Vagas Regulares l13  \\\n",
       "0                     17.0                  0.0                 0.0   \n",
       "1                     17.0                  0.0                 0.0   \n",
       "2                     17.0                  0.0                 0.0   \n",
       "3                     17.0                  0.0                 0.0   \n",
       "4                     17.0                  0.0                 0.0   \n",
       "...                    ...                  ...                 ...   \n",
       "338843                 NaN                  NaN                 NaN   \n",
       "338844                 NaN                  NaN                 NaN   \n",
       "338845                 NaN                  NaN                 NaN   \n",
       "338846                 NaN                  NaN                 NaN   \n",
       "338847                10.0                  0.0                 0.0   \n",
       "\n",
       "       Vagas Regulares l14 Vagas Regulares l1 Vagas Regulares l2  \\\n",
       "0                      0.0                2.0                7.0   \n",
       "1                      0.0                2.0                7.0   \n",
       "2                      0.0                2.0                7.0   \n",
       "3                      0.0                2.0                7.0   \n",
       "4                      0.0                2.0                7.0   \n",
       "...                    ...                ...                ...   \n",
       "338843                 NaN                NaN                NaN   \n",
       "338844                 NaN                NaN                NaN   \n",
       "338845                 NaN                NaN                NaN   \n",
       "338846                 NaN                NaN                NaN   \n",
       "338847                 0.0                4.0                1.0   \n",
       "\n",
       "       Vagas Regulares l5 Vagas Regulares l6 Vagas Regulares l9  \n",
       "0                     2.0                7.0                0.0  \n",
       "1                     2.0                7.0                0.0  \n",
       "2                     2.0                7.0                0.0  \n",
       "3                     2.0                7.0                0.0  \n",
       "4                     2.0                7.0                0.0  \n",
       "...                   ...                ...                ...  \n",
       "338843                NaN                NaN                NaN  \n",
       "338844                NaN                NaN                NaN  \n",
       "338845                NaN                NaN                NaN  \n",
       "338846                NaN                NaN                NaN  \n",
       "338847                4.0                1.0                0.0  \n",
       "\n",
       "[338848 rows x 83 columns]"
      ],
      "text/html": "<div>\n<style scoped>\n    .dataframe tbody tr th:only-of-type {\n        vertical-align: middle;\n    }\n\n    .dataframe tbody tr th {\n        vertical-align: top;\n    }\n\n    .dataframe thead th {\n        text-align: right;\n    }\n</style>\n<table border=\"1\" class=\"dataframe\">\n  <thead>\n    <tr style=\"text-align: right;\">\n      <th></th>\n      <th>Sexo_x</th>\n      <th>cmdf1</th>\n      <th>Data de Ocorrência da Matrícula</th>\n      <th>Situação da Matrícula</th>\n      <th>Categoria da Situação_x</th>\n      <th>Mês de Ocorrência da Situação</th>\n      <th>Data de Início do Ciclo</th>\n      <th>Data de Fim Previsto do Ciclo_x</th>\n      <th>Vagas Ofertadas_x</th>\n      <th>Total de Inscritos_x</th>\n      <th>...</th>\n      <th>Vagas Extraordinárias l9</th>\n      <th>Vagas Regulares AC</th>\n      <th>Vagas Regulares l10</th>\n      <th>Vagas Regulares l13</th>\n      <th>Vagas Regulares l14</th>\n      <th>Vagas Regulares l1</th>\n      <th>Vagas Regulares l2</th>\n      <th>Vagas Regulares l5</th>\n      <th>Vagas Regulares l6</th>\n      <th>Vagas Regulares l9</th>\n    </tr>\n  </thead>\n  <tbody>\n    <tr>\n      <th>0</th>\n      <td>NaN</td>\n      <td>NaN</td>\n      <td>NaN</td>\n      <td>NaN</td>\n      <td>NaN</td>\n      <td>NaN</td>\n      <td>NaN</td>\n      <td>NaN</td>\n      <td>NaN</td>\n      <td>NaN</td>\n      <td>...</td>\n      <td>0.0</td>\n      <td>17.0</td>\n      <td>0.0</td>\n      <td>0.0</td>\n      <td>0.0</td>\n      <td>2.0</td>\n      <td>7.0</td>\n      <td>2.0</td>\n      <td>7.0</td>\n      <td>0.0</td>\n    </tr>\n    <tr>\n      <th>1</th>\n      <td>NaN</td>\n      <td>NaN</td>\n      <td>NaN</td>\n      <td>NaN</td>\n      <td>NaN</td>\n      <td>NaN</td>\n      <td>NaN</td>\n      <td>NaN</td>\n      <td>NaN</td>\n      <td>NaN</td>\n      <td>...</td>\n      <td>0.0</td>\n      <td>17.0</td>\n      <td>0.0</td>\n      <td>0.0</td>\n      <td>0.0</td>\n      <td>2.0</td>\n      <td>7.0</td>\n      <td>2.0</td>\n      <td>7.0</td>\n      <td>0.0</td>\n    </tr>\n    <tr>\n      <th>2</th>\n      <td>NaN</td>\n      <td>NaN</td>\n      <td>NaN</td>\n      <td>NaN</td>\n      <td>NaN</td>\n      <td>NaN</td>\n      <td>NaN</td>\n      <td>NaN</td>\n      <td>NaN</td>\n      <td>NaN</td>\n      <td>...</td>\n      <td>0.0</td>\n      <td>17.0</td>\n      <td>0.0</td>\n      <td>0.0</td>\n      <td>0.0</td>\n      <td>2.0</td>\n      <td>7.0</td>\n      <td>2.0</td>\n      <td>7.0</td>\n      <td>0.0</td>\n    </tr>\n    <tr>\n      <th>3</th>\n      <td>NaN</td>\n      <td>NaN</td>\n      <td>NaN</td>\n      <td>NaN</td>\n      <td>NaN</td>\n      <td>NaN</td>\n      <td>NaN</td>\n      <td>NaN</td>\n      <td>NaN</td>\n      <td>NaN</td>\n      <td>...</td>\n      <td>0.0</td>\n      <td>17.0</td>\n      <td>0.0</td>\n      <td>0.0</td>\n      <td>0.0</td>\n      <td>2.0</td>\n      <td>7.0</td>\n      <td>2.0</td>\n      <td>7.0</td>\n      <td>0.0</td>\n    </tr>\n    <tr>\n      <th>4</th>\n      <td>NaN</td>\n      <td>NaN</td>\n      <td>NaN</td>\n      <td>NaN</td>\n      <td>NaN</td>\n      <td>NaN</td>\n      <td>NaN</td>\n      <td>NaN</td>\n      <td>NaN</td>\n      <td>NaN</td>\n      <td>...</td>\n      <td>0.0</td>\n      <td>17.0</td>\n      <td>0.0</td>\n      <td>0.0</td>\n      <td>0.0</td>\n      <td>2.0</td>\n      <td>7.0</td>\n      <td>2.0</td>\n      <td>7.0</td>\n      <td>0.0</td>\n    </tr>\n    <tr>\n      <th>...</th>\n      <td>...</td>\n      <td>...</td>\n      <td>...</td>\n      <td>...</td>\n      <td>...</td>\n      <td>...</td>\n      <td>...</td>\n      <td>...</td>\n      <td>...</td>\n      <td>...</td>\n      <td>...</td>\n      <td>...</td>\n      <td>...</td>\n      <td>...</td>\n      <td>...</td>\n      <td>...</td>\n      <td>...</td>\n      <td>...</td>\n      <td>...</td>\n      <td>...</td>\n      <td>...</td>\n    </tr>\n    <tr>\n      <th>338843</th>\n      <td>NaN</td>\n      <td>NaN</td>\n      <td>NaN</td>\n      <td>NaN</td>\n      <td>NaN</td>\n      <td>NaN</td>\n      <td>NaN</td>\n      <td>NaN</td>\n      <td>NaN</td>\n      <td>NaN</td>\n      <td>...</td>\n      <td>0.0</td>\n      <td>NaN</td>\n      <td>NaN</td>\n      <td>NaN</td>\n      <td>NaN</td>\n      <td>NaN</td>\n      <td>NaN</td>\n      <td>NaN</td>\n      <td>NaN</td>\n      <td>NaN</td>\n    </tr>\n    <tr>\n      <th>338844</th>\n      <td>NaN</td>\n      <td>NaN</td>\n      <td>NaN</td>\n      <td>NaN</td>\n      <td>NaN</td>\n      <td>NaN</td>\n      <td>NaN</td>\n      <td>NaN</td>\n      <td>NaN</td>\n      <td>NaN</td>\n      <td>...</td>\n      <td>0.0</td>\n      <td>NaN</td>\n      <td>NaN</td>\n      <td>NaN</td>\n      <td>NaN</td>\n      <td>NaN</td>\n      <td>NaN</td>\n      <td>NaN</td>\n      <td>NaN</td>\n      <td>NaN</td>\n    </tr>\n    <tr>\n      <th>338845</th>\n      <td>NaN</td>\n      <td>NaN</td>\n      <td>NaN</td>\n      <td>NaN</td>\n      <td>NaN</td>\n      <td>NaN</td>\n      <td>NaN</td>\n      <td>NaN</td>\n      <td>NaN</td>\n      <td>NaN</td>\n      <td>...</td>\n      <td>0.0</td>\n      <td>NaN</td>\n      <td>NaN</td>\n      <td>NaN</td>\n      <td>NaN</td>\n      <td>NaN</td>\n      <td>NaN</td>\n      <td>NaN</td>\n      <td>NaN</td>\n      <td>NaN</td>\n    </tr>\n    <tr>\n      <th>338846</th>\n      <td>NaN</td>\n      <td>NaN</td>\n      <td>NaN</td>\n      <td>NaN</td>\n      <td>NaN</td>\n      <td>NaN</td>\n      <td>NaN</td>\n      <td>NaN</td>\n      <td>NaN</td>\n      <td>NaN</td>\n      <td>...</td>\n      <td>0.0</td>\n      <td>NaN</td>\n      <td>NaN</td>\n      <td>NaN</td>\n      <td>NaN</td>\n      <td>NaN</td>\n      <td>NaN</td>\n      <td>NaN</td>\n      <td>NaN</td>\n      <td>NaN</td>\n    </tr>\n    <tr>\n      <th>338847</th>\n      <td>NaN</td>\n      <td>NaN</td>\n      <td>NaN</td>\n      <td>NaN</td>\n      <td>NaN</td>\n      <td>NaN</td>\n      <td>NaN</td>\n      <td>NaN</td>\n      <td>NaN</td>\n      <td>NaN</td>\n      <td>...</td>\n      <td>0.0</td>\n      <td>10.0</td>\n      <td>0.0</td>\n      <td>0.0</td>\n      <td>0.0</td>\n      <td>4.0</td>\n      <td>1.0</td>\n      <td>4.0</td>\n      <td>1.0</td>\n      <td>0.0</td>\n    </tr>\n  </tbody>\n</table>\n<p>338848 rows × 83 columns</p>\n</div>"
     },
     "metadata": {},
     "execution_count": 31
    }
   ],
   "source": [
    "result = pd.merge(\n",
    "    left=df1,\n",
    "    right=df2,\n",
    "    left_on='cmdf1',\n",
    "    right_on='cmdf2',\n",
    "    how='right'\n",
    ")\n",
    "result"
   ]
  },
  {
   "cell_type": "code",
   "execution_count": 32,
   "metadata": {},
   "outputs": [
    {
     "output_type": "execute_result",
     "data": {
      "text/plain": [
       "       Sexo_x       cmdf1 Data de Ocorrência da Matrícula  \\\n",
       "0           F  65730988.0                      01/09/2015   \n",
       "1           M  83074878.0                      01/08/2017   \n",
       "2           F  65730960.0                      01/09/2015   \n",
       "3           F  53355589.0                      01/02/2013   \n",
       "4           M  53355613.0                      01/02/2013   \n",
       "...       ...         ...                             ...   \n",
       "712419    NaN         NaN                             NaN   \n",
       "712420    NaN         NaN                             NaN   \n",
       "712421    NaN         NaN                             NaN   \n",
       "712422    NaN         NaN                             NaN   \n",
       "712423    NaN         NaN                             NaN   \n",
       "\n",
       "       Situação da Matrícula Categoria da Situação_x  \\\n",
       "0                  CONCLUÍDA               Conclusão   \n",
       "1                  CONCLUÍDA               Conclusão   \n",
       "2                  CONCLUÍDA               Conclusão   \n",
       "3                  DESLIGADA                  Evasão   \n",
       "4                  DESLIGADA                  Evasão   \n",
       "...                      ...                     ...   \n",
       "712419                   NaN                     NaN   \n",
       "712420                   NaN                     NaN   \n",
       "712421                   NaN                     NaN   \n",
       "712422                   NaN                     NaN   \n",
       "712423                   NaN                     NaN   \n",
       "\n",
       "       Mês de Ocorrência da Situação Data de Início do Ciclo  \\\n",
       "0                         19/02/2016              01/09/2015   \n",
       "1                         01/12/2017              29/08/2017   \n",
       "2                         19/12/2016              01/09/2015   \n",
       "3                         01/12/2013              27/02/2013   \n",
       "4                         01/12/2016              27/02/2013   \n",
       "...                              ...                     ...   \n",
       "712419                           NaN                     NaN   \n",
       "712420                           NaN                     NaN   \n",
       "712421                           NaN                     NaN   \n",
       "712422                           NaN                     NaN   \n",
       "712423                           NaN                     NaN   \n",
       "\n",
       "       Data de Fim Previsto do Ciclo_x  Vagas Ofertadas_x  \\\n",
       "0                           30/06/2017               35.0   \n",
       "1                           14/12/2017                NaN   \n",
       "2                           30/06/2017               35.0   \n",
       "3                           22/12/2017               40.0   \n",
       "4                           22/12/2017               40.0   \n",
       "...                                ...                ...   \n",
       "712419                             NaN                NaN   \n",
       "712420                             NaN                NaN   \n",
       "712421                             NaN                NaN   \n",
       "712422                             NaN                NaN   \n",
       "712423                             NaN                NaN   \n",
       "\n",
       "        Total de Inscritos_x  ... Vagas Extraordinárias l9  \\\n",
       "0                        0.0  ...                      NaN   \n",
       "1                       15.0  ...                      NaN   \n",
       "2                        0.0  ...                      NaN   \n",
       "3                     1423.0  ...                      NaN   \n",
       "4                     1423.0  ...                      NaN   \n",
       "...                      ...  ...                      ...   \n",
       "712419                   NaN  ...                      0.0   \n",
       "712420                   NaN  ...                      0.0   \n",
       "712421                   NaN  ...                      0.0   \n",
       "712422                   NaN  ...                      0.0   \n",
       "712423                   NaN  ...                      0.0   \n",
       "\n",
       "        Vagas Regulares AC  Vagas Regulares l10 Vagas Regulares l13  \\\n",
       "0                      NaN                  NaN                 NaN   \n",
       "1                      NaN                  NaN                 NaN   \n",
       "2                      NaN                  NaN                 NaN   \n",
       "3                      NaN                  NaN                 NaN   \n",
       "4                      NaN                  NaN                 NaN   \n",
       "...                    ...                  ...                 ...   \n",
       "712419                 NaN                  NaN                 NaN   \n",
       "712420                 NaN                  NaN                 NaN   \n",
       "712421                 NaN                  NaN                 NaN   \n",
       "712422                 NaN                  NaN                 NaN   \n",
       "712423                10.0                  0.0                 0.0   \n",
       "\n",
       "       Vagas Regulares l14 Vagas Regulares l1 Vagas Regulares l2  \\\n",
       "0                      NaN                NaN                NaN   \n",
       "1                      NaN                NaN                NaN   \n",
       "2                      NaN                NaN                NaN   \n",
       "3                      NaN                NaN                NaN   \n",
       "4                      NaN                NaN                NaN   \n",
       "...                    ...                ...                ...   \n",
       "712419                 NaN                NaN                NaN   \n",
       "712420                 NaN                NaN                NaN   \n",
       "712421                 NaN                NaN                NaN   \n",
       "712422                 NaN                NaN                NaN   \n",
       "712423                 0.0                4.0                1.0   \n",
       "\n",
       "       Vagas Regulares l5 Vagas Regulares l6 Vagas Regulares l9  \n",
       "0                     NaN                NaN                NaN  \n",
       "1                     NaN                NaN                NaN  \n",
       "2                     NaN                NaN                NaN  \n",
       "3                     NaN                NaN                NaN  \n",
       "4                     NaN                NaN                NaN  \n",
       "...                   ...                ...                ...  \n",
       "712419                NaN                NaN                NaN  \n",
       "712420                NaN                NaN                NaN  \n",
       "712421                NaN                NaN                NaN  \n",
       "712422                NaN                NaN                NaN  \n",
       "712423                4.0                1.0                0.0  \n",
       "\n",
       "[712424 rows x 83 columns]"
      ],
      "text/html": "<div>\n<style scoped>\n    .dataframe tbody tr th:only-of-type {\n        vertical-align: middle;\n    }\n\n    .dataframe tbody tr th {\n        vertical-align: top;\n    }\n\n    .dataframe thead th {\n        text-align: right;\n    }\n</style>\n<table border=\"1\" class=\"dataframe\">\n  <thead>\n    <tr style=\"text-align: right;\">\n      <th></th>\n      <th>Sexo_x</th>\n      <th>cmdf1</th>\n      <th>Data de Ocorrência da Matrícula</th>\n      <th>Situação da Matrícula</th>\n      <th>Categoria da Situação_x</th>\n      <th>Mês de Ocorrência da Situação</th>\n      <th>Data de Início do Ciclo</th>\n      <th>Data de Fim Previsto do Ciclo_x</th>\n      <th>Vagas Ofertadas_x</th>\n      <th>Total de Inscritos_x</th>\n      <th>...</th>\n      <th>Vagas Extraordinárias l9</th>\n      <th>Vagas Regulares AC</th>\n      <th>Vagas Regulares l10</th>\n      <th>Vagas Regulares l13</th>\n      <th>Vagas Regulares l14</th>\n      <th>Vagas Regulares l1</th>\n      <th>Vagas Regulares l2</th>\n      <th>Vagas Regulares l5</th>\n      <th>Vagas Regulares l6</th>\n      <th>Vagas Regulares l9</th>\n    </tr>\n  </thead>\n  <tbody>\n    <tr>\n      <th>0</th>\n      <td>F</td>\n      <td>65730988.0</td>\n      <td>01/09/2015</td>\n      <td>CONCLUÍDA</td>\n      <td>Conclusão</td>\n      <td>19/02/2016</td>\n      <td>01/09/2015</td>\n      <td>30/06/2017</td>\n      <td>35.0</td>\n      <td>0.0</td>\n      <td>...</td>\n      <td>NaN</td>\n      <td>NaN</td>\n      <td>NaN</td>\n      <td>NaN</td>\n      <td>NaN</td>\n      <td>NaN</td>\n      <td>NaN</td>\n      <td>NaN</td>\n      <td>NaN</td>\n      <td>NaN</td>\n    </tr>\n    <tr>\n      <th>1</th>\n      <td>M</td>\n      <td>83074878.0</td>\n      <td>01/08/2017</td>\n      <td>CONCLUÍDA</td>\n      <td>Conclusão</td>\n      <td>01/12/2017</td>\n      <td>29/08/2017</td>\n      <td>14/12/2017</td>\n      <td>NaN</td>\n      <td>15.0</td>\n      <td>...</td>\n      <td>NaN</td>\n      <td>NaN</td>\n      <td>NaN</td>\n      <td>NaN</td>\n      <td>NaN</td>\n      <td>NaN</td>\n      <td>NaN</td>\n      <td>NaN</td>\n      <td>NaN</td>\n      <td>NaN</td>\n    </tr>\n    <tr>\n      <th>2</th>\n      <td>F</td>\n      <td>65730960.0</td>\n      <td>01/09/2015</td>\n      <td>CONCLUÍDA</td>\n      <td>Conclusão</td>\n      <td>19/12/2016</td>\n      <td>01/09/2015</td>\n      <td>30/06/2017</td>\n      <td>35.0</td>\n      <td>0.0</td>\n      <td>...</td>\n      <td>NaN</td>\n      <td>NaN</td>\n      <td>NaN</td>\n      <td>NaN</td>\n      <td>NaN</td>\n      <td>NaN</td>\n      <td>NaN</td>\n      <td>NaN</td>\n      <td>NaN</td>\n      <td>NaN</td>\n    </tr>\n    <tr>\n      <th>3</th>\n      <td>F</td>\n      <td>53355589.0</td>\n      <td>01/02/2013</td>\n      <td>DESLIGADA</td>\n      <td>Evasão</td>\n      <td>01/12/2013</td>\n      <td>27/02/2013</td>\n      <td>22/12/2017</td>\n      <td>40.0</td>\n      <td>1423.0</td>\n      <td>...</td>\n      <td>NaN</td>\n      <td>NaN</td>\n      <td>NaN</td>\n      <td>NaN</td>\n      <td>NaN</td>\n      <td>NaN</td>\n      <td>NaN</td>\n      <td>NaN</td>\n      <td>NaN</td>\n      <td>NaN</td>\n    </tr>\n    <tr>\n      <th>4</th>\n      <td>M</td>\n      <td>53355613.0</td>\n      <td>01/02/2013</td>\n      <td>DESLIGADA</td>\n      <td>Evasão</td>\n      <td>01/12/2016</td>\n      <td>27/02/2013</td>\n      <td>22/12/2017</td>\n      <td>40.0</td>\n      <td>1423.0</td>\n      <td>...</td>\n      <td>NaN</td>\n      <td>NaN</td>\n      <td>NaN</td>\n      <td>NaN</td>\n      <td>NaN</td>\n      <td>NaN</td>\n      <td>NaN</td>\n      <td>NaN</td>\n      <td>NaN</td>\n      <td>NaN</td>\n    </tr>\n    <tr>\n      <th>...</th>\n      <td>...</td>\n      <td>...</td>\n      <td>...</td>\n      <td>...</td>\n      <td>...</td>\n      <td>...</td>\n      <td>...</td>\n      <td>...</td>\n      <td>...</td>\n      <td>...</td>\n      <td>...</td>\n      <td>...</td>\n      <td>...</td>\n      <td>...</td>\n      <td>...</td>\n      <td>...</td>\n      <td>...</td>\n      <td>...</td>\n      <td>...</td>\n      <td>...</td>\n      <td>...</td>\n    </tr>\n    <tr>\n      <th>712419</th>\n      <td>NaN</td>\n      <td>NaN</td>\n      <td>NaN</td>\n      <td>NaN</td>\n      <td>NaN</td>\n      <td>NaN</td>\n      <td>NaN</td>\n      <td>NaN</td>\n      <td>NaN</td>\n      <td>NaN</td>\n      <td>...</td>\n      <td>0.0</td>\n      <td>NaN</td>\n      <td>NaN</td>\n      <td>NaN</td>\n      <td>NaN</td>\n      <td>NaN</td>\n      <td>NaN</td>\n      <td>NaN</td>\n      <td>NaN</td>\n      <td>NaN</td>\n    </tr>\n    <tr>\n      <th>712420</th>\n      <td>NaN</td>\n      <td>NaN</td>\n      <td>NaN</td>\n      <td>NaN</td>\n      <td>NaN</td>\n      <td>NaN</td>\n      <td>NaN</td>\n      <td>NaN</td>\n      <td>NaN</td>\n      <td>NaN</td>\n      <td>...</td>\n      <td>0.0</td>\n      <td>NaN</td>\n      <td>NaN</td>\n      <td>NaN</td>\n      <td>NaN</td>\n      <td>NaN</td>\n      <td>NaN</td>\n      <td>NaN</td>\n      <td>NaN</td>\n      <td>NaN</td>\n    </tr>\n    <tr>\n      <th>712421</th>\n      <td>NaN</td>\n      <td>NaN</td>\n      <td>NaN</td>\n      <td>NaN</td>\n      <td>NaN</td>\n      <td>NaN</td>\n      <td>NaN</td>\n      <td>NaN</td>\n      <td>NaN</td>\n      <td>NaN</td>\n      <td>...</td>\n      <td>0.0</td>\n      <td>NaN</td>\n      <td>NaN</td>\n      <td>NaN</td>\n      <td>NaN</td>\n      <td>NaN</td>\n      <td>NaN</td>\n      <td>NaN</td>\n      <td>NaN</td>\n      <td>NaN</td>\n    </tr>\n    <tr>\n      <th>712422</th>\n      <td>NaN</td>\n      <td>NaN</td>\n      <td>NaN</td>\n      <td>NaN</td>\n      <td>NaN</td>\n      <td>NaN</td>\n      <td>NaN</td>\n      <td>NaN</td>\n      <td>NaN</td>\n      <td>NaN</td>\n      <td>...</td>\n      <td>0.0</td>\n      <td>NaN</td>\n      <td>NaN</td>\n      <td>NaN</td>\n      <td>NaN</td>\n      <td>NaN</td>\n      <td>NaN</td>\n      <td>NaN</td>\n      <td>NaN</td>\n      <td>NaN</td>\n    </tr>\n    <tr>\n      <th>712423</th>\n      <td>NaN</td>\n      <td>NaN</td>\n      <td>NaN</td>\n      <td>NaN</td>\n      <td>NaN</td>\n      <td>NaN</td>\n      <td>NaN</td>\n      <td>NaN</td>\n      <td>NaN</td>\n      <td>NaN</td>\n      <td>...</td>\n      <td>0.0</td>\n      <td>10.0</td>\n      <td>0.0</td>\n      <td>0.0</td>\n      <td>0.0</td>\n      <td>4.0</td>\n      <td>1.0</td>\n      <td>4.0</td>\n      <td>1.0</td>\n      <td>0.0</td>\n    </tr>\n  </tbody>\n</table>\n<p>712424 rows × 83 columns</p>\n</div>"
     },
     "metadata": {},
     "execution_count": 32
    }
   ],
   "source": [
    "result = pd.merge(\n",
    "    left=df1,\n",
    "    right=df2,\n",
    "    left_on='cmdf1',\n",
    "    right_on='cmdf2',\n",
    "    how='outer'\n",
    ")\n",
    "result"
   ]
  },
  {
   "cell_type": "code",
   "execution_count": 33,
   "metadata": {},
   "outputs": [
    {
     "output_type": "execute_result",
     "data": {
      "text/plain": [
       "    Sexo_x     cmdf1 Data de Ocorrência da Matrícula Situação da Matrícula  \\\n",
       "0        M  61752382                      01/05/2014             DESLIGADA   \n",
       "1        F  61752386                      01/05/2014             DESLIGADA   \n",
       "2        M  54979997                      01/03/2013             DESLIGADA   \n",
       "3        M  54979999                      01/03/2013             CONCLUÍDA   \n",
       "4        M  61752246                      01/05/2014             CONCLUÍDA   \n",
       "..     ...       ...                             ...                   ...   \n",
       "456      M  61764392                      01/03/2014             CONCLUÍDA   \n",
       "457      M  61764390                      01/03/2014         INTEGRALIZADA   \n",
       "458      M  61764384                      01/03/2014         INTEGRALIZADA   \n",
       "459      M  61764378                      01/03/2014             CONCLUÍDA   \n",
       "460      F  61764376                      01/03/2014             CONCLUÍDA   \n",
       "\n",
       "    Categoria da Situação_x Mês de Ocorrência da Situação  \\\n",
       "0                    Evasão                    01/08/2014   \n",
       "1                    Evasão                    01/10/2015   \n",
       "2                    Evasão                    01/02/2018   \n",
       "3                 Conclusão                    01/02/2018   \n",
       "4                 Conclusão                    01/07/2017   \n",
       "..                      ...                           ...   \n",
       "456               Conclusão                    01/07/2017   \n",
       "457               Conclusão                    01/05/2017   \n",
       "458               Conclusão                    01/05/2017   \n",
       "459               Conclusão                    01/07/2017   \n",
       "460               Conclusão                    01/10/2017   \n",
       "\n",
       "    Data de Início do Ciclo Data de Fim Previsto do Ciclo_x  \\\n",
       "0                05/05/2014                      05/05/2017   \n",
       "1                05/05/2014                      05/05/2017   \n",
       "2                04/03/2013                      21/12/2017   \n",
       "3                04/03/2013                      21/12/2017   \n",
       "4                05/05/2014                      05/05/2017   \n",
       "..                      ...                             ...   \n",
       "456              03/02/2014                      30/08/2017   \n",
       "457              03/02/2014                      30/08/2017   \n",
       "458              03/02/2014                      30/08/2017   \n",
       "459              03/02/2014                      30/08/2017   \n",
       "460              03/02/2014                      30/08/2017   \n",
       "\n",
       "     Vagas Ofertadas_x  Total de Inscritos_x  ... Vagas Extraordinárias l9  \\\n",
       "0                  1.0                   441  ...                      0.0   \n",
       "1                  1.0                   441  ...                      0.0   \n",
       "2                 30.0                   344  ...                      0.0   \n",
       "3                 30.0                   344  ...                      0.0   \n",
       "4                  1.0                   441  ...                      0.0   \n",
       "..                 ...                   ...  ...                      ...   \n",
       "456              160.0                   429  ...                      0.0   \n",
       "457              160.0                   429  ...                      0.0   \n",
       "458              160.0                   429  ...                      0.0   \n",
       "459              160.0                   429  ...                      0.0   \n",
       "460              160.0                   429  ...                      0.0   \n",
       "\n",
       "     Vagas Regulares AC  Vagas Regulares l10 Vagas Regulares l13  \\\n",
       "0                   1.0                  0.0                 0.0   \n",
       "1                   1.0                  0.0                 0.0   \n",
       "2                  14.0                  0.0                 0.0   \n",
       "3                  14.0                  0.0                 0.0   \n",
       "4                   1.0                  0.0                 0.0   \n",
       "..                  ...                  ...                 ...   \n",
       "456                80.0                  0.0                 0.0   \n",
       "457                80.0                  0.0                 0.0   \n",
       "458                80.0                  0.0                 0.0   \n",
       "459                80.0                  0.0                 0.0   \n",
       "460                80.0                  0.0                 0.0   \n",
       "\n",
       "    Vagas Regulares l14 Vagas Regulares l1 Vagas Regulares l2  \\\n",
       "0                   0.0                0.0                0.0   \n",
       "1                   0.0                0.0                0.0   \n",
       "2                   0.0                2.0                6.0   \n",
       "3                   0.0                2.0                6.0   \n",
       "4                   0.0                0.0                0.0   \n",
       "..                  ...                ...                ...   \n",
       "456                 0.0               11.0               30.0   \n",
       "457                 0.0               11.0               30.0   \n",
       "458                 0.0               11.0               30.0   \n",
       "459                 0.0               11.0               30.0   \n",
       "460                 0.0               11.0               30.0   \n",
       "\n",
       "    Vagas Regulares l5 Vagas Regulares l6 Vagas Regulares l9  \n",
       "0                  0.0                0.0                0.0  \n",
       "1                  0.0                0.0                0.0  \n",
       "2                  2.0                6.0                0.0  \n",
       "3                  2.0                6.0                0.0  \n",
       "4                  0.0                0.0                0.0  \n",
       "..                 ...                ...                ...  \n",
       "456               11.0               28.0                0.0  \n",
       "457               11.0               28.0                0.0  \n",
       "458               11.0               28.0                0.0  \n",
       "459               11.0               28.0                0.0  \n",
       "460               11.0               28.0                0.0  \n",
       "\n",
       "[461 rows x 83 columns]"
      ],
      "text/html": "<div>\n<style scoped>\n    .dataframe tbody tr th:only-of-type {\n        vertical-align: middle;\n    }\n\n    .dataframe tbody tr th {\n        vertical-align: top;\n    }\n\n    .dataframe thead th {\n        text-align: right;\n    }\n</style>\n<table border=\"1\" class=\"dataframe\">\n  <thead>\n    <tr style=\"text-align: right;\">\n      <th></th>\n      <th>Sexo_x</th>\n      <th>cmdf1</th>\n      <th>Data de Ocorrência da Matrícula</th>\n      <th>Situação da Matrícula</th>\n      <th>Categoria da Situação_x</th>\n      <th>Mês de Ocorrência da Situação</th>\n      <th>Data de Início do Ciclo</th>\n      <th>Data de Fim Previsto do Ciclo_x</th>\n      <th>Vagas Ofertadas_x</th>\n      <th>Total de Inscritos_x</th>\n      <th>...</th>\n      <th>Vagas Extraordinárias l9</th>\n      <th>Vagas Regulares AC</th>\n      <th>Vagas Regulares l10</th>\n      <th>Vagas Regulares l13</th>\n      <th>Vagas Regulares l14</th>\n      <th>Vagas Regulares l1</th>\n      <th>Vagas Regulares l2</th>\n      <th>Vagas Regulares l5</th>\n      <th>Vagas Regulares l6</th>\n      <th>Vagas Regulares l9</th>\n    </tr>\n  </thead>\n  <tbody>\n    <tr>\n      <th>0</th>\n      <td>M</td>\n      <td>61752382</td>\n      <td>01/05/2014</td>\n      <td>DESLIGADA</td>\n      <td>Evasão</td>\n      <td>01/08/2014</td>\n      <td>05/05/2014</td>\n      <td>05/05/2017</td>\n      <td>1.0</td>\n      <td>441</td>\n      <td>...</td>\n      <td>0.0</td>\n      <td>1.0</td>\n      <td>0.0</td>\n      <td>0.0</td>\n      <td>0.0</td>\n      <td>0.0</td>\n      <td>0.0</td>\n      <td>0.0</td>\n      <td>0.0</td>\n      <td>0.0</td>\n    </tr>\n    <tr>\n      <th>1</th>\n      <td>F</td>\n      <td>61752386</td>\n      <td>01/05/2014</td>\n      <td>DESLIGADA</td>\n      <td>Evasão</td>\n      <td>01/10/2015</td>\n      <td>05/05/2014</td>\n      <td>05/05/2017</td>\n      <td>1.0</td>\n      <td>441</td>\n      <td>...</td>\n      <td>0.0</td>\n      <td>1.0</td>\n      <td>0.0</td>\n      <td>0.0</td>\n      <td>0.0</td>\n      <td>0.0</td>\n      <td>0.0</td>\n      <td>0.0</td>\n      <td>0.0</td>\n      <td>0.0</td>\n    </tr>\n    <tr>\n      <th>2</th>\n      <td>M</td>\n      <td>54979997</td>\n      <td>01/03/2013</td>\n      <td>DESLIGADA</td>\n      <td>Evasão</td>\n      <td>01/02/2018</td>\n      <td>04/03/2013</td>\n      <td>21/12/2017</td>\n      <td>30.0</td>\n      <td>344</td>\n      <td>...</td>\n      <td>0.0</td>\n      <td>14.0</td>\n      <td>0.0</td>\n      <td>0.0</td>\n      <td>0.0</td>\n      <td>2.0</td>\n      <td>6.0</td>\n      <td>2.0</td>\n      <td>6.0</td>\n      <td>0.0</td>\n    </tr>\n    <tr>\n      <th>3</th>\n      <td>M</td>\n      <td>54979999</td>\n      <td>01/03/2013</td>\n      <td>CONCLUÍDA</td>\n      <td>Conclusão</td>\n      <td>01/02/2018</td>\n      <td>04/03/2013</td>\n      <td>21/12/2017</td>\n      <td>30.0</td>\n      <td>344</td>\n      <td>...</td>\n      <td>0.0</td>\n      <td>14.0</td>\n      <td>0.0</td>\n      <td>0.0</td>\n      <td>0.0</td>\n      <td>2.0</td>\n      <td>6.0</td>\n      <td>2.0</td>\n      <td>6.0</td>\n      <td>0.0</td>\n    </tr>\n    <tr>\n      <th>4</th>\n      <td>M</td>\n      <td>61752246</td>\n      <td>01/05/2014</td>\n      <td>CONCLUÍDA</td>\n      <td>Conclusão</td>\n      <td>01/07/2017</td>\n      <td>05/05/2014</td>\n      <td>05/05/2017</td>\n      <td>1.0</td>\n      <td>441</td>\n      <td>...</td>\n      <td>0.0</td>\n      <td>1.0</td>\n      <td>0.0</td>\n      <td>0.0</td>\n      <td>0.0</td>\n      <td>0.0</td>\n      <td>0.0</td>\n      <td>0.0</td>\n      <td>0.0</td>\n      <td>0.0</td>\n    </tr>\n    <tr>\n      <th>...</th>\n      <td>...</td>\n      <td>...</td>\n      <td>...</td>\n      <td>...</td>\n      <td>...</td>\n      <td>...</td>\n      <td>...</td>\n      <td>...</td>\n      <td>...</td>\n      <td>...</td>\n      <td>...</td>\n      <td>...</td>\n      <td>...</td>\n      <td>...</td>\n      <td>...</td>\n      <td>...</td>\n      <td>...</td>\n      <td>...</td>\n      <td>...</td>\n      <td>...</td>\n      <td>...</td>\n    </tr>\n    <tr>\n      <th>456</th>\n      <td>M</td>\n      <td>61764392</td>\n      <td>01/03/2014</td>\n      <td>CONCLUÍDA</td>\n      <td>Conclusão</td>\n      <td>01/07/2017</td>\n      <td>03/02/2014</td>\n      <td>30/08/2017</td>\n      <td>160.0</td>\n      <td>429</td>\n      <td>...</td>\n      <td>0.0</td>\n      <td>80.0</td>\n      <td>0.0</td>\n      <td>0.0</td>\n      <td>0.0</td>\n      <td>11.0</td>\n      <td>30.0</td>\n      <td>11.0</td>\n      <td>28.0</td>\n      <td>0.0</td>\n    </tr>\n    <tr>\n      <th>457</th>\n      <td>M</td>\n      <td>61764390</td>\n      <td>01/03/2014</td>\n      <td>INTEGRALIZADA</td>\n      <td>Conclusão</td>\n      <td>01/05/2017</td>\n      <td>03/02/2014</td>\n      <td>30/08/2017</td>\n      <td>160.0</td>\n      <td>429</td>\n      <td>...</td>\n      <td>0.0</td>\n      <td>80.0</td>\n      <td>0.0</td>\n      <td>0.0</td>\n      <td>0.0</td>\n      <td>11.0</td>\n      <td>30.0</td>\n      <td>11.0</td>\n      <td>28.0</td>\n      <td>0.0</td>\n    </tr>\n    <tr>\n      <th>458</th>\n      <td>M</td>\n      <td>61764384</td>\n      <td>01/03/2014</td>\n      <td>INTEGRALIZADA</td>\n      <td>Conclusão</td>\n      <td>01/05/2017</td>\n      <td>03/02/2014</td>\n      <td>30/08/2017</td>\n      <td>160.0</td>\n      <td>429</td>\n      <td>...</td>\n      <td>0.0</td>\n      <td>80.0</td>\n      <td>0.0</td>\n      <td>0.0</td>\n      <td>0.0</td>\n      <td>11.0</td>\n      <td>30.0</td>\n      <td>11.0</td>\n      <td>28.0</td>\n      <td>0.0</td>\n    </tr>\n    <tr>\n      <th>459</th>\n      <td>M</td>\n      <td>61764378</td>\n      <td>01/03/2014</td>\n      <td>CONCLUÍDA</td>\n      <td>Conclusão</td>\n      <td>01/07/2017</td>\n      <td>03/02/2014</td>\n      <td>30/08/2017</td>\n      <td>160.0</td>\n      <td>429</td>\n      <td>...</td>\n      <td>0.0</td>\n      <td>80.0</td>\n      <td>0.0</td>\n      <td>0.0</td>\n      <td>0.0</td>\n      <td>11.0</td>\n      <td>30.0</td>\n      <td>11.0</td>\n      <td>28.0</td>\n      <td>0.0</td>\n    </tr>\n    <tr>\n      <th>460</th>\n      <td>F</td>\n      <td>61764376</td>\n      <td>01/03/2014</td>\n      <td>CONCLUÍDA</td>\n      <td>Conclusão</td>\n      <td>01/10/2017</td>\n      <td>03/02/2014</td>\n      <td>30/08/2017</td>\n      <td>160.0</td>\n      <td>429</td>\n      <td>...</td>\n      <td>0.0</td>\n      <td>80.0</td>\n      <td>0.0</td>\n      <td>0.0</td>\n      <td>0.0</td>\n      <td>11.0</td>\n      <td>30.0</td>\n      <td>11.0</td>\n      <td>28.0</td>\n      <td>0.0</td>\n    </tr>\n  </tbody>\n</table>\n<p>461 rows × 83 columns</p>\n</div>"
     },
     "metadata": {},
     "execution_count": 33
    }
   ],
   "source": [
    "result = pd.merge(\n",
    "    left=df1,\n",
    "    right=df2,\n",
    "    left_on='cmdf1',\n",
    "    right_on='cmdf2',\n",
    "    how='inner'\n",
    ")\n",
    "result"
   ]
  },
  {
   "cell_type": "code",
   "execution_count": null,
   "metadata": {},
   "outputs": [],
   "source": []
  }
 ]
}