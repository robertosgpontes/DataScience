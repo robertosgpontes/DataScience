{
 "metadata": {
  "language_info": {
   "codemirror_mode": {
    "name": "ipython",
    "version": 3
   },
   "file_extension": ".py",
   "mimetype": "text/x-python",
   "name": "python",
   "nbconvert_exporter": "python",
   "pygments_lexer": "ipython3",
   "version": "3.8.5-final"
  },
  "orig_nbformat": 2,
  "kernelspec": {
   "name": "python38564bitdatasciencevenvc6b0070e1aa0499bb925ccbdc2a8bca5",
   "display_name": "Python 3.8.5 64-bit ('datascience': venv)",
   "language": "python"
  }
 },
 "nbformat": 4,
 "nbformat_minor": 2,
 "cells": [
  {
   "source": [
    "### Bibliotecas de leitura csv, xls, xlsx "
   ],
   "cell_type": "markdown",
   "metadata": {}
  },
  {
   "source": [
    "* os.read\n",
    "* xlrd\n",
    "* openpyxl\n",
    "* pandas"
   ],
   "cell_type": "markdown",
   "metadata": {}
  },
  {
   "cell_type": "code",
   "execution_count": 1,
   "metadata": {},
   "outputs": [],
   "source": [
    "import pandas as pd"
   ]
  },
  {
   "source": [
    "#### Método 1 - Leitura direta"
   ],
   "cell_type": "markdown",
   "metadata": {}
  },
  {
   "cell_type": "code",
   "execution_count": 11,
   "metadata": {},
   "outputs": [
    {
     "output_type": "execute_result",
     "data": {
      "text/plain": [
       "       ds  hzdepup  hzdeplow  sand  silt  clay  phh2o  sb  al   h  corg\n",
       "0    0.90       24        60   110    70   820     54   1   1  49  13.7\n",
       "1    0.91       60       135   110    60   830     57   1   0  30   9.0\n",
       "2    0.89      135       165   100   120   780     57   1   0  18   7.3\n",
       "3    0.83      165       192   110    80   810     59   1   0  13   6.0\n",
       "4    1.53       15        40   840    10   150     46   1   2  18   3.5\n",
       "..    ...      ...       ...   ...   ...   ...    ...  ..  ..  ..   ...\n",
       "129  0.72       94       137    20   130   850     49   6  31  68  15.1\n",
       "130  0.78      137       190    20   130   860     50   5  17  51   8.1\n",
       "131  0.73        0        15    30   150   820     47  37  27  80  27.9\n",
       "132  0.95        0        20    80   110   810     48   3  19  89  22.3\n",
       "133  0.84       20        40    70    90   840     48   2  14  71  16.1\n",
       "\n",
       "[134 rows x 11 columns]"
      ],
      "text/html": "<div>\n<style scoped>\n    .dataframe tbody tr th:only-of-type {\n        vertical-align: middle;\n    }\n\n    .dataframe tbody tr th {\n        vertical-align: top;\n    }\n\n    .dataframe thead th {\n        text-align: right;\n    }\n</style>\n<table border=\"1\" class=\"dataframe\">\n  <thead>\n    <tr style=\"text-align: right;\">\n      <th></th>\n      <th>ds</th>\n      <th>hzdepup</th>\n      <th>hzdeplow</th>\n      <th>sand</th>\n      <th>silt</th>\n      <th>clay</th>\n      <th>phh2o</th>\n      <th>sb</th>\n      <th>al</th>\n      <th>h</th>\n      <th>corg</th>\n    </tr>\n  </thead>\n  <tbody>\n    <tr>\n      <th>0</th>\n      <td>0.90</td>\n      <td>24</td>\n      <td>60</td>\n      <td>110</td>\n      <td>70</td>\n      <td>820</td>\n      <td>54</td>\n      <td>1</td>\n      <td>1</td>\n      <td>49</td>\n      <td>13.7</td>\n    </tr>\n    <tr>\n      <th>1</th>\n      <td>0.91</td>\n      <td>60</td>\n      <td>135</td>\n      <td>110</td>\n      <td>60</td>\n      <td>830</td>\n      <td>57</td>\n      <td>1</td>\n      <td>0</td>\n      <td>30</td>\n      <td>9.0</td>\n    </tr>\n    <tr>\n      <th>2</th>\n      <td>0.89</td>\n      <td>135</td>\n      <td>165</td>\n      <td>100</td>\n      <td>120</td>\n      <td>780</td>\n      <td>57</td>\n      <td>1</td>\n      <td>0</td>\n      <td>18</td>\n      <td>7.3</td>\n    </tr>\n    <tr>\n      <th>3</th>\n      <td>0.83</td>\n      <td>165</td>\n      <td>192</td>\n      <td>110</td>\n      <td>80</td>\n      <td>810</td>\n      <td>59</td>\n      <td>1</td>\n      <td>0</td>\n      <td>13</td>\n      <td>6.0</td>\n    </tr>\n    <tr>\n      <th>4</th>\n      <td>1.53</td>\n      <td>15</td>\n      <td>40</td>\n      <td>840</td>\n      <td>10</td>\n      <td>150</td>\n      <td>46</td>\n      <td>1</td>\n      <td>2</td>\n      <td>18</td>\n      <td>3.5</td>\n    </tr>\n    <tr>\n      <th>...</th>\n      <td>...</td>\n      <td>...</td>\n      <td>...</td>\n      <td>...</td>\n      <td>...</td>\n      <td>...</td>\n      <td>...</td>\n      <td>...</td>\n      <td>...</td>\n      <td>...</td>\n      <td>...</td>\n    </tr>\n    <tr>\n      <th>129</th>\n      <td>0.72</td>\n      <td>94</td>\n      <td>137</td>\n      <td>20</td>\n      <td>130</td>\n      <td>850</td>\n      <td>49</td>\n      <td>6</td>\n      <td>31</td>\n      <td>68</td>\n      <td>15.1</td>\n    </tr>\n    <tr>\n      <th>130</th>\n      <td>0.78</td>\n      <td>137</td>\n      <td>190</td>\n      <td>20</td>\n      <td>130</td>\n      <td>860</td>\n      <td>50</td>\n      <td>5</td>\n      <td>17</td>\n      <td>51</td>\n      <td>8.1</td>\n    </tr>\n    <tr>\n      <th>131</th>\n      <td>0.73</td>\n      <td>0</td>\n      <td>15</td>\n      <td>30</td>\n      <td>150</td>\n      <td>820</td>\n      <td>47</td>\n      <td>37</td>\n      <td>27</td>\n      <td>80</td>\n      <td>27.9</td>\n    </tr>\n    <tr>\n      <th>132</th>\n      <td>0.95</td>\n      <td>0</td>\n      <td>20</td>\n      <td>80</td>\n      <td>110</td>\n      <td>810</td>\n      <td>48</td>\n      <td>3</td>\n      <td>19</td>\n      <td>89</td>\n      <td>22.3</td>\n    </tr>\n    <tr>\n      <th>133</th>\n      <td>0.84</td>\n      <td>20</td>\n      <td>40</td>\n      <td>70</td>\n      <td>90</td>\n      <td>840</td>\n      <td>48</td>\n      <td>2</td>\n      <td>14</td>\n      <td>71</td>\n      <td>16.1</td>\n    </tr>\n  </tbody>\n</table>\n<p>134 rows × 11 columns</p>\n</div>"
     },
     "metadata": {},
     "execution_count": 11
    }
   ],
   "source": [
    "df = pd.read_excel('dataset/sample.xlsx')\n",
    "df"
   ]
  },
  {
   "source": [
    "#### Método 2 - Leitura com seleção de planilha"
   ],
   "cell_type": "markdown",
   "metadata": {}
  },
  {
   "cell_type": "code",
   "execution_count": 12,
   "metadata": {},
   "outputs": [
    {
     "output_type": "execute_result",
     "data": {
      "text/plain": [
       "       ds  hzdepup  hzdeplow  sand  silt  clay  phh2o  sb  al   h  corg\n",
       "0    0.90       24        60   110    70   820     54   1   1  49  13.7\n",
       "1    0.91       60       135   110    60   830     57   1   0  30   9.0\n",
       "2    0.89      135       165   100   120   780     57   1   0  18   7.3\n",
       "3    0.83      165       192   110    80   810     59   1   0  13   6.0\n",
       "4    1.53       15        40   840    10   150     46   1   2  18   3.5\n",
       "..    ...      ...       ...   ...   ...   ...    ...  ..  ..  ..   ...\n",
       "129  0.72       94       137    20   130   850     49   6  31  68  15.1\n",
       "130  0.78      137       190    20   130   860     50   5  17  51   8.1\n",
       "131  0.73        0        15    30   150   820     47  37  27  80  27.9\n",
       "132  0.95        0        20    80   110   810     48   3  19  89  22.3\n",
       "133  0.84       20        40    70    90   840     48   2  14  71  16.1\n",
       "\n",
       "[134 rows x 11 columns]"
      ],
      "text/html": "<div>\n<style scoped>\n    .dataframe tbody tr th:only-of-type {\n        vertical-align: middle;\n    }\n\n    .dataframe tbody tr th {\n        vertical-align: top;\n    }\n\n    .dataframe thead th {\n        text-align: right;\n    }\n</style>\n<table border=\"1\" class=\"dataframe\">\n  <thead>\n    <tr style=\"text-align: right;\">\n      <th></th>\n      <th>ds</th>\n      <th>hzdepup</th>\n      <th>hzdeplow</th>\n      <th>sand</th>\n      <th>silt</th>\n      <th>clay</th>\n      <th>phh2o</th>\n      <th>sb</th>\n      <th>al</th>\n      <th>h</th>\n      <th>corg</th>\n    </tr>\n  </thead>\n  <tbody>\n    <tr>\n      <th>0</th>\n      <td>0.90</td>\n      <td>24</td>\n      <td>60</td>\n      <td>110</td>\n      <td>70</td>\n      <td>820</td>\n      <td>54</td>\n      <td>1</td>\n      <td>1</td>\n      <td>49</td>\n      <td>13.7</td>\n    </tr>\n    <tr>\n      <th>1</th>\n      <td>0.91</td>\n      <td>60</td>\n      <td>135</td>\n      <td>110</td>\n      <td>60</td>\n      <td>830</td>\n      <td>57</td>\n      <td>1</td>\n      <td>0</td>\n      <td>30</td>\n      <td>9.0</td>\n    </tr>\n    <tr>\n      <th>2</th>\n      <td>0.89</td>\n      <td>135</td>\n      <td>165</td>\n      <td>100</td>\n      <td>120</td>\n      <td>780</td>\n      <td>57</td>\n      <td>1</td>\n      <td>0</td>\n      <td>18</td>\n      <td>7.3</td>\n    </tr>\n    <tr>\n      <th>3</th>\n      <td>0.83</td>\n      <td>165</td>\n      <td>192</td>\n      <td>110</td>\n      <td>80</td>\n      <td>810</td>\n      <td>59</td>\n      <td>1</td>\n      <td>0</td>\n      <td>13</td>\n      <td>6.0</td>\n    </tr>\n    <tr>\n      <th>4</th>\n      <td>1.53</td>\n      <td>15</td>\n      <td>40</td>\n      <td>840</td>\n      <td>10</td>\n      <td>150</td>\n      <td>46</td>\n      <td>1</td>\n      <td>2</td>\n      <td>18</td>\n      <td>3.5</td>\n    </tr>\n    <tr>\n      <th>...</th>\n      <td>...</td>\n      <td>...</td>\n      <td>...</td>\n      <td>...</td>\n      <td>...</td>\n      <td>...</td>\n      <td>...</td>\n      <td>...</td>\n      <td>...</td>\n      <td>...</td>\n      <td>...</td>\n    </tr>\n    <tr>\n      <th>129</th>\n      <td>0.72</td>\n      <td>94</td>\n      <td>137</td>\n      <td>20</td>\n      <td>130</td>\n      <td>850</td>\n      <td>49</td>\n      <td>6</td>\n      <td>31</td>\n      <td>68</td>\n      <td>15.1</td>\n    </tr>\n    <tr>\n      <th>130</th>\n      <td>0.78</td>\n      <td>137</td>\n      <td>190</td>\n      <td>20</td>\n      <td>130</td>\n      <td>860</td>\n      <td>50</td>\n      <td>5</td>\n      <td>17</td>\n      <td>51</td>\n      <td>8.1</td>\n    </tr>\n    <tr>\n      <th>131</th>\n      <td>0.73</td>\n      <td>0</td>\n      <td>15</td>\n      <td>30</td>\n      <td>150</td>\n      <td>820</td>\n      <td>47</td>\n      <td>37</td>\n      <td>27</td>\n      <td>80</td>\n      <td>27.9</td>\n    </tr>\n    <tr>\n      <th>132</th>\n      <td>0.95</td>\n      <td>0</td>\n      <td>20</td>\n      <td>80</td>\n      <td>110</td>\n      <td>810</td>\n      <td>48</td>\n      <td>3</td>\n      <td>19</td>\n      <td>89</td>\n      <td>22.3</td>\n    </tr>\n    <tr>\n      <th>133</th>\n      <td>0.84</td>\n      <td>20</td>\n      <td>40</td>\n      <td>70</td>\n      <td>90</td>\n      <td>840</td>\n      <td>48</td>\n      <td>2</td>\n      <td>14</td>\n      <td>71</td>\n      <td>16.1</td>\n    </tr>\n  </tbody>\n</table>\n<p>134 rows × 11 columns</p>\n</div>"
     },
     "metadata": {},
     "execution_count": 12
    }
   ],
   "source": [
    "df = pd.read_excel('dataset/sample.xlsx', 'p1')\n",
    "df"
   ]
  },
  {
   "cell_type": "code",
   "execution_count": 13,
   "metadata": {},
   "outputs": [
    {
     "output_type": "execute_result",
     "data": {
      "text/plain": [
       "    ds2  hzdepup  hzdeplow  sand  silt  clay  phh2o  sb  al   h  corg\n",
       "0  0.90       24        60   110    70   820     54   1   1  49  13.7\n",
       "1  0.91       60       135   110    60   830     57   1   0  30   9.0\n",
       "2  0.89      135       165   100   120   780     57   1   0  18   7.3\n",
       "3  0.83      165       192   110    80   810     59   1   0  13   6.0\n",
       "4  1.53       15        40   840    10   150     46   1   2  18   3.5\n",
       "5  1.44       40        65   820    20   160     46   1   2  12   2.5"
      ],
      "text/html": "<div>\n<style scoped>\n    .dataframe tbody tr th:only-of-type {\n        vertical-align: middle;\n    }\n\n    .dataframe tbody tr th {\n        vertical-align: top;\n    }\n\n    .dataframe thead th {\n        text-align: right;\n    }\n</style>\n<table border=\"1\" class=\"dataframe\">\n  <thead>\n    <tr style=\"text-align: right;\">\n      <th></th>\n      <th>ds2</th>\n      <th>hzdepup</th>\n      <th>hzdeplow</th>\n      <th>sand</th>\n      <th>silt</th>\n      <th>clay</th>\n      <th>phh2o</th>\n      <th>sb</th>\n      <th>al</th>\n      <th>h</th>\n      <th>corg</th>\n    </tr>\n  </thead>\n  <tbody>\n    <tr>\n      <th>0</th>\n      <td>0.90</td>\n      <td>24</td>\n      <td>60</td>\n      <td>110</td>\n      <td>70</td>\n      <td>820</td>\n      <td>54</td>\n      <td>1</td>\n      <td>1</td>\n      <td>49</td>\n      <td>13.7</td>\n    </tr>\n    <tr>\n      <th>1</th>\n      <td>0.91</td>\n      <td>60</td>\n      <td>135</td>\n      <td>110</td>\n      <td>60</td>\n      <td>830</td>\n      <td>57</td>\n      <td>1</td>\n      <td>0</td>\n      <td>30</td>\n      <td>9.0</td>\n    </tr>\n    <tr>\n      <th>2</th>\n      <td>0.89</td>\n      <td>135</td>\n      <td>165</td>\n      <td>100</td>\n      <td>120</td>\n      <td>780</td>\n      <td>57</td>\n      <td>1</td>\n      <td>0</td>\n      <td>18</td>\n      <td>7.3</td>\n    </tr>\n    <tr>\n      <th>3</th>\n      <td>0.83</td>\n      <td>165</td>\n      <td>192</td>\n      <td>110</td>\n      <td>80</td>\n      <td>810</td>\n      <td>59</td>\n      <td>1</td>\n      <td>0</td>\n      <td>13</td>\n      <td>6.0</td>\n    </tr>\n    <tr>\n      <th>4</th>\n      <td>1.53</td>\n      <td>15</td>\n      <td>40</td>\n      <td>840</td>\n      <td>10</td>\n      <td>150</td>\n      <td>46</td>\n      <td>1</td>\n      <td>2</td>\n      <td>18</td>\n      <td>3.5</td>\n    </tr>\n    <tr>\n      <th>5</th>\n      <td>1.44</td>\n      <td>40</td>\n      <td>65</td>\n      <td>820</td>\n      <td>20</td>\n      <td>160</td>\n      <td>46</td>\n      <td>1</td>\n      <td>2</td>\n      <td>12</td>\n      <td>2.5</td>\n    </tr>\n  </tbody>\n</table>\n</div>"
     },
     "metadata": {},
     "execution_count": 13
    }
   ],
   "source": [
    "df = pd.read_excel('dataset/sample.xlsx', 'p2')\n",
    "df"
   ]
  },
  {
   "cell_type": "code",
   "execution_count": null,
   "metadata": {},
   "outputs": [],
   "source": []
  }
 ]
}