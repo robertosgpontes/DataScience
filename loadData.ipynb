{
 "metadata": {
  "language_info": {
   "codemirror_mode": {
    "name": "ipython",
    "version": 3
   },
   "file_extension": ".py",
   "mimetype": "text/x-python",
   "name": "python",
   "nbconvert_exporter": "python",
   "pygments_lexer": "ipython3",
   "version": "3.8.5-final"
  },
  "orig_nbformat": 2,
  "kernelspec": {
   "name": "python38564bitdatasciencevenvc6b0070e1aa0499bb925ccbdc2a8bca5",
   "display_name": "Python 3.8.5 64-bit ('datascience': venv)",
   "language": "python"
  }
 },
 "nbformat": 4,
 "nbformat_minor": 2,
 "cells": [
  {
   "source": [
    "## Bibliotecas de leitura csv, xls, xlsx, ods e json"
   ],
   "cell_type": "markdown",
   "metadata": {}
  },
  {
   "source": [
    "* os\n",
    "* xlrd\n",
    "* openpyxl\n",
    "* pandas"
   ],
   "cell_type": "markdown",
   "metadata": {}
  },
  {
   "cell_type": "code",
   "execution_count": 1,
   "metadata": {},
   "outputs": [],
   "source": [
    "import pandas as pd"
   ]
  },
  {
   "source": [
    "## Leitura xls, xlsx, xlsm, xlsb, odf, ods e odt"
   ],
   "cell_type": "markdown",
   "metadata": {}
  },
  {
   "source": [
    "![Pasta de Trabalho Base](dataset/sample_xlsx.png)"
   ],
   "cell_type": "markdown",
   "metadata": {}
  },
  {
   "source": [
    "#### Método 1 - Leitura direta"
   ],
   "cell_type": "markdown",
   "metadata": {}
  },
  {
   "cell_type": "code",
   "execution_count": 11,
   "metadata": {},
   "outputs": [
    {
     "output_type": "execute_result",
     "data": {
      "text/plain": [
       "       ds  hzdepup  hzdeplow  sand  silt  clay  phh2o  sb  al   h  corg\n",
       "0    0.90       24        60   110    70   820     54   1   1  49  13.7\n",
       "1    0.91       60       135   110    60   830     57   1   0  30   9.0\n",
       "2    0.89      135       165   100   120   780     57   1   0  18   7.3\n",
       "3    0.83      165       192   110    80   810     59   1   0  13   6.0\n",
       "4    1.53       15        40   840    10   150     46   1   2  18   3.5\n",
       "..    ...      ...       ...   ...   ...   ...    ...  ..  ..  ..   ...\n",
       "129  0.72       94       137    20   130   850     49   6  31  68  15.1\n",
       "130  0.78      137       190    20   130   860     50   5  17  51   8.1\n",
       "131  0.73        0        15    30   150   820     47  37  27  80  27.9\n",
       "132  0.95        0        20    80   110   810     48   3  19  89  22.3\n",
       "133  0.84       20        40    70    90   840     48   2  14  71  16.1\n",
       "\n",
       "[134 rows x 11 columns]"
      ],
      "text/html": "<div>\n<style scoped>\n    .dataframe tbody tr th:only-of-type {\n        vertical-align: middle;\n    }\n\n    .dataframe tbody tr th {\n        vertical-align: top;\n    }\n\n    .dataframe thead th {\n        text-align: right;\n    }\n</style>\n<table border=\"1\" class=\"dataframe\">\n  <thead>\n    <tr style=\"text-align: right;\">\n      <th></th>\n      <th>ds</th>\n      <th>hzdepup</th>\n      <th>hzdeplow</th>\n      <th>sand</th>\n      <th>silt</th>\n      <th>clay</th>\n      <th>phh2o</th>\n      <th>sb</th>\n      <th>al</th>\n      <th>h</th>\n      <th>corg</th>\n    </tr>\n  </thead>\n  <tbody>\n    <tr>\n      <th>0</th>\n      <td>0.90</td>\n      <td>24</td>\n      <td>60</td>\n      <td>110</td>\n      <td>70</td>\n      <td>820</td>\n      <td>54</td>\n      <td>1</td>\n      <td>1</td>\n      <td>49</td>\n      <td>13.7</td>\n    </tr>\n    <tr>\n      <th>1</th>\n      <td>0.91</td>\n      <td>60</td>\n      <td>135</td>\n      <td>110</td>\n      <td>60</td>\n      <td>830</td>\n      <td>57</td>\n      <td>1</td>\n      <td>0</td>\n      <td>30</td>\n      <td>9.0</td>\n    </tr>\n    <tr>\n      <th>2</th>\n      <td>0.89</td>\n      <td>135</td>\n      <td>165</td>\n      <td>100</td>\n      <td>120</td>\n      <td>780</td>\n      <td>57</td>\n      <td>1</td>\n      <td>0</td>\n      <td>18</td>\n      <td>7.3</td>\n    </tr>\n    <tr>\n      <th>3</th>\n      <td>0.83</td>\n      <td>165</td>\n      <td>192</td>\n      <td>110</td>\n      <td>80</td>\n      <td>810</td>\n      <td>59</td>\n      <td>1</td>\n      <td>0</td>\n      <td>13</td>\n      <td>6.0</td>\n    </tr>\n    <tr>\n      <th>4</th>\n      <td>1.53</td>\n      <td>15</td>\n      <td>40</td>\n      <td>840</td>\n      <td>10</td>\n      <td>150</td>\n      <td>46</td>\n      <td>1</td>\n      <td>2</td>\n      <td>18</td>\n      <td>3.5</td>\n    </tr>\n    <tr>\n      <th>...</th>\n      <td>...</td>\n      <td>...</td>\n      <td>...</td>\n      <td>...</td>\n      <td>...</td>\n      <td>...</td>\n      <td>...</td>\n      <td>...</td>\n      <td>...</td>\n      <td>...</td>\n      <td>...</td>\n    </tr>\n    <tr>\n      <th>129</th>\n      <td>0.72</td>\n      <td>94</td>\n      <td>137</td>\n      <td>20</td>\n      <td>130</td>\n      <td>850</td>\n      <td>49</td>\n      <td>6</td>\n      <td>31</td>\n      <td>68</td>\n      <td>15.1</td>\n    </tr>\n    <tr>\n      <th>130</th>\n      <td>0.78</td>\n      <td>137</td>\n      <td>190</td>\n      <td>20</td>\n      <td>130</td>\n      <td>860</td>\n      <td>50</td>\n      <td>5</td>\n      <td>17</td>\n      <td>51</td>\n      <td>8.1</td>\n    </tr>\n    <tr>\n      <th>131</th>\n      <td>0.73</td>\n      <td>0</td>\n      <td>15</td>\n      <td>30</td>\n      <td>150</td>\n      <td>820</td>\n      <td>47</td>\n      <td>37</td>\n      <td>27</td>\n      <td>80</td>\n      <td>27.9</td>\n    </tr>\n    <tr>\n      <th>132</th>\n      <td>0.95</td>\n      <td>0</td>\n      <td>20</td>\n      <td>80</td>\n      <td>110</td>\n      <td>810</td>\n      <td>48</td>\n      <td>3</td>\n      <td>19</td>\n      <td>89</td>\n      <td>22.3</td>\n    </tr>\n    <tr>\n      <th>133</th>\n      <td>0.84</td>\n      <td>20</td>\n      <td>40</td>\n      <td>70</td>\n      <td>90</td>\n      <td>840</td>\n      <td>48</td>\n      <td>2</td>\n      <td>14</td>\n      <td>71</td>\n      <td>16.1</td>\n    </tr>\n  </tbody>\n</table>\n<p>134 rows × 11 columns</p>\n</div>"
     },
     "metadata": {},
     "execution_count": 11
    }
   ],
   "source": [
    "df = pd.read_excel('dataset/sample.xlsx')\n",
    "df"
   ]
  },
  {
   "source": [
    "#### Método 2 - Leitura com seleção de planilha"
   ],
   "cell_type": "markdown",
   "metadata": {}
  },
  {
   "cell_type": "code",
   "execution_count": 12,
   "metadata": {},
   "outputs": [
    {
     "output_type": "execute_result",
     "data": {
      "text/plain": [
       "       ds  hzdepup  hzdeplow  sand  silt  clay  phh2o  sb  al   h  corg\n",
       "0    0.90       24        60   110    70   820     54   1   1  49  13.7\n",
       "1    0.91       60       135   110    60   830     57   1   0  30   9.0\n",
       "2    0.89      135       165   100   120   780     57   1   0  18   7.3\n",
       "3    0.83      165       192   110    80   810     59   1   0  13   6.0\n",
       "4    1.53       15        40   840    10   150     46   1   2  18   3.5\n",
       "..    ...      ...       ...   ...   ...   ...    ...  ..  ..  ..   ...\n",
       "129  0.72       94       137    20   130   850     49   6  31  68  15.1\n",
       "130  0.78      137       190    20   130   860     50   5  17  51   8.1\n",
       "131  0.73        0        15    30   150   820     47  37  27  80  27.9\n",
       "132  0.95        0        20    80   110   810     48   3  19  89  22.3\n",
       "133  0.84       20        40    70    90   840     48   2  14  71  16.1\n",
       "\n",
       "[134 rows x 11 columns]"
      ],
      "text/html": "<div>\n<style scoped>\n    .dataframe tbody tr th:only-of-type {\n        vertical-align: middle;\n    }\n\n    .dataframe tbody tr th {\n        vertical-align: top;\n    }\n\n    .dataframe thead th {\n        text-align: right;\n    }\n</style>\n<table border=\"1\" class=\"dataframe\">\n  <thead>\n    <tr style=\"text-align: right;\">\n      <th></th>\n      <th>ds</th>\n      <th>hzdepup</th>\n      <th>hzdeplow</th>\n      <th>sand</th>\n      <th>silt</th>\n      <th>clay</th>\n      <th>phh2o</th>\n      <th>sb</th>\n      <th>al</th>\n      <th>h</th>\n      <th>corg</th>\n    </tr>\n  </thead>\n  <tbody>\n    <tr>\n      <th>0</th>\n      <td>0.90</td>\n      <td>24</td>\n      <td>60</td>\n      <td>110</td>\n      <td>70</td>\n      <td>820</td>\n      <td>54</td>\n      <td>1</td>\n      <td>1</td>\n      <td>49</td>\n      <td>13.7</td>\n    </tr>\n    <tr>\n      <th>1</th>\n      <td>0.91</td>\n      <td>60</td>\n      <td>135</td>\n      <td>110</td>\n      <td>60</td>\n      <td>830</td>\n      <td>57</td>\n      <td>1</td>\n      <td>0</td>\n      <td>30</td>\n      <td>9.0</td>\n    </tr>\n    <tr>\n      <th>2</th>\n      <td>0.89</td>\n      <td>135</td>\n      <td>165</td>\n      <td>100</td>\n      <td>120</td>\n      <td>780</td>\n      <td>57</td>\n      <td>1</td>\n      <td>0</td>\n      <td>18</td>\n      <td>7.3</td>\n    </tr>\n    <tr>\n      <th>3</th>\n      <td>0.83</td>\n      <td>165</td>\n      <td>192</td>\n      <td>110</td>\n      <td>80</td>\n      <td>810</td>\n      <td>59</td>\n      <td>1</td>\n      <td>0</td>\n      <td>13</td>\n      <td>6.0</td>\n    </tr>\n    <tr>\n      <th>4</th>\n      <td>1.53</td>\n      <td>15</td>\n      <td>40</td>\n      <td>840</td>\n      <td>10</td>\n      <td>150</td>\n      <td>46</td>\n      <td>1</td>\n      <td>2</td>\n      <td>18</td>\n      <td>3.5</td>\n    </tr>\n    <tr>\n      <th>...</th>\n      <td>...</td>\n      <td>...</td>\n      <td>...</td>\n      <td>...</td>\n      <td>...</td>\n      <td>...</td>\n      <td>...</td>\n      <td>...</td>\n      <td>...</td>\n      <td>...</td>\n      <td>...</td>\n    </tr>\n    <tr>\n      <th>129</th>\n      <td>0.72</td>\n      <td>94</td>\n      <td>137</td>\n      <td>20</td>\n      <td>130</td>\n      <td>850</td>\n      <td>49</td>\n      <td>6</td>\n      <td>31</td>\n      <td>68</td>\n      <td>15.1</td>\n    </tr>\n    <tr>\n      <th>130</th>\n      <td>0.78</td>\n      <td>137</td>\n      <td>190</td>\n      <td>20</td>\n      <td>130</td>\n      <td>860</td>\n      <td>50</td>\n      <td>5</td>\n      <td>17</td>\n      <td>51</td>\n      <td>8.1</td>\n    </tr>\n    <tr>\n      <th>131</th>\n      <td>0.73</td>\n      <td>0</td>\n      <td>15</td>\n      <td>30</td>\n      <td>150</td>\n      <td>820</td>\n      <td>47</td>\n      <td>37</td>\n      <td>27</td>\n      <td>80</td>\n      <td>27.9</td>\n    </tr>\n    <tr>\n      <th>132</th>\n      <td>0.95</td>\n      <td>0</td>\n      <td>20</td>\n      <td>80</td>\n      <td>110</td>\n      <td>810</td>\n      <td>48</td>\n      <td>3</td>\n      <td>19</td>\n      <td>89</td>\n      <td>22.3</td>\n    </tr>\n    <tr>\n      <th>133</th>\n      <td>0.84</td>\n      <td>20</td>\n      <td>40</td>\n      <td>70</td>\n      <td>90</td>\n      <td>840</td>\n      <td>48</td>\n      <td>2</td>\n      <td>14</td>\n      <td>71</td>\n      <td>16.1</td>\n    </tr>\n  </tbody>\n</table>\n<p>134 rows × 11 columns</p>\n</div>"
     },
     "metadata": {},
     "execution_count": 12
    }
   ],
   "source": [
    "df = pd.read_excel('dataset/sample.xlsx', 'p1')\n",
    "df"
   ]
  },
  {
   "cell_type": "code",
   "execution_count": 13,
   "metadata": {},
   "outputs": [
    {
     "output_type": "execute_result",
     "data": {
      "text/plain": [
       "    ds2  hzdepup  hzdeplow  sand  silt  clay  phh2o  sb  al   h  corg\n",
       "0  0.90       24        60   110    70   820     54   1   1  49  13.7\n",
       "1  0.91       60       135   110    60   830     57   1   0  30   9.0\n",
       "2  0.89      135       165   100   120   780     57   1   0  18   7.3\n",
       "3  0.83      165       192   110    80   810     59   1   0  13   6.0\n",
       "4  1.53       15        40   840    10   150     46   1   2  18   3.5\n",
       "5  1.44       40        65   820    20   160     46   1   2  12   2.5"
      ],
      "text/html": "<div>\n<style scoped>\n    .dataframe tbody tr th:only-of-type {\n        vertical-align: middle;\n    }\n\n    .dataframe tbody tr th {\n        vertical-align: top;\n    }\n\n    .dataframe thead th {\n        text-align: right;\n    }\n</style>\n<table border=\"1\" class=\"dataframe\">\n  <thead>\n    <tr style=\"text-align: right;\">\n      <th></th>\n      <th>ds2</th>\n      <th>hzdepup</th>\n      <th>hzdeplow</th>\n      <th>sand</th>\n      <th>silt</th>\n      <th>clay</th>\n      <th>phh2o</th>\n      <th>sb</th>\n      <th>al</th>\n      <th>h</th>\n      <th>corg</th>\n    </tr>\n  </thead>\n  <tbody>\n    <tr>\n      <th>0</th>\n      <td>0.90</td>\n      <td>24</td>\n      <td>60</td>\n      <td>110</td>\n      <td>70</td>\n      <td>820</td>\n      <td>54</td>\n      <td>1</td>\n      <td>1</td>\n      <td>49</td>\n      <td>13.7</td>\n    </tr>\n    <tr>\n      <th>1</th>\n      <td>0.91</td>\n      <td>60</td>\n      <td>135</td>\n      <td>110</td>\n      <td>60</td>\n      <td>830</td>\n      <td>57</td>\n      <td>1</td>\n      <td>0</td>\n      <td>30</td>\n      <td>9.0</td>\n    </tr>\n    <tr>\n      <th>2</th>\n      <td>0.89</td>\n      <td>135</td>\n      <td>165</td>\n      <td>100</td>\n      <td>120</td>\n      <td>780</td>\n      <td>57</td>\n      <td>1</td>\n      <td>0</td>\n      <td>18</td>\n      <td>7.3</td>\n    </tr>\n    <tr>\n      <th>3</th>\n      <td>0.83</td>\n      <td>165</td>\n      <td>192</td>\n      <td>110</td>\n      <td>80</td>\n      <td>810</td>\n      <td>59</td>\n      <td>1</td>\n      <td>0</td>\n      <td>13</td>\n      <td>6.0</td>\n    </tr>\n    <tr>\n      <th>4</th>\n      <td>1.53</td>\n      <td>15</td>\n      <td>40</td>\n      <td>840</td>\n      <td>10</td>\n      <td>150</td>\n      <td>46</td>\n      <td>1</td>\n      <td>2</td>\n      <td>18</td>\n      <td>3.5</td>\n    </tr>\n    <tr>\n      <th>5</th>\n      <td>1.44</td>\n      <td>40</td>\n      <td>65</td>\n      <td>820</td>\n      <td>20</td>\n      <td>160</td>\n      <td>46</td>\n      <td>1</td>\n      <td>2</td>\n      <td>12</td>\n      <td>2.5</td>\n    </tr>\n  </tbody>\n</table>\n</div>"
     },
     "metadata": {},
     "execution_count": 13
    }
   ],
   "source": [
    "df = pd.read_excel('dataset/sample.xlsx', 'p2')\n",
    "df"
   ]
  },
  {
   "cell_type": "code",
   "execution_count": 3,
   "metadata": {},
   "outputs": [
    {
     "output_type": "execute_result",
     "data": {
      "text/plain": [
       "  Cabeçalho inútil Unnamed: 1 Unnamed: 2 Unnamed: 3 Unnamed: 4 Unnamed: 5  \\\n",
       "0              ds2    hzdepup   hzdeplow       sand       silt       clay   \n",
       "1              0.9         24         60        110         70        820   \n",
       "2             0.91         60        135        110         60        830   \n",
       "3             0.89        135        165        100        120        780   \n",
       "4             0.83        165        192        110         80        810   \n",
       "5             1.53         15         40        840         10        150   \n",
       "6             1.44         40         65        820         20        160   \n",
       "\n",
       "  Unnamed: 6 Unnamed: 7 Unnamed: 8 Unnamed: 9 Unnamed: 10  \n",
       "0      phh2o         sb         al          h        corg  \n",
       "1         54          1          1         49        13.7  \n",
       "2         57          1          0         30           9  \n",
       "3         57          1          0         18         7.3  \n",
       "4         59          1          0         13           6  \n",
       "5         46          1          2         18         3.5  \n",
       "6         46          1          2         12         2.5  "
      ],
      "text/html": "<div>\n<style scoped>\n    .dataframe tbody tr th:only-of-type {\n        vertical-align: middle;\n    }\n\n    .dataframe tbody tr th {\n        vertical-align: top;\n    }\n\n    .dataframe thead th {\n        text-align: right;\n    }\n</style>\n<table border=\"1\" class=\"dataframe\">\n  <thead>\n    <tr style=\"text-align: right;\">\n      <th></th>\n      <th>Cabeçalho inútil</th>\n      <th>Unnamed: 1</th>\n      <th>Unnamed: 2</th>\n      <th>Unnamed: 3</th>\n      <th>Unnamed: 4</th>\n      <th>Unnamed: 5</th>\n      <th>Unnamed: 6</th>\n      <th>Unnamed: 7</th>\n      <th>Unnamed: 8</th>\n      <th>Unnamed: 9</th>\n      <th>Unnamed: 10</th>\n    </tr>\n  </thead>\n  <tbody>\n    <tr>\n      <th>0</th>\n      <td>ds2</td>\n      <td>hzdepup</td>\n      <td>hzdeplow</td>\n      <td>sand</td>\n      <td>silt</td>\n      <td>clay</td>\n      <td>phh2o</td>\n      <td>sb</td>\n      <td>al</td>\n      <td>h</td>\n      <td>corg</td>\n    </tr>\n    <tr>\n      <th>1</th>\n      <td>0.9</td>\n      <td>24</td>\n      <td>60</td>\n      <td>110</td>\n      <td>70</td>\n      <td>820</td>\n      <td>54</td>\n      <td>1</td>\n      <td>1</td>\n      <td>49</td>\n      <td>13.7</td>\n    </tr>\n    <tr>\n      <th>2</th>\n      <td>0.91</td>\n      <td>60</td>\n      <td>135</td>\n      <td>110</td>\n      <td>60</td>\n      <td>830</td>\n      <td>57</td>\n      <td>1</td>\n      <td>0</td>\n      <td>30</td>\n      <td>9</td>\n    </tr>\n    <tr>\n      <th>3</th>\n      <td>0.89</td>\n      <td>135</td>\n      <td>165</td>\n      <td>100</td>\n      <td>120</td>\n      <td>780</td>\n      <td>57</td>\n      <td>1</td>\n      <td>0</td>\n      <td>18</td>\n      <td>7.3</td>\n    </tr>\n    <tr>\n      <th>4</th>\n      <td>0.83</td>\n      <td>165</td>\n      <td>192</td>\n      <td>110</td>\n      <td>80</td>\n      <td>810</td>\n      <td>59</td>\n      <td>1</td>\n      <td>0</td>\n      <td>13</td>\n      <td>6</td>\n    </tr>\n    <tr>\n      <th>5</th>\n      <td>1.53</td>\n      <td>15</td>\n      <td>40</td>\n      <td>840</td>\n      <td>10</td>\n      <td>150</td>\n      <td>46</td>\n      <td>1</td>\n      <td>2</td>\n      <td>18</td>\n      <td>3.5</td>\n    </tr>\n    <tr>\n      <th>6</th>\n      <td>1.44</td>\n      <td>40</td>\n      <td>65</td>\n      <td>820</td>\n      <td>20</td>\n      <td>160</td>\n      <td>46</td>\n      <td>1</td>\n      <td>2</td>\n      <td>12</td>\n      <td>2.5</td>\n    </tr>\n  </tbody>\n</table>\n</div>"
     },
     "metadata": {},
     "execution_count": 3
    }
   ],
   "source": [
    "df = pd.read_excel('dataset/sample.xlsx', 'p3')\n",
    "df"
   ]
  },
  {
   "cell_type": "code",
   "execution_count": 25,
   "metadata": {},
   "outputs": [
    {
     "output_type": "execute_result",
     "data": {
      "text/plain": [
       "    ds2  hzdepup  hzdeplow  sand  silt  clay  phh2o  sb  al   h  corg\n",
       "0  0.90       24        60   110    70   820     54   1   1  49  13.7\n",
       "1  0.91       60       135   110    60   830     57   1   0  30   9.0\n",
       "2  0.89      135       165   100   120   780     57   1   0  18   7.3\n",
       "3  0.83      165       192   110    80   810     59   1   0  13   6.0\n",
       "4  1.53       15        40   840    10   150     46   1   2  18   3.5\n",
       "5  1.44       40        65   820    20   160     46   1   2  12   2.5"
      ],
      "text/html": "<div>\n<style scoped>\n    .dataframe tbody tr th:only-of-type {\n        vertical-align: middle;\n    }\n\n    .dataframe tbody tr th {\n        vertical-align: top;\n    }\n\n    .dataframe thead th {\n        text-align: right;\n    }\n</style>\n<table border=\"1\" class=\"dataframe\">\n  <thead>\n    <tr style=\"text-align: right;\">\n      <th></th>\n      <th>ds2</th>\n      <th>hzdepup</th>\n      <th>hzdeplow</th>\n      <th>sand</th>\n      <th>silt</th>\n      <th>clay</th>\n      <th>phh2o</th>\n      <th>sb</th>\n      <th>al</th>\n      <th>h</th>\n      <th>corg</th>\n    </tr>\n  </thead>\n  <tbody>\n    <tr>\n      <th>0</th>\n      <td>0.90</td>\n      <td>24</td>\n      <td>60</td>\n      <td>110</td>\n      <td>70</td>\n      <td>820</td>\n      <td>54</td>\n      <td>1</td>\n      <td>1</td>\n      <td>49</td>\n      <td>13.7</td>\n    </tr>\n    <tr>\n      <th>1</th>\n      <td>0.91</td>\n      <td>60</td>\n      <td>135</td>\n      <td>110</td>\n      <td>60</td>\n      <td>830</td>\n      <td>57</td>\n      <td>1</td>\n      <td>0</td>\n      <td>30</td>\n      <td>9.0</td>\n    </tr>\n    <tr>\n      <th>2</th>\n      <td>0.89</td>\n      <td>135</td>\n      <td>165</td>\n      <td>100</td>\n      <td>120</td>\n      <td>780</td>\n      <td>57</td>\n      <td>1</td>\n      <td>0</td>\n      <td>18</td>\n      <td>7.3</td>\n    </tr>\n    <tr>\n      <th>3</th>\n      <td>0.83</td>\n      <td>165</td>\n      <td>192</td>\n      <td>110</td>\n      <td>80</td>\n      <td>810</td>\n      <td>59</td>\n      <td>1</td>\n      <td>0</td>\n      <td>13</td>\n      <td>6.0</td>\n    </tr>\n    <tr>\n      <th>4</th>\n      <td>1.53</td>\n      <td>15</td>\n      <td>40</td>\n      <td>840</td>\n      <td>10</td>\n      <td>150</td>\n      <td>46</td>\n      <td>1</td>\n      <td>2</td>\n      <td>18</td>\n      <td>3.5</td>\n    </tr>\n    <tr>\n      <th>5</th>\n      <td>1.44</td>\n      <td>40</td>\n      <td>65</td>\n      <td>820</td>\n      <td>20</td>\n      <td>160</td>\n      <td>46</td>\n      <td>1</td>\n      <td>2</td>\n      <td>12</td>\n      <td>2.5</td>\n    </tr>\n  </tbody>\n</table>\n</div>"
     },
     "metadata": {},
     "execution_count": 25
    }
   ],
   "source": [
    "df = pd.read_excel(\n",
    "    io='dataset/sample.xlsx', \n",
    "    sheet_name='p3',\n",
    "    header=1\n",
    "    )\n",
    "df"
   ]
  },
  {
   "cell_type": "code",
   "execution_count": 6,
   "metadata": {},
   "outputs": [
    {
     "output_type": "execute_result",
     "data": {
      "text/plain": [
       "      a    b    c    d    f    g   h  i  j   k     l\n",
       "0  0.90   24   60  110   70  820  54  1  1  49  13.7\n",
       "1  0.91   60  135  110   60  830  57  1  0  30   9.0\n",
       "2  0.89  135  165  100  120  780  57  1  0  18   7.3\n",
       "3  0.83  165  192  110   80  810  59  1  0  13   6.0\n",
       "4  1.53   15   40  840   10  150  46  1  2  18   3.5\n",
       "5  1.44   40   65  820   20  160  46  1  2  12   2.5"
      ],
      "text/html": "<div>\n<style scoped>\n    .dataframe tbody tr th:only-of-type {\n        vertical-align: middle;\n    }\n\n    .dataframe tbody tr th {\n        vertical-align: top;\n    }\n\n    .dataframe thead th {\n        text-align: right;\n    }\n</style>\n<table border=\"1\" class=\"dataframe\">\n  <thead>\n    <tr style=\"text-align: right;\">\n      <th></th>\n      <th>a</th>\n      <th>b</th>\n      <th>c</th>\n      <th>d</th>\n      <th>f</th>\n      <th>g</th>\n      <th>h</th>\n      <th>i</th>\n      <th>j</th>\n      <th>k</th>\n      <th>l</th>\n    </tr>\n  </thead>\n  <tbody>\n    <tr>\n      <th>0</th>\n      <td>0.90</td>\n      <td>24</td>\n      <td>60</td>\n      <td>110</td>\n      <td>70</td>\n      <td>820</td>\n      <td>54</td>\n      <td>1</td>\n      <td>1</td>\n      <td>49</td>\n      <td>13.7</td>\n    </tr>\n    <tr>\n      <th>1</th>\n      <td>0.91</td>\n      <td>60</td>\n      <td>135</td>\n      <td>110</td>\n      <td>60</td>\n      <td>830</td>\n      <td>57</td>\n      <td>1</td>\n      <td>0</td>\n      <td>30</td>\n      <td>9.0</td>\n    </tr>\n    <tr>\n      <th>2</th>\n      <td>0.89</td>\n      <td>135</td>\n      <td>165</td>\n      <td>100</td>\n      <td>120</td>\n      <td>780</td>\n      <td>57</td>\n      <td>1</td>\n      <td>0</td>\n      <td>18</td>\n      <td>7.3</td>\n    </tr>\n    <tr>\n      <th>3</th>\n      <td>0.83</td>\n      <td>165</td>\n      <td>192</td>\n      <td>110</td>\n      <td>80</td>\n      <td>810</td>\n      <td>59</td>\n      <td>1</td>\n      <td>0</td>\n      <td>13</td>\n      <td>6.0</td>\n    </tr>\n    <tr>\n      <th>4</th>\n      <td>1.53</td>\n      <td>15</td>\n      <td>40</td>\n      <td>840</td>\n      <td>10</td>\n      <td>150</td>\n      <td>46</td>\n      <td>1</td>\n      <td>2</td>\n      <td>18</td>\n      <td>3.5</td>\n    </tr>\n    <tr>\n      <th>5</th>\n      <td>1.44</td>\n      <td>40</td>\n      <td>65</td>\n      <td>820</td>\n      <td>20</td>\n      <td>160</td>\n      <td>46</td>\n      <td>1</td>\n      <td>2</td>\n      <td>12</td>\n      <td>2.5</td>\n    </tr>\n  </tbody>\n</table>\n</div>"
     },
     "metadata": {},
     "execution_count": 6
    }
   ],
   "source": [
    "df = pd.read_excel(\n",
    "    io='dataset/sample.xlsx', \n",
    "    sheet_name='p3',\n",
    "    header=1,\n",
    "    names=['a', 'b', 'c', 'd', 'f', 'g', 'h', 'i', 'j', 'k', 'l']\n",
    "    )\n",
    "df"
   ]
  },
  {
   "source": [
    "#### Leitura da internet"
   ],
   "cell_type": "markdown",
   "metadata": {}
  },
  {
   "cell_type": "code",
   "execution_count": 38,
   "metadata": {},
   "outputs": [
    {
     "output_type": "execute_result",
     "data": {
      "text/plain": [
       "     Nº DO PEDIDO DIVISÃO TÉCNICA DE ORIGEM DATA DO DEPÓSITO  \\\n",
       "0       PI0312962                     DIALP       2003-07-25   \n",
       "1       PI0515591                     DIALP       2005-09-23   \n",
       "2       PI0417592                     DIALP       2004-12-14   \n",
       "3       PI0516936                     DIALP       2005-09-06   \n",
       "4       PI0502582                     DIALP       2005-03-28   \n",
       "...           ...                       ...              ...   \n",
       "5912    PI0418302                     DITEX       2004-01-01   \n",
       "5913    PI0516625                     DITEX       2005-10-18   \n",
       "5914    PI0819516                     DITEX       2008-12-19   \n",
       "5915    PI0918391                     DITEX       2009-12-21   \n",
       "5916    PI0916201                     DITEX       2009-07-22   \n",
       "\n",
       "      DESPACHO DE ENTRADA NA 2ª INSTÂNCIA DATA DO DESPACHO  \n",
       "0                                    12.2       2015-01-13  \n",
       "1                                    12.2       2016-03-22  \n",
       "2                                    12.2       2016-12-06  \n",
       "3                                    12.2       2016-12-06  \n",
       "4                                    12.2       2017-03-07  \n",
       "...                                   ...              ...  \n",
       "5912                                 17.1       2016-02-23  \n",
       "5913                                 17.1       2017-06-06  \n",
       "5914                                 17.1       2020-03-10  \n",
       "5915                                 17.1       2020-09-29  \n",
       "5916                                 17.1       2020-10-06  \n",
       "\n",
       "[5917 rows x 5 columns]"
      ],
      "text/html": "<div>\n<style scoped>\n    .dataframe tbody tr th:only-of-type {\n        vertical-align: middle;\n    }\n\n    .dataframe tbody tr th {\n        vertical-align: top;\n    }\n\n    .dataframe thead th {\n        text-align: right;\n    }\n</style>\n<table border=\"1\" class=\"dataframe\">\n  <thead>\n    <tr style=\"text-align: right;\">\n      <th></th>\n      <th>Nº DO PEDIDO</th>\n      <th>DIVISÃO TÉCNICA DE ORIGEM</th>\n      <th>DATA DO DEPÓSITO</th>\n      <th>DESPACHO DE ENTRADA NA 2ª INSTÂNCIA</th>\n      <th>DATA DO DESPACHO</th>\n    </tr>\n  </thead>\n  <tbody>\n    <tr>\n      <th>0</th>\n      <td>PI0312962</td>\n      <td>DIALP</td>\n      <td>2003-07-25</td>\n      <td>12.2</td>\n      <td>2015-01-13</td>\n    </tr>\n    <tr>\n      <th>1</th>\n      <td>PI0515591</td>\n      <td>DIALP</td>\n      <td>2005-09-23</td>\n      <td>12.2</td>\n      <td>2016-03-22</td>\n    </tr>\n    <tr>\n      <th>2</th>\n      <td>PI0417592</td>\n      <td>DIALP</td>\n      <td>2004-12-14</td>\n      <td>12.2</td>\n      <td>2016-12-06</td>\n    </tr>\n    <tr>\n      <th>3</th>\n      <td>PI0516936</td>\n      <td>DIALP</td>\n      <td>2005-09-06</td>\n      <td>12.2</td>\n      <td>2016-12-06</td>\n    </tr>\n    <tr>\n      <th>4</th>\n      <td>PI0502582</td>\n      <td>DIALP</td>\n      <td>2005-03-28</td>\n      <td>12.2</td>\n      <td>2017-03-07</td>\n    </tr>\n    <tr>\n      <th>...</th>\n      <td>...</td>\n      <td>...</td>\n      <td>...</td>\n      <td>...</td>\n      <td>...</td>\n    </tr>\n    <tr>\n      <th>5912</th>\n      <td>PI0418302</td>\n      <td>DITEX</td>\n      <td>2004-01-01</td>\n      <td>17.1</td>\n      <td>2016-02-23</td>\n    </tr>\n    <tr>\n      <th>5913</th>\n      <td>PI0516625</td>\n      <td>DITEX</td>\n      <td>2005-10-18</td>\n      <td>17.1</td>\n      <td>2017-06-06</td>\n    </tr>\n    <tr>\n      <th>5914</th>\n      <td>PI0819516</td>\n      <td>DITEX</td>\n      <td>2008-12-19</td>\n      <td>17.1</td>\n      <td>2020-03-10</td>\n    </tr>\n    <tr>\n      <th>5915</th>\n      <td>PI0918391</td>\n      <td>DITEX</td>\n      <td>2009-12-21</td>\n      <td>17.1</td>\n      <td>2020-09-29</td>\n    </tr>\n    <tr>\n      <th>5916</th>\n      <td>PI0916201</td>\n      <td>DITEX</td>\n      <td>2009-07-22</td>\n      <td>17.1</td>\n      <td>2020-10-06</td>\n    </tr>\n  </tbody>\n</table>\n<p>5917 rows × 5 columns</p>\n</div>"
     },
     "metadata": {},
     "execution_count": 38
    }
   ],
   "source": [
    "df = pd.read_excel(\n",
    "    io='https://www.gov.br/inpi/pt-br/acesso-a-informacao/dados-abertos/conjuntos-corporativos-de-dados-abertos/pedidos-de-patentes-pendentes-de-decisao-final/pedidos-de-patentes-pendentes-de-decisao-final-cgrec.xlsx')\n",
    "df"
   ]
  },
  {
   "source": [
    "## Leitura de CSV"
   ],
   "cell_type": "markdown",
   "metadata": {}
  },
  {
   "cell_type": "code",
   "execution_count": 10,
   "metadata": {},
   "outputs": [
    {
     "output_type": "execute_result",
     "data": {
      "text/plain": [
       "              data;\"valor\"\n",
       "01/06/1986;\"1          27\"\n",
       "01/07/1986;\"1          95\"\n",
       "01/08/1986;\"2          57\"\n",
       "01/09/1986;\"2          94\"\n",
       "01/10/1986;\"1          96\"\n",
       "...                    ...\n",
       "01/09/2020;\"0          16\"\n",
       "01/10/2020;\"0          16\"\n",
       "01/11/2020;\"0          15\"\n",
       "01/12/2020;\"0          16\"\n",
       "01/01/2021;\"0          13\"\n",
       "\n",
       "[416 rows x 1 columns]"
      ],
      "text/html": "<div>\n<style scoped>\n    .dataframe tbody tr th:only-of-type {\n        vertical-align: middle;\n    }\n\n    .dataframe tbody tr th {\n        vertical-align: top;\n    }\n\n    .dataframe thead th {\n        text-align: right;\n    }\n</style>\n<table border=\"1\" class=\"dataframe\">\n  <thead>\n    <tr style=\"text-align: right;\">\n      <th></th>\n      <th>data;\"valor\"</th>\n    </tr>\n  </thead>\n  <tbody>\n    <tr>\n      <th>01/06/1986;\"1</th>\n      <td>27\"</td>\n    </tr>\n    <tr>\n      <th>01/07/1986;\"1</th>\n      <td>95\"</td>\n    </tr>\n    <tr>\n      <th>01/08/1986;\"2</th>\n      <td>57\"</td>\n    </tr>\n    <tr>\n      <th>01/09/1986;\"2</th>\n      <td>94\"</td>\n    </tr>\n    <tr>\n      <th>01/10/1986;\"1</th>\n      <td>96\"</td>\n    </tr>\n    <tr>\n      <th>...</th>\n      <td>...</td>\n    </tr>\n    <tr>\n      <th>01/09/2020;\"0</th>\n      <td>16\"</td>\n    </tr>\n    <tr>\n      <th>01/10/2020;\"0</th>\n      <td>16\"</td>\n    </tr>\n    <tr>\n      <th>01/11/2020;\"0</th>\n      <td>15\"</td>\n    </tr>\n    <tr>\n      <th>01/12/2020;\"0</th>\n      <td>16\"</td>\n    </tr>\n    <tr>\n      <th>01/01/2021;\"0</th>\n      <td>13\"</td>\n    </tr>\n  </tbody>\n</table>\n<p>416 rows × 1 columns</p>\n</div>"
     },
     "metadata": {},
     "execution_count": 10
    }
   ],
   "source": [
    "df = pd.read_csv('dataset/bcb/selic.csv')\n",
    "df"
   ]
  },
  {
   "source": [
    "Separador padrão esperado é \",\""
   ],
   "cell_type": "markdown",
   "metadata": {}
  },
  {
   "cell_type": "code",
   "execution_count": 13,
   "metadata": {},
   "outputs": [
    {
     "output_type": "execute_result",
     "data": {
      "text/plain": [
       "           data valor\n",
       "0    01/06/1986  1,27\n",
       "1    01/07/1986  1,95\n",
       "2    01/08/1986  2,57\n",
       "3    01/09/1986  2,94\n",
       "4    01/10/1986  1,96\n",
       "..          ...   ...\n",
       "411  01/09/2020  0,16\n",
       "412  01/10/2020  0,16\n",
       "413  01/11/2020  0,15\n",
       "414  01/12/2020  0,16\n",
       "415  01/01/2021  0,13\n",
       "\n",
       "[416 rows x 2 columns]"
      ],
      "text/html": "<div>\n<style scoped>\n    .dataframe tbody tr th:only-of-type {\n        vertical-align: middle;\n    }\n\n    .dataframe tbody tr th {\n        vertical-align: top;\n    }\n\n    .dataframe thead th {\n        text-align: right;\n    }\n</style>\n<table border=\"1\" class=\"dataframe\">\n  <thead>\n    <tr style=\"text-align: right;\">\n      <th></th>\n      <th>data</th>\n      <th>valor</th>\n    </tr>\n  </thead>\n  <tbody>\n    <tr>\n      <th>0</th>\n      <td>01/06/1986</td>\n      <td>1,27</td>\n    </tr>\n    <tr>\n      <th>1</th>\n      <td>01/07/1986</td>\n      <td>1,95</td>\n    </tr>\n    <tr>\n      <th>2</th>\n      <td>01/08/1986</td>\n      <td>2,57</td>\n    </tr>\n    <tr>\n      <th>3</th>\n      <td>01/09/1986</td>\n      <td>2,94</td>\n    </tr>\n    <tr>\n      <th>4</th>\n      <td>01/10/1986</td>\n      <td>1,96</td>\n    </tr>\n    <tr>\n      <th>...</th>\n      <td>...</td>\n      <td>...</td>\n    </tr>\n    <tr>\n      <th>411</th>\n      <td>01/09/2020</td>\n      <td>0,16</td>\n    </tr>\n    <tr>\n      <th>412</th>\n      <td>01/10/2020</td>\n      <td>0,16</td>\n    </tr>\n    <tr>\n      <th>413</th>\n      <td>01/11/2020</td>\n      <td>0,15</td>\n    </tr>\n    <tr>\n      <th>414</th>\n      <td>01/12/2020</td>\n      <td>0,16</td>\n    </tr>\n    <tr>\n      <th>415</th>\n      <td>01/01/2021</td>\n      <td>0,13</td>\n    </tr>\n  </tbody>\n</table>\n<p>416 rows × 2 columns</p>\n</div>"
     },
     "metadata": {},
     "execution_count": 13
    }
   ],
   "source": [
    "df = pd.read_csv(\n",
    "    filepath_or_buffer='dataset/bcb/selic.csv',\n",
    "    sep=';')\n",
    "df"
   ]
  },
  {
   "cell_type": "code",
   "execution_count": 18,
   "metadata": {},
   "outputs": [
    {
     "output_type": "execute_result",
     "data": {
      "text/plain": [
       "           data valor\n",
       "0    01/06/1986  1,27\n",
       "1    01/07/1986  1,95\n",
       "2    01/08/1986  2,57\n",
       "3    01/09/1986  2,94\n",
       "4    01/10/1986  1,96\n",
       "..          ...   ...\n",
       "411  01/09/2020  0,16\n",
       "412  01/10/2020  0,16\n",
       "413  01/11/2020  0,15\n",
       "414  01/12/2020  0,16\n",
       "415  01/01/2021  0,13\n",
       "\n",
       "[416 rows x 2 columns]"
      ],
      "text/html": "<div>\n<style scoped>\n    .dataframe tbody tr th:only-of-type {\n        vertical-align: middle;\n    }\n\n    .dataframe tbody tr th {\n        vertical-align: top;\n    }\n\n    .dataframe thead th {\n        text-align: right;\n    }\n</style>\n<table border=\"1\" class=\"dataframe\">\n  <thead>\n    <tr style=\"text-align: right;\">\n      <th></th>\n      <th>data</th>\n      <th>valor</th>\n    </tr>\n  </thead>\n  <tbody>\n    <tr>\n      <th>0</th>\n      <td>01/06/1986</td>\n      <td>1,27</td>\n    </tr>\n    <tr>\n      <th>1</th>\n      <td>01/07/1986</td>\n      <td>1,95</td>\n    </tr>\n    <tr>\n      <th>2</th>\n      <td>01/08/1986</td>\n      <td>2,57</td>\n    </tr>\n    <tr>\n      <th>3</th>\n      <td>01/09/1986</td>\n      <td>2,94</td>\n    </tr>\n    <tr>\n      <th>4</th>\n      <td>01/10/1986</td>\n      <td>1,96</td>\n    </tr>\n    <tr>\n      <th>...</th>\n      <td>...</td>\n      <td>...</td>\n    </tr>\n    <tr>\n      <th>411</th>\n      <td>01/09/2020</td>\n      <td>0,16</td>\n    </tr>\n    <tr>\n      <th>412</th>\n      <td>01/10/2020</td>\n      <td>0,16</td>\n    </tr>\n    <tr>\n      <th>413</th>\n      <td>01/11/2020</td>\n      <td>0,15</td>\n    </tr>\n    <tr>\n      <th>414</th>\n      <td>01/12/2020</td>\n      <td>0,16</td>\n    </tr>\n    <tr>\n      <th>415</th>\n      <td>01/01/2021</td>\n      <td>0,13</td>\n    </tr>\n  </tbody>\n</table>\n<p>416 rows × 2 columns</p>\n</div>"
     },
     "metadata": {},
     "execution_count": 18
    }
   ],
   "source": [
    "df = pd.read_csv(\n",
    "    filepath_or_buffer='dataset/bcb/selic.csv',\n",
    "    sep=None)\n",
    "df"
   ]
  },
  {
   "cell_type": "code",
   "execution_count": 26,
   "metadata": {},
   "outputs": [
    {
     "output_type": "execute_result",
     "data": {
      "text/plain": [
       "              0      1\n",
       "0          data  valor\n",
       "1    01/06/1986   1,27\n",
       "2    01/07/1986   1,95\n",
       "3    01/08/1986   2,57\n",
       "4    01/09/1986   2,94\n",
       "..          ...    ...\n",
       "412  01/09/2020   0,16\n",
       "413  01/10/2020   0,16\n",
       "414  01/11/2020   0,15\n",
       "415  01/12/2020   0,16\n",
       "416  01/01/2021   0,13\n",
       "\n",
       "[417 rows x 2 columns]"
      ],
      "text/html": "<div>\n<style scoped>\n    .dataframe tbody tr th:only-of-type {\n        vertical-align: middle;\n    }\n\n    .dataframe tbody tr th {\n        vertical-align: top;\n    }\n\n    .dataframe thead th {\n        text-align: right;\n    }\n</style>\n<table border=\"1\" class=\"dataframe\">\n  <thead>\n    <tr style=\"text-align: right;\">\n      <th></th>\n      <th>0</th>\n      <th>1</th>\n    </tr>\n  </thead>\n  <tbody>\n    <tr>\n      <th>0</th>\n      <td>data</td>\n      <td>valor</td>\n    </tr>\n    <tr>\n      <th>1</th>\n      <td>01/06/1986</td>\n      <td>1,27</td>\n    </tr>\n    <tr>\n      <th>2</th>\n      <td>01/07/1986</td>\n      <td>1,95</td>\n    </tr>\n    <tr>\n      <th>3</th>\n      <td>01/08/1986</td>\n      <td>2,57</td>\n    </tr>\n    <tr>\n      <th>4</th>\n      <td>01/09/1986</td>\n      <td>2,94</td>\n    </tr>\n    <tr>\n      <th>...</th>\n      <td>...</td>\n      <td>...</td>\n    </tr>\n    <tr>\n      <th>412</th>\n      <td>01/09/2020</td>\n      <td>0,16</td>\n    </tr>\n    <tr>\n      <th>413</th>\n      <td>01/10/2020</td>\n      <td>0,16</td>\n    </tr>\n    <tr>\n      <th>414</th>\n      <td>01/11/2020</td>\n      <td>0,15</td>\n    </tr>\n    <tr>\n      <th>415</th>\n      <td>01/12/2020</td>\n      <td>0,16</td>\n    </tr>\n    <tr>\n      <th>416</th>\n      <td>01/01/2021</td>\n      <td>0,13</td>\n    </tr>\n  </tbody>\n</table>\n<p>417 rows × 2 columns</p>\n</div>"
     },
     "metadata": {},
     "execution_count": 26
    }
   ],
   "source": [
    "df = pd.read_csv(\n",
    "    filepath_or_buffer='dataset/bcb/selic.csv',\n",
    "    sep=None,\n",
    "    header=None)\n",
    "df"
   ]
  },
  {
   "cell_type": "code",
   "execution_count": 27,
   "metadata": {},
   "outputs": [
    {
     "output_type": "execute_result",
     "data": {
      "text/plain": [
       "              a     b\n",
       "0    01/06/1986  1,27\n",
       "1    01/07/1986  1,95\n",
       "2    01/08/1986  2,57\n",
       "3    01/09/1986  2,94\n",
       "4    01/10/1986  1,96\n",
       "..          ...   ...\n",
       "411  01/09/2020  0,16\n",
       "412  01/10/2020  0,16\n",
       "413  01/11/2020  0,15\n",
       "414  01/12/2020  0,16\n",
       "415  01/01/2021  0,13\n",
       "\n",
       "[416 rows x 2 columns]"
      ],
      "text/html": "<div>\n<style scoped>\n    .dataframe tbody tr th:only-of-type {\n        vertical-align: middle;\n    }\n\n    .dataframe tbody tr th {\n        vertical-align: top;\n    }\n\n    .dataframe thead th {\n        text-align: right;\n    }\n</style>\n<table border=\"1\" class=\"dataframe\">\n  <thead>\n    <tr style=\"text-align: right;\">\n      <th></th>\n      <th>a</th>\n      <th>b</th>\n    </tr>\n  </thead>\n  <tbody>\n    <tr>\n      <th>0</th>\n      <td>01/06/1986</td>\n      <td>1,27</td>\n    </tr>\n    <tr>\n      <th>1</th>\n      <td>01/07/1986</td>\n      <td>1,95</td>\n    </tr>\n    <tr>\n      <th>2</th>\n      <td>01/08/1986</td>\n      <td>2,57</td>\n    </tr>\n    <tr>\n      <th>3</th>\n      <td>01/09/1986</td>\n      <td>2,94</td>\n    </tr>\n    <tr>\n      <th>4</th>\n      <td>01/10/1986</td>\n      <td>1,96</td>\n    </tr>\n    <tr>\n      <th>...</th>\n      <td>...</td>\n      <td>...</td>\n    </tr>\n    <tr>\n      <th>411</th>\n      <td>01/09/2020</td>\n      <td>0,16</td>\n    </tr>\n    <tr>\n      <th>412</th>\n      <td>01/10/2020</td>\n      <td>0,16</td>\n    </tr>\n    <tr>\n      <th>413</th>\n      <td>01/11/2020</td>\n      <td>0,15</td>\n    </tr>\n    <tr>\n      <th>414</th>\n      <td>01/12/2020</td>\n      <td>0,16</td>\n    </tr>\n    <tr>\n      <th>415</th>\n      <td>01/01/2021</td>\n      <td>0,13</td>\n    </tr>\n  </tbody>\n</table>\n<p>416 rows × 2 columns</p>\n</div>"
     },
     "metadata": {},
     "execution_count": 27
    }
   ],
   "source": [
    "df = pd.read_csv(\n",
    "    filepath_or_buffer='dataset/bcb/selic.csv',\n",
    "    sep=None,\n",
    "    header=0,\n",
    "    names=['a', 'b'])\n",
    "df"
   ]
  },
  {
   "source": [
    "## Leitura de JSON"
   ],
   "cell_type": "markdown",
   "metadata": {}
  },
  {
   "cell_type": "code",
   "execution_count": 33,
   "metadata": {},
   "outputs": [
    {
     "output_type": "execute_result",
     "data": {
      "text/plain": [
       "           data  valor\n",
       "0    01/06/1986   1.27\n",
       "1    01/07/1986   1.95\n",
       "2    01/08/1986   2.57\n",
       "3    01/09/1986   2.94\n",
       "4    01/10/1986   1.96\n",
       "..          ...    ...\n",
       "411  01/09/2020   0.16\n",
       "412  01/10/2020   0.16\n",
       "413  01/11/2020   0.15\n",
       "414  01/12/2020   0.16\n",
       "415  01/01/2021   0.13\n",
       "\n",
       "[416 rows x 2 columns]"
      ],
      "text/html": "<div>\n<style scoped>\n    .dataframe tbody tr th:only-of-type {\n        vertical-align: middle;\n    }\n\n    .dataframe tbody tr th {\n        vertical-align: top;\n    }\n\n    .dataframe thead th {\n        text-align: right;\n    }\n</style>\n<table border=\"1\" class=\"dataframe\">\n  <thead>\n    <tr style=\"text-align: right;\">\n      <th></th>\n      <th>data</th>\n      <th>valor</th>\n    </tr>\n  </thead>\n  <tbody>\n    <tr>\n      <th>0</th>\n      <td>01/06/1986</td>\n      <td>1.27</td>\n    </tr>\n    <tr>\n      <th>1</th>\n      <td>01/07/1986</td>\n      <td>1.95</td>\n    </tr>\n    <tr>\n      <th>2</th>\n      <td>01/08/1986</td>\n      <td>2.57</td>\n    </tr>\n    <tr>\n      <th>3</th>\n      <td>01/09/1986</td>\n      <td>2.94</td>\n    </tr>\n    <tr>\n      <th>4</th>\n      <td>01/10/1986</td>\n      <td>1.96</td>\n    </tr>\n    <tr>\n      <th>...</th>\n      <td>...</td>\n      <td>...</td>\n    </tr>\n    <tr>\n      <th>411</th>\n      <td>01/09/2020</td>\n      <td>0.16</td>\n    </tr>\n    <tr>\n      <th>412</th>\n      <td>01/10/2020</td>\n      <td>0.16</td>\n    </tr>\n    <tr>\n      <th>413</th>\n      <td>01/11/2020</td>\n      <td>0.15</td>\n    </tr>\n    <tr>\n      <th>414</th>\n      <td>01/12/2020</td>\n      <td>0.16</td>\n    </tr>\n    <tr>\n      <th>415</th>\n      <td>01/01/2021</td>\n      <td>0.13</td>\n    </tr>\n  </tbody>\n</table>\n<p>416 rows × 2 columns</p>\n</div>"
     },
     "metadata": {},
     "execution_count": 33
    }
   ],
   "source": [
    "df = pd.read_json(\n",
    "    path_or_buf='dataset/bcb/selic.json')\n",
    "df"
   ]
  },
  {
   "cell_type": "code",
   "execution_count": 32,
   "metadata": {},
   "outputs": [
    {
     "output_type": "execute_result",
     "data": {
      "text/plain": [
       "           data  valor\n",
       "0    01/06/1986   1.27\n",
       "1    01/07/1986   1.95\n",
       "2    01/08/1986   2.57\n",
       "3    01/09/1986   2.94\n",
       "4    01/10/1986   1.96\n",
       "..          ...    ...\n",
       "411  01/09/2020   0.16\n",
       "412  01/10/2020   0.16\n",
       "413  01/11/2020   0.15\n",
       "414  01/12/2020   0.16\n",
       "415  01/01/2021   0.13\n",
       "\n",
       "[416 rows x 2 columns]"
      ],
      "text/html": "<div>\n<style scoped>\n    .dataframe tbody tr th:only-of-type {\n        vertical-align: middle;\n    }\n\n    .dataframe tbody tr th {\n        vertical-align: top;\n    }\n\n    .dataframe thead th {\n        text-align: right;\n    }\n</style>\n<table border=\"1\" class=\"dataframe\">\n  <thead>\n    <tr style=\"text-align: right;\">\n      <th></th>\n      <th>data</th>\n      <th>valor</th>\n    </tr>\n  </thead>\n  <tbody>\n    <tr>\n      <th>0</th>\n      <td>01/06/1986</td>\n      <td>1.27</td>\n    </tr>\n    <tr>\n      <th>1</th>\n      <td>01/07/1986</td>\n      <td>1.95</td>\n    </tr>\n    <tr>\n      <th>2</th>\n      <td>01/08/1986</td>\n      <td>2.57</td>\n    </tr>\n    <tr>\n      <th>3</th>\n      <td>01/09/1986</td>\n      <td>2.94</td>\n    </tr>\n    <tr>\n      <th>4</th>\n      <td>01/10/1986</td>\n      <td>1.96</td>\n    </tr>\n    <tr>\n      <th>...</th>\n      <td>...</td>\n      <td>...</td>\n    </tr>\n    <tr>\n      <th>411</th>\n      <td>01/09/2020</td>\n      <td>0.16</td>\n    </tr>\n    <tr>\n      <th>412</th>\n      <td>01/10/2020</td>\n      <td>0.16</td>\n    </tr>\n    <tr>\n      <th>413</th>\n      <td>01/11/2020</td>\n      <td>0.15</td>\n    </tr>\n    <tr>\n      <th>414</th>\n      <td>01/12/2020</td>\n      <td>0.16</td>\n    </tr>\n    <tr>\n      <th>415</th>\n      <td>01/01/2021</td>\n      <td>0.13</td>\n    </tr>\n  </tbody>\n</table>\n<p>416 rows × 2 columns</p>\n</div>"
     },
     "metadata": {},
     "execution_count": 32
    }
   ],
   "source": [
    "df = pd.read_json(\n",
    "    path_or_buf='https://api.bcb.gov.br/dados/serie/bcdata.sgs.4390/dados?formato=json')\n",
    "df"
   ]
  },
  {
   "source": [
    "## Primeiros Ajustes nos Dados"
   ],
   "cell_type": "markdown",
   "metadata": {}
  },
  {
   "cell_type": "code",
   "execution_count": 57,
   "metadata": {},
   "outputs": [
    {
     "output_type": "execute_result",
     "data": {
      "text/plain": [
       "              a     b\n",
       "0    01/06/1986  1,27\n",
       "1    01/07/1986  1,95\n",
       "2    01/08/1986  2,57\n",
       "3    01/09/1986  2,94\n",
       "4    01/10/1986  1,96\n",
       "..          ...   ...\n",
       "411  01/09/2020  0,16\n",
       "412  01/10/2020  0,16\n",
       "413  01/11/2020  0,15\n",
       "414  01/12/2020  0,16\n",
       "415  01/01/2021  0,13\n",
       "\n",
       "[416 rows x 2 columns]"
      ],
      "text/html": "<div>\n<style scoped>\n    .dataframe tbody tr th:only-of-type {\n        vertical-align: middle;\n    }\n\n    .dataframe tbody tr th {\n        vertical-align: top;\n    }\n\n    .dataframe thead th {\n        text-align: right;\n    }\n</style>\n<table border=\"1\" class=\"dataframe\">\n  <thead>\n    <tr style=\"text-align: right;\">\n      <th></th>\n      <th>a</th>\n      <th>b</th>\n    </tr>\n  </thead>\n  <tbody>\n    <tr>\n      <th>0</th>\n      <td>01/06/1986</td>\n      <td>1,27</td>\n    </tr>\n    <tr>\n      <th>1</th>\n      <td>01/07/1986</td>\n      <td>1,95</td>\n    </tr>\n    <tr>\n      <th>2</th>\n      <td>01/08/1986</td>\n      <td>2,57</td>\n    </tr>\n    <tr>\n      <th>3</th>\n      <td>01/09/1986</td>\n      <td>2,94</td>\n    </tr>\n    <tr>\n      <th>4</th>\n      <td>01/10/1986</td>\n      <td>1,96</td>\n    </tr>\n    <tr>\n      <th>...</th>\n      <td>...</td>\n      <td>...</td>\n    </tr>\n    <tr>\n      <th>411</th>\n      <td>01/09/2020</td>\n      <td>0,16</td>\n    </tr>\n    <tr>\n      <th>412</th>\n      <td>01/10/2020</td>\n      <td>0,16</td>\n    </tr>\n    <tr>\n      <th>413</th>\n      <td>01/11/2020</td>\n      <td>0,15</td>\n    </tr>\n    <tr>\n      <th>414</th>\n      <td>01/12/2020</td>\n      <td>0,16</td>\n    </tr>\n    <tr>\n      <th>415</th>\n      <td>01/01/2021</td>\n      <td>0,13</td>\n    </tr>\n  </tbody>\n</table>\n<p>416 rows × 2 columns</p>\n</div>"
     },
     "metadata": {},
     "execution_count": 57
    }
   ],
   "source": [
    "import numpy as np\n",
    "df = pd.read_csv(\n",
    "    filepath_or_buffer='dataset/bcb/selic.csv',\n",
    "    sep=None,\n",
    "    header=0,\n",
    "    names=['a', 'b'])\n",
    "df"
   ]
  },
  {
   "cell_type": "code",
   "execution_count": 58,
   "metadata": {},
   "outputs": [
    {
     "output_type": "execute_result",
     "data": {
      "text/plain": [
       "a    object\n",
       "b    object\n",
       "dtype: object"
      ]
     },
     "metadata": {},
     "execution_count": 58
    }
   ],
   "source": [
    "df.dtypes"
   ]
  },
  {
   "cell_type": "code",
   "execution_count": 52,
   "metadata": {},
   "outputs": [
    {
     "output_type": "execute_result",
     "data": {
      "text/plain": [
       "             a     b\n",
       "0   1986-01-06  1,27\n",
       "1   1986-01-07  1,95\n",
       "2   1986-01-08  2,57\n",
       "3   1986-01-09  2,94\n",
       "4   1986-01-10  1,96\n",
       "..         ...   ...\n",
       "411 2020-01-09  0,16\n",
       "412 2020-01-10  0,16\n",
       "413 2020-01-11  0,15\n",
       "414 2020-01-12  0,16\n",
       "415 2021-01-01  0,13\n",
       "\n",
       "[416 rows x 2 columns]"
      ],
      "text/html": "<div>\n<style scoped>\n    .dataframe tbody tr th:only-of-type {\n        vertical-align: middle;\n    }\n\n    .dataframe tbody tr th {\n        vertical-align: top;\n    }\n\n    .dataframe thead th {\n        text-align: right;\n    }\n</style>\n<table border=\"1\" class=\"dataframe\">\n  <thead>\n    <tr style=\"text-align: right;\">\n      <th></th>\n      <th>a</th>\n      <th>b</th>\n    </tr>\n  </thead>\n  <tbody>\n    <tr>\n      <th>0</th>\n      <td>1986-01-06</td>\n      <td>1,27</td>\n    </tr>\n    <tr>\n      <th>1</th>\n      <td>1986-01-07</td>\n      <td>1,95</td>\n    </tr>\n    <tr>\n      <th>2</th>\n      <td>1986-01-08</td>\n      <td>2,57</td>\n    </tr>\n    <tr>\n      <th>3</th>\n      <td>1986-01-09</td>\n      <td>2,94</td>\n    </tr>\n    <tr>\n      <th>4</th>\n      <td>1986-01-10</td>\n      <td>1,96</td>\n    </tr>\n    <tr>\n      <th>...</th>\n      <td>...</td>\n      <td>...</td>\n    </tr>\n    <tr>\n      <th>411</th>\n      <td>2020-01-09</td>\n      <td>0,16</td>\n    </tr>\n    <tr>\n      <th>412</th>\n      <td>2020-01-10</td>\n      <td>0,16</td>\n    </tr>\n    <tr>\n      <th>413</th>\n      <td>2020-01-11</td>\n      <td>0,15</td>\n    </tr>\n    <tr>\n      <th>414</th>\n      <td>2020-01-12</td>\n      <td>0,16</td>\n    </tr>\n    <tr>\n      <th>415</th>\n      <td>2021-01-01</td>\n      <td>0,13</td>\n    </tr>\n  </tbody>\n</table>\n<p>416 rows × 2 columns</p>\n</div>"
     },
     "metadata": {},
     "execution_count": 52
    }
   ],
   "source": [
    "df['a'] = pd.to_datetime(df['a'])\n",
    "df"
   ]
  },
  {
   "cell_type": "code",
   "execution_count": 53,
   "metadata": {},
   "outputs": [
    {
     "output_type": "execute_result",
     "data": {
      "text/plain": [
       "             a     b\n",
       "0   1986-01-06  1.27\n",
       "1   1986-01-07  1.95\n",
       "2   1986-01-08  2.57\n",
       "3   1986-01-09  2.94\n",
       "4   1986-01-10  1.96\n",
       "..         ...   ...\n",
       "411 2020-01-09  0.16\n",
       "412 2020-01-10  0.16\n",
       "413 2020-01-11  0.15\n",
       "414 2020-01-12  0.16\n",
       "415 2021-01-01  0.13\n",
       "\n",
       "[416 rows x 2 columns]"
      ],
      "text/html": "<div>\n<style scoped>\n    .dataframe tbody tr th:only-of-type {\n        vertical-align: middle;\n    }\n\n    .dataframe tbody tr th {\n        vertical-align: top;\n    }\n\n    .dataframe thead th {\n        text-align: right;\n    }\n</style>\n<table border=\"1\" class=\"dataframe\">\n  <thead>\n    <tr style=\"text-align: right;\">\n      <th></th>\n      <th>a</th>\n      <th>b</th>\n    </tr>\n  </thead>\n  <tbody>\n    <tr>\n      <th>0</th>\n      <td>1986-01-06</td>\n      <td>1.27</td>\n    </tr>\n    <tr>\n      <th>1</th>\n      <td>1986-01-07</td>\n      <td>1.95</td>\n    </tr>\n    <tr>\n      <th>2</th>\n      <td>1986-01-08</td>\n      <td>2.57</td>\n    </tr>\n    <tr>\n      <th>3</th>\n      <td>1986-01-09</td>\n      <td>2.94</td>\n    </tr>\n    <tr>\n      <th>4</th>\n      <td>1986-01-10</td>\n      <td>1.96</td>\n    </tr>\n    <tr>\n      <th>...</th>\n      <td>...</td>\n      <td>...</td>\n    </tr>\n    <tr>\n      <th>411</th>\n      <td>2020-01-09</td>\n      <td>0.16</td>\n    </tr>\n    <tr>\n      <th>412</th>\n      <td>2020-01-10</td>\n      <td>0.16</td>\n    </tr>\n    <tr>\n      <th>413</th>\n      <td>2020-01-11</td>\n      <td>0.15</td>\n    </tr>\n    <tr>\n      <th>414</th>\n      <td>2020-01-12</td>\n      <td>0.16</td>\n    </tr>\n    <tr>\n      <th>415</th>\n      <td>2021-01-01</td>\n      <td>0.13</td>\n    </tr>\n  </tbody>\n</table>\n<p>416 rows × 2 columns</p>\n</div>"
     },
     "metadata": {},
     "execution_count": 53
    }
   ],
   "source": [
    "df['b'] = df['b'].str.replace(',', '.')\n",
    "df"
   ]
  },
  {
   "cell_type": "code",
   "execution_count": 55,
   "metadata": {},
   "outputs": [
    {
     "output_type": "execute_result",
     "data": {
      "text/plain": [
       "             a     b\n",
       "0   1986-01-06  1.27\n",
       "1   1986-01-07  1.95\n",
       "2   1986-01-08  2.57\n",
       "3   1986-01-09  2.94\n",
       "4   1986-01-10  1.96\n",
       "..         ...   ...\n",
       "411 2020-01-09  0.16\n",
       "412 2020-01-10  0.16\n",
       "413 2020-01-11  0.15\n",
       "414 2020-01-12  0.16\n",
       "415 2021-01-01  0.13\n",
       "\n",
       "[416 rows x 2 columns]"
      ],
      "text/html": "<div>\n<style scoped>\n    .dataframe tbody tr th:only-of-type {\n        vertical-align: middle;\n    }\n\n    .dataframe tbody tr th {\n        vertical-align: top;\n    }\n\n    .dataframe thead th {\n        text-align: right;\n    }\n</style>\n<table border=\"1\" class=\"dataframe\">\n  <thead>\n    <tr style=\"text-align: right;\">\n      <th></th>\n      <th>a</th>\n      <th>b</th>\n    </tr>\n  </thead>\n  <tbody>\n    <tr>\n      <th>0</th>\n      <td>1986-01-06</td>\n      <td>1.27</td>\n    </tr>\n    <tr>\n      <th>1</th>\n      <td>1986-01-07</td>\n      <td>1.95</td>\n    </tr>\n    <tr>\n      <th>2</th>\n      <td>1986-01-08</td>\n      <td>2.57</td>\n    </tr>\n    <tr>\n      <th>3</th>\n      <td>1986-01-09</td>\n      <td>2.94</td>\n    </tr>\n    <tr>\n      <th>4</th>\n      <td>1986-01-10</td>\n      <td>1.96</td>\n    </tr>\n    <tr>\n      <th>...</th>\n      <td>...</td>\n      <td>...</td>\n    </tr>\n    <tr>\n      <th>411</th>\n      <td>2020-01-09</td>\n      <td>0.16</td>\n    </tr>\n    <tr>\n      <th>412</th>\n      <td>2020-01-10</td>\n      <td>0.16</td>\n    </tr>\n    <tr>\n      <th>413</th>\n      <td>2020-01-11</td>\n      <td>0.15</td>\n    </tr>\n    <tr>\n      <th>414</th>\n      <td>2020-01-12</td>\n      <td>0.16</td>\n    </tr>\n    <tr>\n      <th>415</th>\n      <td>2021-01-01</td>\n      <td>0.13</td>\n    </tr>\n  </tbody>\n</table>\n<p>416 rows × 2 columns</p>\n</div>"
     },
     "metadata": {},
     "execution_count": 55
    }
   ],
   "source": [
    "df['b'] = pd.to_numeric(df['b'])\n",
    "df"
   ]
  }
 ]
}