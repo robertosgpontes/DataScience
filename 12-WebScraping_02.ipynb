{
 "cells": [
  {
   "cell_type": "code",
   "execution_count": 2,
   "metadata": {},
   "outputs": [],
   "source": [
    "import requests\n",
    "from bs4 import BeautifulSoup, Comment\n",
    "import pandas as pd\n",
    "import re\n",
    "import numpy as np"
   ]
  },
  {
   "cell_type": "code",
   "execution_count": 3,
   "metadata": {},
   "outputs": [],
   "source": [
    "r = requests.get('https://www.barrashopping.com.br/lojas')\n",
    "r.encoding = r.apparent_encoding\n",
    "soup = BeautifulSoup(r.text, \"html.parser\")"
   ]
  },
  {
   "cell_type": "code",
   "execution_count": 4,
   "metadata": {},
   "outputs": [],
   "source": [
    "lis = soup.find_all('li', class_='establishment')"
   ]
  },
  {
   "cell_type": "code",
   "execution_count": 5,
   "metadata": {},
   "outputs": [
    {
     "name": "stdout",
     "output_type": "stream",
     "text": [
      "<class 'pandas.core.frame.DataFrame'>\n",
      "RangeIndex: 537 entries, 0 to 536\n",
      "Data columns (total 2 columns):\n",
      " #   Column  Non-Null Count  Dtype \n",
      "---  ------  --------------  ----- \n",
      " 0   titulo  537 non-null    object\n",
      " 1   tel     537 non-null    object\n",
      "dtypes: object(2)\n",
      "memory usage: 8.5+ KB\n"
     ]
    }
   ],
   "source": [
    "ldf = []\n",
    "for i in lis:\n",
    "    s2 = BeautifulSoup(str(i), \"html.parser\")\n",
    "    \n",
    "    ldf.append([s2.find_all('p', class_='nameRegex hide')[0].text,\n",
    "                s2.find_all('a', class_='details')[0].text])\n",
    "\n",
    "df = pd.DataFrame(ldf, columns=['titulo', 'tel'])\n",
    "\n",
    "df.info()"
   ]
  },
  {
   "cell_type": "code",
   "execution_count": 6,
   "metadata": {},
   "outputs": [
    {
     "name": "stdout",
     "output_type": "stream",
     "text": [
      "<class 'pandas.core.frame.DataFrame'>\n",
      "RangeIndex: 537 entries, 0 to 536\n",
      "Data columns (total 2 columns):\n",
      " #   Column  Non-Null Count  Dtype \n",
      "---  ------  --------------  ----- \n",
      " 0   titulo  537 non-null    object\n",
      " 1   tel     435 non-null    object\n",
      "dtypes: object(2)\n",
      "memory usage: 8.5+ KB\n"
     ]
    }
   ],
   "source": [
    "df.replace('Ver mais detalhes',np.NaN, inplace=True)\n",
    "df.info()"
   ]
  },
  {
   "cell_type": "code",
   "execution_count": 11,
   "metadata": {},
   "outputs": [],
   "source": [
    "ldf = []\n",
    "\n",
    "for l in lis:\n",
    "    dados = []\n",
    "    s2 = BeautifulSoup(str(l), \"html.parser\")\n",
    "\n",
    "    dados.append(s2.find_all('p', class_='nameRegex hide')[0].text)\n",
    "\n",
    "    contatos = s2.find_all('a', class_='details')\n",
    "\n",
    "    for c in contatos:\n",
    "\n",
    "        if len(dados) == 1 and c.text == \"Ver mais detalhes\":\n",
    "            continue\n",
    "        \n",
    "        if c.text == \"Ver mais detalhes\":\n",
    "            continue\n",
    "        \n",
    "        dados.append(c.text)\n",
    "    \n",
    "    #print(dados)\n",
    "    ldf.append(dados)"
   ]
  },
  {
   "cell_type": "code",
   "execution_count": 12,
   "metadata": {},
   "outputs": [],
   "source": [
    "df = pd.DataFrame(ldf)"
   ]
  },
  {
   "cell_type": "code",
   "execution_count": 13,
   "metadata": {},
   "outputs": [
    {
     "name": "stdout",
     "output_type": "stream",
     "text": [
      "<class 'pandas.core.frame.DataFrame'>\n",
      "RangeIndex: 537 entries, 0 to 536\n",
      "Data columns (total 5 columns):\n",
      " #   Column  Non-Null Count  Dtype \n",
      "---  ------  --------------  ----- \n",
      " 0   0       537 non-null    object\n",
      " 1   1       435 non-null    object\n",
      " 2   2       120 non-null    object\n",
      " 3   3       21 non-null     object\n",
      " 4   4       5 non-null      object\n",
      "dtypes: object(5)\n",
      "memory usage: 21.1+ KB\n"
     ]
    }
   ],
   "source": [
    "df.info()"
   ]
  },
  {
   "cell_type": "code",
   "execution_count": 17,
   "metadata": {},
   "outputs": [
    {
     "name": "stdout",
     "output_type": "stream",
     "text": [
      "https://www.instagram.com/moomboxbrasil/\n",
      "http://moombox.com.br\n",
      "https://www.vxcase.com.br/\n",
      "https://www.vxcase.com.br/\n",
      "https://www.vxcase.com.br/\n",
      "https://www.vxcase.com.br/\n"
     ]
    }
   ],
   "source": [
    "ldf = []\n",
    "cont = 0\n",
    "\n",
    "re_url = re.compile('^http|^https', re.IGNORECASE)\n",
    "\n",
    "for l in lis:\n",
    "    dados = []\n",
    "    s2 = BeautifulSoup(str(l), \"html.parser\")\n",
    "\n",
    "    dados.append(s2.find_all('p', class_='nameRegex hide')[0].text)\n",
    "\n",
    "    contatos = s2.find_all('a', class_='details')\n",
    "\n",
    "    for c in contatos:\n",
    "        \n",
    "        if bool(re_url.match(c.text)):\n",
    "            print(c.text)\n",
    "            continue\n",
    "\n",
    "        if len(dados) == 1 and c.text == \"Ver mais detalhes\":\n",
    "            continue\n",
    "        \n",
    "        if c.text == \"Ver mais detalhes\":\n",
    "            continue\n",
    "        \n",
    "        dados.append(c.text)\n",
    "        \n",
    "    #print(dados)\n",
    "    ldf.append(dados)"
   ]
  },
  {
   "cell_type": "code",
   "execution_count": 15,
   "metadata": {},
   "outputs": [],
   "source": [
    "df = pd.DataFrame(ldf)"
   ]
  },
  {
   "cell_type": "code",
   "execution_count": 16,
   "metadata": {},
   "outputs": [
    {
     "name": "stdout",
     "output_type": "stream",
     "text": [
      "<class 'pandas.core.frame.DataFrame'>\n",
      "RangeIndex: 537 entries, 0 to 536\n",
      "Data columns (total 5 columns):\n",
      " #   Column  Non-Null Count  Dtype \n",
      "---  ------  --------------  ----- \n",
      " 0   0       537 non-null    object\n",
      " 1   1       433 non-null    object\n",
      " 2   2       118 non-null    object\n",
      " 3   3       20 non-null     object\n",
      " 4   4       4 non-null      object\n",
      "dtypes: object(5)\n",
      "memory usage: 21.1+ KB\n"
     ]
    }
   ],
   "source": [
    "df.info()"
   ]
  },
  {
   "cell_type": "code",
   "execution_count": 18,
   "metadata": {},
   "outputs": [],
   "source": [
    "ldf = []\n",
    "cont = 0\n",
    "\n",
    "re_url = re.compile('^http|^https', re.IGNORECASE)\n",
    "re_email = re.compile('^[a-z0-9]+[\\._]?[a-z0-9]+[@]\\w+[.]\\w+$|^[a-z0-9]+[\\._]?[a-z0-9]+[@]\\w+[.]\\w+[.]\\w+$', re.IGNORECASE)\n",
    "\n",
    "\n",
    "for l in lis:\n",
    "    dados = []\n",
    "    s2 = BeautifulSoup(str(l), \"html.parser\")\n",
    "\n",
    "    dados.append(s2.find_all('p', class_='nameRegex hide')[0].text)\n",
    "\n",
    "    contatos = s2.find_all('a', class_='details')\n",
    "\n",
    "    for c in contatos:\n",
    "\n",
    "        if len(dados) == 1 and c.text == \"Ver mais detalhes\":\n",
    "            continue\n",
    "        \n",
    "        if c.text == \"Ver mais detalhes\":\n",
    "            continue\n",
    "        \n",
    "        if bool(re_url.match(c.text)):\n",
    "            continue\n",
    "\n",
    "        if bool(re_email.match(c.text)):\n",
    "            while len(dados) < 5:\n",
    "                dados.append(np.NaN)\n",
    "\n",
    "        dados.append(c.text)\n",
    "    \n",
    "    #print(dados)\n",
    "    ldf.append(dados)"
   ]
  },
  {
   "cell_type": "code",
   "execution_count": 19,
   "metadata": {},
   "outputs": [],
   "source": [
    "df = pd.DataFrame(ldf, columns=['Loja', 'Tel1', 'Tel2', 'Tel3', 'Tel4', 'Email'])"
   ]
  },
  {
   "cell_type": "code",
   "execution_count": 20,
   "metadata": {},
   "outputs": [
    {
     "name": "stdout",
     "output_type": "stream",
     "text": [
      "<class 'pandas.core.frame.DataFrame'>\n",
      "RangeIndex: 537 entries, 0 to 536\n",
      "Data columns (total 6 columns):\n",
      " #   Column  Non-Null Count  Dtype \n",
      "---  ------  --------------  ----- \n",
      " 0   Loja    537 non-null    object\n",
      " 1   Tel1    433 non-null    object\n",
      " 2   Tel2    116 non-null    object\n",
      " 3   Tel3    20 non-null     object\n",
      " 4   Tel4    4 non-null      object\n",
      " 5   Email   2 non-null      object\n",
      "dtypes: object(6)\n",
      "memory usage: 25.3+ KB\n"
     ]
    }
   ],
   "source": [
    "df.info()"
   ]
  },
  {
   "cell_type": "code",
   "execution_count": 21,
   "metadata": {},
   "outputs": [
    {
     "data": {
      "text/html": [
       "<div>\n",
       "<style scoped>\n",
       "    .dataframe tbody tr th:only-of-type {\n",
       "        vertical-align: middle;\n",
       "    }\n",
       "\n",
       "    .dataframe tbody tr th {\n",
       "        vertical-align: top;\n",
       "    }\n",
       "\n",
       "    .dataframe thead th {\n",
       "        text-align: right;\n",
       "    }\n",
       "</style>\n",
       "<table border=\"1\" class=\"dataframe\">\n",
       "  <thead>\n",
       "    <tr style=\"text-align: right;\">\n",
       "      <th></th>\n",
       "      <th>Loja</th>\n",
       "      <th>Tel1</th>\n",
       "      <th>Tel2</th>\n",
       "      <th>Tel3</th>\n",
       "      <th>Tel4</th>\n",
       "      <th>Email</th>\n",
       "    </tr>\n",
       "  </thead>\n",
       "  <tbody>\n",
       "    <tr>\n",
       "      <th>0</th>\n",
       "      <td>18 Kilates</td>\n",
       "      <td>(21) 2431-8101</td>\n",
       "      <td>None</td>\n",
       "      <td>None</td>\n",
       "      <td>None</td>\n",
       "      <td>None</td>\n",
       "    </tr>\n",
       "    <tr>\n",
       "      <th>1</th>\n",
       "      <td>4 Cantos Cambio e Turismo</td>\n",
       "      <td>(21) 3190-3969</td>\n",
       "      <td>None</td>\n",
       "      <td>None</td>\n",
       "      <td>None</td>\n",
       "      <td>None</td>\n",
       "    </tr>\n",
       "    <tr>\n",
       "      <th>2</th>\n",
       "      <td>55 rj</td>\n",
       "      <td>None</td>\n",
       "      <td>None</td>\n",
       "      <td>None</td>\n",
       "      <td>None</td>\n",
       "      <td>None</td>\n",
       "    </tr>\n",
       "    <tr>\n",
       "      <th>3</th>\n",
       "      <td>Abbraccio (em Breve )</td>\n",
       "      <td>None</td>\n",
       "      <td>None</td>\n",
       "      <td>None</td>\n",
       "      <td>None</td>\n",
       "      <td>None</td>\n",
       "    </tr>\n",
       "    <tr>\n",
       "      <th>4</th>\n",
       "      <td>Abreu</td>\n",
       "      <td>None</td>\n",
       "      <td>None</td>\n",
       "      <td>None</td>\n",
       "      <td>None</td>\n",
       "      <td>None</td>\n",
       "    </tr>\n",
       "    <tr>\n",
       "      <th>...</th>\n",
       "      <td>...</td>\n",
       "      <td>...</td>\n",
       "      <td>...</td>\n",
       "      <td>...</td>\n",
       "      <td>...</td>\n",
       "      <td>...</td>\n",
       "    </tr>\n",
       "    <tr>\n",
       "      <th>532</th>\n",
       "      <td>Zara</td>\n",
       "      <td>(21) 2431-8926</td>\n",
       "      <td>None</td>\n",
       "      <td>None</td>\n",
       "      <td>None</td>\n",
       "      <td>None</td>\n",
       "    </tr>\n",
       "    <tr>\n",
       "      <th>533</th>\n",
       "      <td>Zee. Dog (Stand)</td>\n",
       "      <td>(21) 3153-7836</td>\n",
       "      <td>None</td>\n",
       "      <td>None</td>\n",
       "      <td>None</td>\n",
       "      <td>None</td>\n",
       "    </tr>\n",
       "    <tr>\n",
       "      <th>534</th>\n",
       "      <td>Zelo</td>\n",
       "      <td>21 97025-4349</td>\n",
       "      <td>None</td>\n",
       "      <td>None</td>\n",
       "      <td>None</td>\n",
       "      <td>None</td>\n",
       "    </tr>\n",
       "    <tr>\n",
       "      <th>535</th>\n",
       "      <td>Zinzane</td>\n",
       "      <td>(21) 99461-7324</td>\n",
       "      <td>None</td>\n",
       "      <td>None</td>\n",
       "      <td>None</td>\n",
       "      <td>None</td>\n",
       "    </tr>\n",
       "    <tr>\n",
       "      <th>536</th>\n",
       "      <td>Zux</td>\n",
       "      <td>(21) 2408-3014</td>\n",
       "      <td>None</td>\n",
       "      <td>None</td>\n",
       "      <td>None</td>\n",
       "      <td>None</td>\n",
       "    </tr>\n",
       "  </tbody>\n",
       "</table>\n",
       "<p>537 rows × 6 columns</p>\n",
       "</div>"
      ],
      "text/plain": [
       "                           Loja             Tel1  Tel2  Tel3  Tel4 Email\n",
       "0                   18 Kilates    (21) 2431-8101  None  None  None  None\n",
       "1    4 Cantos Cambio e Turismo    (21) 3190-3969  None  None  None  None\n",
       "2                        55 rj              None  None  None  None  None\n",
       "3        Abbraccio (em Breve )              None  None  None  None  None\n",
       "4                        Abreu              None  None  None  None  None\n",
       "..                          ...              ...   ...   ...   ...   ...\n",
       "532                       Zara    (21) 2431-8926  None  None  None  None\n",
       "533           Zee. Dog (Stand)    (21) 3153-7836  None  None  None  None\n",
       "534                       Zelo     21 97025-4349  None  None  None  None\n",
       "535                    Zinzane   (21) 99461-7324  None  None  None  None\n",
       "536                        Zux    (21) 2408-3014  None  None  None  None\n",
       "\n",
       "[537 rows x 6 columns]"
      ]
     },
     "execution_count": 21,
     "metadata": {},
     "output_type": "execute_result"
    }
   ],
   "source": [
    "df"
   ]
  },
  {
   "cell_type": "markdown",
   "metadata": {},
   "source": [
    "Leitura Complementar:\n",
    "\n",
    "https://www.geeksforgeeks.org/check-if-email-address-valid-or-not-in-python/\n",
    "\n"
   ]
  }
 ],
 "metadata": {
  "kernelspec": {
   "display_name": "Python 3.8.5 64-bit ('datascience': venv)",
   "language": "python",
   "name": "python38564bitdatasciencevenvc6b0070e1aa0499bb925ccbdc2a8bca5"
  },
  "language_info": {
   "codemirror_mode": {
    "name": "ipython",
    "version": 3
   },
   "file_extension": ".py",
   "mimetype": "text/x-python",
   "name": "python",
   "nbconvert_exporter": "python",
   "pygments_lexer": "ipython3",
   "version": "3.8.5"
  }
 },
 "nbformat": 4,
 "nbformat_minor": 4
}
